{
  "cells": [
    {
      "cell_type": "markdown",
      "id": "a5cc8190",
      "metadata": {
        "id": "a5cc8190"
      },
      "source": [
        "# Consumer Finance Case Study​\n",
        "\n",
        "Dan Philps PhD CFA"
      ]
    },
    {
      "cell_type": "markdown",
      "source": [
        "In this code lab we will develop models to predict bad consumer credits for driving fair and interpretable lending decisions. We develop the models within the 5 stage Governance Framework, and explain how models can be validated, monitored and made to be fair.\n",
        "\n",
        "The pace will be fast but feel free to experiment with the code to get a feel for the principles of best practice.\n",
        "\n",
        "\n",
        "Dataset: Credit risk https://datahub.io/machine-learning/credit-g, contributed by Dr. Hans Hofmann, UCI German Credit Data. UCI Machine Learning Repository [http://archive.ics.uci.edu/ml]. Irvine, CA: University of California, School of Information and Computer Science."
      ],
      "metadata": {
        "id": "MfJfdlTlohXf"
      },
      "id": "MfJfdlTlohXf"
    },
    {
      "cell_type": "code",
      "execution_count": 1,
      "id": "35f08271",
      "metadata": {
        "id": "35f08271"
      },
      "outputs": [],
      "source": [
        "# import the main packages we will need\n",
        "# package for working with tabular data\n",
        "import pandas as pd \n",
        "import numpy as np\n",
        "\n",
        "# Package for charting\n",
        "import matplotlib.pyplot as plt\n",
        "import seaborn as sns #charts\n",
        "\n",
        "# package for timing runtime\n",
        "import time\n",
        "\n",
        "# package for navigating the operating system\n",
        "import os"
      ]
    },
    {
      "cell_type": "code",
      "source": [
        "# We may have to install SHAP, an explainable AI (XAI) package onto your machine (or your Google Colab session if you are running this notebook in Colabl)\n",
        "!pip install shap\n",
        "import shap"
      ],
      "metadata": {
        "colab": {
          "base_uri": "https://localhost:8080/"
        },
        "id": "dTROkX0WobxD",
        "outputId": "fc0bc6d4-0ac0-4790-9f7d-58ed6eb96e93"
      },
      "id": "dTROkX0WobxD",
      "execution_count": 2,
      "outputs": [
        {
          "output_type": "stream",
          "name": "stdout",
          "text": [
            "Looking in indexes: https://pypi.org/simple, https://us-python.pkg.dev/colab-wheels/public/simple/\n",
            "Collecting shap\n",
            "  Downloading shap-0.41.0-cp38-cp38-manylinux_2_12_x86_64.manylinux2010_x86_64.whl (575 kB)\n",
            "\u001b[K     |████████████████████████████████| 575 kB 4.9 MB/s \n",
            "\u001b[?25hRequirement already satisfied: numba in /usr/local/lib/python3.8/dist-packages (from shap) (0.56.4)\n",
            "Requirement already satisfied: scikit-learn in /usr/local/lib/python3.8/dist-packages (from shap) (1.0.2)\n",
            "Requirement already satisfied: scipy in /usr/local/lib/python3.8/dist-packages (from shap) (1.7.3)\n",
            "Requirement already satisfied: pandas in /usr/local/lib/python3.8/dist-packages (from shap) (1.3.5)\n",
            "Collecting slicer==0.0.7\n",
            "  Downloading slicer-0.0.7-py3-none-any.whl (14 kB)\n",
            "Requirement already satisfied: numpy in /usr/local/lib/python3.8/dist-packages (from shap) (1.21.6)\n",
            "Requirement already satisfied: packaging>20.9 in /usr/local/lib/python3.8/dist-packages (from shap) (21.3)\n",
            "Requirement already satisfied: cloudpickle in /usr/local/lib/python3.8/dist-packages (from shap) (1.5.0)\n",
            "Requirement already satisfied: tqdm>4.25.0 in /usr/local/lib/python3.8/dist-packages (from shap) (4.64.1)\n",
            "Requirement already satisfied: pyparsing!=3.0.5,>=2.0.2 in /usr/local/lib/python3.8/dist-packages (from packaging>20.9->shap) (3.0.9)\n",
            "Requirement already satisfied: importlib-metadata in /usr/local/lib/python3.8/dist-packages (from numba->shap) (5.1.0)\n",
            "Requirement already satisfied: llvmlite<0.40,>=0.39.0dev0 in /usr/local/lib/python3.8/dist-packages (from numba->shap) (0.39.1)\n",
            "Requirement already satisfied: setuptools in /usr/local/lib/python3.8/dist-packages (from numba->shap) (57.4.0)\n",
            "Requirement already satisfied: zipp>=0.5 in /usr/local/lib/python3.8/dist-packages (from importlib-metadata->numba->shap) (3.11.0)\n",
            "Requirement already satisfied: python-dateutil>=2.7.3 in /usr/local/lib/python3.8/dist-packages (from pandas->shap) (2.8.2)\n",
            "Requirement already satisfied: pytz>=2017.3 in /usr/local/lib/python3.8/dist-packages (from pandas->shap) (2022.6)\n",
            "Requirement already satisfied: six>=1.5 in /usr/local/lib/python3.8/dist-packages (from python-dateutil>=2.7.3->pandas->shap) (1.15.0)\n",
            "Requirement already satisfied: joblib>=0.11 in /usr/local/lib/python3.8/dist-packages (from scikit-learn->shap) (1.2.0)\n",
            "Requirement already satisfied: threadpoolctl>=2.0.0 in /usr/local/lib/python3.8/dist-packages (from scikit-learn->shap) (3.1.0)\n",
            "Installing collected packages: slicer, shap\n",
            "Successfully installed shap-0.41.0 slicer-0.0.7\n"
          ]
        }
      ]
    },
    {
      "cell_type": "markdown",
      "id": "JE0VW_oeVnah",
      "metadata": {
        "id": "JE0VW_oeVnah"
      },
      "source": [
        "## Github Repo\n",
        "Many of the functions we use in this notebook are wrapped up in three functional classes on the FinGov repository. For students with coding background and the interest, we encourage you to review these classes and functions."
      ]
    },
    {
      "cell_type": "code",
      "source": [
        "# Clone the FinGov repo which has key utility functions for this notebook\n",
        "if os.path.exists('FinGov') == False:\n",
        "  !git clone https://github.com/danphilps/FinGov\n",
        "\n",
        "# Now import the objects from the repo\n",
        "os.chdir('FinGov')\n",
        "from StakeholderKPIReporting import StakeholderKPIReporting\n",
        "from GovernanceUtils import GovernanceUtils\n",
        "from FairnessUtils import FairnessUtils\n",
        "\n",
        "import CFACreditUseCaseUtils\n"
      ],
      "metadata": {
        "colab": {
          "base_uri": "https://localhost:8080/"
        },
        "id": "uunH93sCCS1W",
        "outputId": "5db1f79f-c1c2-49a4-e4cd-d3673250ba7a"
      },
      "id": "uunH93sCCS1W",
      "execution_count": 3,
      "outputs": [
        {
          "output_type": "stream",
          "name": "stdout",
          "text": [
            "Cloning into 'FinGov'...\n",
            "remote: Enumerating objects: 369, done.\u001b[K\n",
            "remote: Counting objects: 100% (232/232), done.\u001b[K\n",
            "remote: Compressing objects: 100% (138/138), done.\u001b[K\n",
            "remote: Total 369 (delta 144), reused 151 (delta 94), pack-reused 137\u001b[K\n",
            "Receiving objects: 100% (369/369), 157.93 KiB | 3.59 MiB/s, done.\n",
            "Resolving deltas: 100% (220/220), done.\n"
          ]
        }
      ]
    },
    {
      "cell_type": "markdown",
      "id": "rDXnNSIt5GUs",
      "metadata": {
        "id": "rDXnNSIt5GUs"
      },
      "source": [
        "# Stage1. Business Case \n"
      ]
    },
    {
      "cell_type": "markdown",
      "source": [
        "##Key Performance Indicators\n",
        "\n",
        "- **Customer KPI (Fairness):** Customers are disadvantaged by false positives (FP), where a perfectly good applicant is predicted as a bad credit, so denied a loan. Precision is a measure that can be used to ensure that the false positives are consistent across various groups.\n",
        "\n",
        "- **The lending institution KPI (Risk Management):** For proper risk management, the lender needs to reduce false negatives (FN), a bad applicant predicted as a good credit, who receives a loan then defaults. This means that model recall should be maximized, which would indicate minimal false negatives.\n",
        "\n",
        "- **Compliance and Regulatory KPI (Fairness):** Regulatory KPIs are considered to focus on fairness (similar to the customer KPI above).\n",
        "\n",
        "\n",
        "\n",
        "![image.png](data:image/png;base64,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)\n",
        "(Source: Wikipedia)\n",
        "\n"
      ],
      "metadata": {
        "id": "PGuOF1tFHzyG"
      },
      "id": "PGuOF1tFHzyG"
    },
    {
      "cell_type": "markdown",
      "id": "_DfUFfsmFWh5",
      "metadata": {
        "id": "_DfUFfsmFWh5"
      },
      "source": [
        "# Stage2. Data\n",
        "\n",
        "Next we load the data we need to achieve our business aims, wrangle it and prepare it."
      ]
    },
    {
      "cell_type": "markdown",
      "id": "z_M1xrqYGCJ9",
      "metadata": {
        "id": "z_M1xrqYGCJ9"
      },
      "source": [
        "## Stage2a. Load Data"
      ]
    },
    {
      "cell_type": "code",
      "execution_count": 4,
      "id": "LusHe3a2BF_t",
      "metadata": {
        "id": "LusHe3a2BF_t"
      },
      "outputs": [],
      "source": [
        "# Load the data from out GitHub repo...\n",
        "loc = \"data/credit-g.csv\"\n",
        "df_raw = pd.read_csv('https://raw.githubusercontent.com/danphilps/FinGov/main/data/credit-g.csv')"
      ]
    },
    {
      "cell_type": "markdown",
      "id": "bdd49632",
      "metadata": {
        "id": "bdd49632"
      },
      "source": [
        "## Stage2b. Data Wrangling and Preprocessing\n",
        "\n",
        "Data Wrangling: Convert categorical data into one-hot-encodings, clean characters from numeric data columns, carry out type conversions into numeric datatypes... all to ensure our ML can ingest and use the data we provide it with. The following cell shows the appropriate data wrangling to get our data into a good shape. "
      ]
    },
    {
      "cell_type": "code",
      "execution_count": 5,
      "id": "c62115a2",
      "metadata": {
        "id": "c62115a2",
        "scrolled": true,
        "colab": {
          "base_uri": "https://localhost:8080/",
          "height": 557
        },
        "outputId": "434050cc-7a62-4f94-f79b-6bec4bddd6af"
      },
      "outputs": [
        {
          "output_type": "execute_result",
          "data": {
            "text/plain": [
              "     duration  credit_amount  installment_commitment     personal_status  \\\n",
              "0           6           1169                       4         male single   \n",
              "1          48           5951                       2  female div/dep/mar   \n",
              "2          12           2096                       2         male single   \n",
              "3          42           7882                       2         male single   \n",
              "4          24           4870                       3         male single   \n",
              "..        ...            ...                     ...                 ...   \n",
              "995        12           1736                       3  female div/dep/mar   \n",
              "996        30           3857                       4        male div/sep   \n",
              "997        12            804                       4         male single   \n",
              "998        45           1845                       4         male single   \n",
              "999        45           4576                       3         male single   \n",
              "\n",
              "     residence_since  age  existing_credits  num_dependents  foreign_worker  \\\n",
              "0                  4   67                 2               1               1   \n",
              "1                  2   22                 1               1               1   \n",
              "2                  3   49                 1               2               1   \n",
              "3                  4   45                 1               2               1   \n",
              "4                  4   53                 2               2               1   \n",
              "..               ...  ...               ...             ...             ...   \n",
              "995                4   31                 1               1               1   \n",
              "996                4   40                 1               1               1   \n",
              "997                4   38                 1               1               1   \n",
              "998                4   23                 1               1               1   \n",
              "999                4   27                 1               1               1   \n",
              "\n",
              "     class  ...  other_payment_plans_stores  housing_for free  housing_own  \\\n",
              "0        0  ...                           0                 0            1   \n",
              "1        1  ...                           0                 0            1   \n",
              "2        0  ...                           0                 0            1   \n",
              "3        0  ...                           0                 1            0   \n",
              "4        1  ...                           0                 1            0   \n",
              "..     ...  ...                         ...               ...          ...   \n",
              "995      0  ...                           0                 0            1   \n",
              "996      0  ...                           0                 0            1   \n",
              "997      0  ...                           0                 0            1   \n",
              "998      1  ...                           0                 1            0   \n",
              "999      0  ...                           0                 0            1   \n",
              "\n",
              "     housing_rent  job_high qualif/self emp/mgmt  job_skilled  \\\n",
              "0               0                              0            1   \n",
              "1               0                              0            1   \n",
              "2               0                              0            0   \n",
              "3               0                              0            1   \n",
              "4               0                              0            1   \n",
              "..            ...                            ...          ...   \n",
              "995             0                              0            0   \n",
              "996             0                              1            0   \n",
              "997             0                              0            1   \n",
              "998             0                              0            1   \n",
              "999             0                              0            1   \n",
              "\n",
              "     job_unemp/unskilled non res  job_unskilled resident  own_telephone_none  \\\n",
              "0                              0                       0                   0   \n",
              "1                              0                       0                   1   \n",
              "2                              0                       1                   1   \n",
              "3                              0                       0                   1   \n",
              "4                              0                       0                   1   \n",
              "..                           ...                     ...                 ...   \n",
              "995                            0                       1                   1   \n",
              "996                            0                       0                   0   \n",
              "997                            0                       0                   1   \n",
              "998                            0                       0                   0   \n",
              "999                            0                       0                   1   \n",
              "\n",
              "     own_telephone_yes  \n",
              "0                    1  \n",
              "1                    0  \n",
              "2                    0  \n",
              "3                    0  \n",
              "4                    0  \n",
              "..                 ...  \n",
              "995                  0  \n",
              "996                  1  \n",
              "997                  0  \n",
              "998                  1  \n",
              "999                  0  \n",
              "\n",
              "[1000 rows x 58 columns]"
            ],
            "text/html": [
              "\n",
              "  <div id=\"df-b4b06fbd-21bd-4753-ae6d-0d4581f58ee0\">\n",
              "    <div class=\"colab-df-container\">\n",
              "      <div>\n",
              "<style scoped>\n",
              "    .dataframe tbody tr th:only-of-type {\n",
              "        vertical-align: middle;\n",
              "    }\n",
              "\n",
              "    .dataframe tbody tr th {\n",
              "        vertical-align: top;\n",
              "    }\n",
              "\n",
              "    .dataframe thead th {\n",
              "        text-align: right;\n",
              "    }\n",
              "</style>\n",
              "<table border=\"1\" class=\"dataframe\">\n",
              "  <thead>\n",
              "    <tr style=\"text-align: right;\">\n",
              "      <th></th>\n",
              "      <th>duration</th>\n",
              "      <th>credit_amount</th>\n",
              "      <th>installment_commitment</th>\n",
              "      <th>personal_status</th>\n",
              "      <th>residence_since</th>\n",
              "      <th>age</th>\n",
              "      <th>existing_credits</th>\n",
              "      <th>num_dependents</th>\n",
              "      <th>foreign_worker</th>\n",
              "      <th>class</th>\n",
              "      <th>...</th>\n",
              "      <th>other_payment_plans_stores</th>\n",
              "      <th>housing_for free</th>\n",
              "      <th>housing_own</th>\n",
              "      <th>housing_rent</th>\n",
              "      <th>job_high qualif/self emp/mgmt</th>\n",
              "      <th>job_skilled</th>\n",
              "      <th>job_unemp/unskilled non res</th>\n",
              "      <th>job_unskilled resident</th>\n",
              "      <th>own_telephone_none</th>\n",
              "      <th>own_telephone_yes</th>\n",
              "    </tr>\n",
              "  </thead>\n",
              "  <tbody>\n",
              "    <tr>\n",
              "      <th>0</th>\n",
              "      <td>6</td>\n",
              "      <td>1169</td>\n",
              "      <td>4</td>\n",
              "      <td>male single</td>\n",
              "      <td>4</td>\n",
              "      <td>67</td>\n",
              "      <td>2</td>\n",
              "      <td>1</td>\n",
              "      <td>1</td>\n",
              "      <td>0</td>\n",
              "      <td>...</td>\n",
              "      <td>0</td>\n",
              "      <td>0</td>\n",
              "      <td>1</td>\n",
              "      <td>0</td>\n",
              "      <td>0</td>\n",
              "      <td>1</td>\n",
              "      <td>0</td>\n",
              "      <td>0</td>\n",
              "      <td>0</td>\n",
              "      <td>1</td>\n",
              "    </tr>\n",
              "    <tr>\n",
              "      <th>1</th>\n",
              "      <td>48</td>\n",
              "      <td>5951</td>\n",
              "      <td>2</td>\n",
              "      <td>female div/dep/mar</td>\n",
              "      <td>2</td>\n",
              "      <td>22</td>\n",
              "      <td>1</td>\n",
              "      <td>1</td>\n",
              "      <td>1</td>\n",
              "      <td>1</td>\n",
              "      <td>...</td>\n",
              "      <td>0</td>\n",
              "      <td>0</td>\n",
              "      <td>1</td>\n",
              "      <td>0</td>\n",
              "      <td>0</td>\n",
              "      <td>1</td>\n",
              "      <td>0</td>\n",
              "      <td>0</td>\n",
              "      <td>1</td>\n",
              "      <td>0</td>\n",
              "    </tr>\n",
              "    <tr>\n",
              "      <th>2</th>\n",
              "      <td>12</td>\n",
              "      <td>2096</td>\n",
              "      <td>2</td>\n",
              "      <td>male single</td>\n",
              "      <td>3</td>\n",
              "      <td>49</td>\n",
              "      <td>1</td>\n",
              "      <td>2</td>\n",
              "      <td>1</td>\n",
              "      <td>0</td>\n",
              "      <td>...</td>\n",
              "      <td>0</td>\n",
              "      <td>0</td>\n",
              "      <td>1</td>\n",
              "      <td>0</td>\n",
              "      <td>0</td>\n",
              "      <td>0</td>\n",
              "      <td>0</td>\n",
              "      <td>1</td>\n",
              "      <td>1</td>\n",
              "      <td>0</td>\n",
              "    </tr>\n",
              "    <tr>\n",
              "      <th>3</th>\n",
              "      <td>42</td>\n",
              "      <td>7882</td>\n",
              "      <td>2</td>\n",
              "      <td>male single</td>\n",
              "      <td>4</td>\n",
              "      <td>45</td>\n",
              "      <td>1</td>\n",
              "      <td>2</td>\n",
              "      <td>1</td>\n",
              "      <td>0</td>\n",
              "      <td>...</td>\n",
              "      <td>0</td>\n",
              "      <td>1</td>\n",
              "      <td>0</td>\n",
              "      <td>0</td>\n",
              "      <td>0</td>\n",
              "      <td>1</td>\n",
              "      <td>0</td>\n",
              "      <td>0</td>\n",
              "      <td>1</td>\n",
              "      <td>0</td>\n",
              "    </tr>\n",
              "    <tr>\n",
              "      <th>4</th>\n",
              "      <td>24</td>\n",
              "      <td>4870</td>\n",
              "      <td>3</td>\n",
              "      <td>male single</td>\n",
              "      <td>4</td>\n",
              "      <td>53</td>\n",
              "      <td>2</td>\n",
              "      <td>2</td>\n",
              "      <td>1</td>\n",
              "      <td>1</td>\n",
              "      <td>...</td>\n",
              "      <td>0</td>\n",
              "      <td>1</td>\n",
              "      <td>0</td>\n",
              "      <td>0</td>\n",
              "      <td>0</td>\n",
              "      <td>1</td>\n",
              "      <td>0</td>\n",
              "      <td>0</td>\n",
              "      <td>1</td>\n",
              "      <td>0</td>\n",
              "    </tr>\n",
              "    <tr>\n",
              "      <th>...</th>\n",
              "      <td>...</td>\n",
              "      <td>...</td>\n",
              "      <td>...</td>\n",
              "      <td>...</td>\n",
              "      <td>...</td>\n",
              "      <td>...</td>\n",
              "      <td>...</td>\n",
              "      <td>...</td>\n",
              "      <td>...</td>\n",
              "      <td>...</td>\n",
              "      <td>...</td>\n",
              "      <td>...</td>\n",
              "      <td>...</td>\n",
              "      <td>...</td>\n",
              "      <td>...</td>\n",
              "      <td>...</td>\n",
              "      <td>...</td>\n",
              "      <td>...</td>\n",
              "      <td>...</td>\n",
              "      <td>...</td>\n",
              "      <td>...</td>\n",
              "    </tr>\n",
              "    <tr>\n",
              "      <th>995</th>\n",
              "      <td>12</td>\n",
              "      <td>1736</td>\n",
              "      <td>3</td>\n",
              "      <td>female div/dep/mar</td>\n",
              "      <td>4</td>\n",
              "      <td>31</td>\n",
              "      <td>1</td>\n",
              "      <td>1</td>\n",
              "      <td>1</td>\n",
              "      <td>0</td>\n",
              "      <td>...</td>\n",
              "      <td>0</td>\n",
              "      <td>0</td>\n",
              "      <td>1</td>\n",
              "      <td>0</td>\n",
              "      <td>0</td>\n",
              "      <td>0</td>\n",
              "      <td>0</td>\n",
              "      <td>1</td>\n",
              "      <td>1</td>\n",
              "      <td>0</td>\n",
              "    </tr>\n",
              "    <tr>\n",
              "      <th>996</th>\n",
              "      <td>30</td>\n",
              "      <td>3857</td>\n",
              "      <td>4</td>\n",
              "      <td>male div/sep</td>\n",
              "      <td>4</td>\n",
              "      <td>40</td>\n",
              "      <td>1</td>\n",
              "      <td>1</td>\n",
              "      <td>1</td>\n",
              "      <td>0</td>\n",
              "      <td>...</td>\n",
              "      <td>0</td>\n",
              "      <td>0</td>\n",
              "      <td>1</td>\n",
              "      <td>0</td>\n",
              "      <td>1</td>\n",
              "      <td>0</td>\n",
              "      <td>0</td>\n",
              "      <td>0</td>\n",
              "      <td>0</td>\n",
              "      <td>1</td>\n",
              "    </tr>\n",
              "    <tr>\n",
              "      <th>997</th>\n",
              "      <td>12</td>\n",
              "      <td>804</td>\n",
              "      <td>4</td>\n",
              "      <td>male single</td>\n",
              "      <td>4</td>\n",
              "      <td>38</td>\n",
              "      <td>1</td>\n",
              "      <td>1</td>\n",
              "      <td>1</td>\n",
              "      <td>0</td>\n",
              "      <td>...</td>\n",
              "      <td>0</td>\n",
              "      <td>0</td>\n",
              "      <td>1</td>\n",
              "      <td>0</td>\n",
              "      <td>0</td>\n",
              "      <td>1</td>\n",
              "      <td>0</td>\n",
              "      <td>0</td>\n",
              "      <td>1</td>\n",
              "      <td>0</td>\n",
              "    </tr>\n",
              "    <tr>\n",
              "      <th>998</th>\n",
              "      <td>45</td>\n",
              "      <td>1845</td>\n",
              "      <td>4</td>\n",
              "      <td>male single</td>\n",
              "      <td>4</td>\n",
              "      <td>23</td>\n",
              "      <td>1</td>\n",
              "      <td>1</td>\n",
              "      <td>1</td>\n",
              "      <td>1</td>\n",
              "      <td>...</td>\n",
              "      <td>0</td>\n",
              "      <td>1</td>\n",
              "      <td>0</td>\n",
              "      <td>0</td>\n",
              "      <td>0</td>\n",
              "      <td>1</td>\n",
              "      <td>0</td>\n",
              "      <td>0</td>\n",
              "      <td>0</td>\n",
              "      <td>1</td>\n",
              "    </tr>\n",
              "    <tr>\n",
              "      <th>999</th>\n",
              "      <td>45</td>\n",
              "      <td>4576</td>\n",
              "      <td>3</td>\n",
              "      <td>male single</td>\n",
              "      <td>4</td>\n",
              "      <td>27</td>\n",
              "      <td>1</td>\n",
              "      <td>1</td>\n",
              "      <td>1</td>\n",
              "      <td>0</td>\n",
              "      <td>...</td>\n",
              "      <td>0</td>\n",
              "      <td>0</td>\n",
              "      <td>1</td>\n",
              "      <td>0</td>\n",
              "      <td>0</td>\n",
              "      <td>1</td>\n",
              "      <td>0</td>\n",
              "      <td>0</td>\n",
              "      <td>1</td>\n",
              "      <td>0</td>\n",
              "    </tr>\n",
              "  </tbody>\n",
              "</table>\n",
              "<p>1000 rows × 58 columns</p>\n",
              "</div>\n",
              "      <button class=\"colab-df-convert\" onclick=\"convertToInteractive('df-b4b06fbd-21bd-4753-ae6d-0d4581f58ee0')\"\n",
              "              title=\"Convert this dataframe to an interactive table.\"\n",
              "              style=\"display:none;\">\n",
              "        \n",
              "  <svg xmlns=\"http://www.w3.org/2000/svg\" height=\"24px\"viewBox=\"0 0 24 24\"\n",
              "       width=\"24px\">\n",
              "    <path d=\"M0 0h24v24H0V0z\" fill=\"none\"/>\n",
              "    <path d=\"M18.56 5.44l.94 2.06.94-2.06 2.06-.94-2.06-.94-.94-2.06-.94 2.06-2.06.94zm-11 1L8.5 8.5l.94-2.06 2.06-.94-2.06-.94L8.5 2.5l-.94 2.06-2.06.94zm10 10l.94 2.06.94-2.06 2.06-.94-2.06-.94-.94-2.06-.94 2.06-2.06.94z\"/><path d=\"M17.41 7.96l-1.37-1.37c-.4-.4-.92-.59-1.43-.59-.52 0-1.04.2-1.43.59L10.3 9.45l-7.72 7.72c-.78.78-.78 2.05 0 2.83L4 21.41c.39.39.9.59 1.41.59.51 0 1.02-.2 1.41-.59l7.78-7.78 2.81-2.81c.8-.78.8-2.07 0-2.86zM5.41 20L4 18.59l7.72-7.72 1.47 1.35L5.41 20z\"/>\n",
              "  </svg>\n",
              "      </button>\n",
              "      \n",
              "  <style>\n",
              "    .colab-df-container {\n",
              "      display:flex;\n",
              "      flex-wrap:wrap;\n",
              "      gap: 12px;\n",
              "    }\n",
              "\n",
              "    .colab-df-convert {\n",
              "      background-color: #E8F0FE;\n",
              "      border: none;\n",
              "      border-radius: 50%;\n",
              "      cursor: pointer;\n",
              "      display: none;\n",
              "      fill: #1967D2;\n",
              "      height: 32px;\n",
              "      padding: 0 0 0 0;\n",
              "      width: 32px;\n",
              "    }\n",
              "\n",
              "    .colab-df-convert:hover {\n",
              "      background-color: #E2EBFA;\n",
              "      box-shadow: 0px 1px 2px rgba(60, 64, 67, 0.3), 0px 1px 3px 1px rgba(60, 64, 67, 0.15);\n",
              "      fill: #174EA6;\n",
              "    }\n",
              "\n",
              "    [theme=dark] .colab-df-convert {\n",
              "      background-color: #3B4455;\n",
              "      fill: #D2E3FC;\n",
              "    }\n",
              "\n",
              "    [theme=dark] .colab-df-convert:hover {\n",
              "      background-color: #434B5C;\n",
              "      box-shadow: 0px 1px 3px 1px rgba(0, 0, 0, 0.15);\n",
              "      filter: drop-shadow(0px 1px 2px rgba(0, 0, 0, 0.3));\n",
              "      fill: #FFFFFF;\n",
              "    }\n",
              "  </style>\n",
              "\n",
              "      <script>\n",
              "        const buttonEl =\n",
              "          document.querySelector('#df-b4b06fbd-21bd-4753-ae6d-0d4581f58ee0 button.colab-df-convert');\n",
              "        buttonEl.style.display =\n",
              "          google.colab.kernel.accessAllowed ? 'block' : 'none';\n",
              "\n",
              "        async function convertToInteractive(key) {\n",
              "          const element = document.querySelector('#df-b4b06fbd-21bd-4753-ae6d-0d4581f58ee0');\n",
              "          const dataTable =\n",
              "            await google.colab.kernel.invokeFunction('convertToInteractive',\n",
              "                                                     [key], {});\n",
              "          if (!dataTable) return;\n",
              "\n",
              "          const docLinkHtml = 'Like what you see? Visit the ' +\n",
              "            '<a target=\"_blank\" href=https://colab.research.google.com/notebooks/data_table.ipynb>data table notebook</a>'\n",
              "            + ' to learn more about interactive tables.';\n",
              "          element.innerHTML = '';\n",
              "          dataTable['output_type'] = 'display_data';\n",
              "          await google.colab.output.renderOutput(dataTable, element);\n",
              "          const docLink = document.createElement('div');\n",
              "          docLink.innerHTML = docLinkHtml;\n",
              "          element.appendChild(docLink);\n",
              "        }\n",
              "      </script>\n",
              "    </div>\n",
              "  </div>\n",
              "  "
            ]
          },
          "metadata": {},
          "execution_count": 5
        }
      ],
      "source": [
        "# Copt raw data into our df\n",
        "df = df_raw.copy(deep=True)\n",
        "\n",
        "# list categorical columns...\n",
        "cat_cols =['checking_status', 'purpose', 'credit_history', 'savings_status', 'employment', 'other_parties', 'property_magnitude', 'other_payment_plans','housing','job','own_telephone']\n",
        "\n",
        "# One hot encoding of catagorical variables...\n",
        "df[cat_cols].astype(\"category\")\n",
        "one_hot_encodings = pd.get_dummies(df[cat_cols])\n",
        "\n",
        "#Combine dfs\n",
        "df = pd.concat([df, one_hot_encodings], axis=1)\n",
        "\n",
        "#remove categorical columns...\n",
        "df = df.drop(columns=cat_cols)\n",
        "\n",
        "#Data wrangling..... get types and bad values sorted out\n",
        "\n",
        "# Remove characters in numeric columns (note that the data type was set, by the open_csv function to object, \n",
        "# so we first convert to string before running the replace function (which can only be fun on str types)\n",
        "df['foreign_worker'] = df['foreign_worker'].str.replace('yes', '1')\n",
        "df['foreign_worker'] = df['foreign_worker'].str.replace('no', '0')\n",
        "df['class'] = df['class'].str.replace('good', '0')\n",
        "df['class'] = df['class'].str.replace('bad', '1')\n",
        "\n",
        "# Convert to numerics so we can use in ML... we force type conversions, then print our resulting df.\n",
        "df['foreign_worker'] = pd.to_numeric(df['foreign_worker'], errors ='coerce').fillna(0).astype('int')\n",
        "df['class'] = pd.to_numeric(df['class'], errors ='coerce').fillna(0).astype('int')\n",
        "df['duration'] = pd.to_numeric(df['duration'], errors ='coerce').fillna(0).astype('int')\n",
        "df['installment_commitment'] = pd.to_numeric(df['installment_commitment'], errors ='coerce').fillna(0).astype('int')\n",
        "df['residence_since'] = pd.to_numeric(df['residence_since'], errors ='coerce').fillna(0).astype('int')\n",
        "df['age'] = pd.to_numeric(df['age'], errors ='coerce').fillna(0).astype('int')\n",
        "df['num_dependents'] = pd.to_numeric(df['num_dependents'], errors ='coerce').fillna(0).astype('int')\n",
        "\n",
        "df"
      ]
    },
    {
      "cell_type": "markdown",
      "source": [
        "The **class** column is our classifier (ie y-variable) where 1=default, 0=no-default:"
      ],
      "metadata": {
        "id": "frWQbNBZKJU4"
      },
      "id": "frWQbNBZKJU4"
    },
    {
      "cell_type": "code",
      "source": [
        "# our y-variable we will be fitting our classification model to\n",
        "df['class']"
      ],
      "metadata": {
        "colab": {
          "base_uri": "https://localhost:8080/"
        },
        "id": "KqlsoU-KVLvd",
        "outputId": "0cdfbcec-36f2-49f0-80ef-43b770bfaa0c"
      },
      "id": "KqlsoU-KVLvd",
      "execution_count": 6,
      "outputs": [
        {
          "output_type": "execute_result",
          "data": {
            "text/plain": [
              "0      0\n",
              "1      1\n",
              "2      0\n",
              "3      0\n",
              "4      1\n",
              "      ..\n",
              "995    0\n",
              "996    0\n",
              "997    0\n",
              "998    1\n",
              "999    0\n",
              "Name: class, Length: 1000, dtype: int64"
            ]
          },
          "metadata": {},
          "execution_count": 6
        }
      ]
    },
    {
      "cell_type": "markdown",
      "id": "BrwhvERWDe_N",
      "metadata": {
        "id": "BrwhvERWDe_N"
      },
      "source": [
        "## Stage2c. Exploratory Data Analysis\n",
        "\n",
        "Once we have loaded the data and have it in a useable form, we now need to examine it, to build an intuition for the distributions, accuracy, missing values, imbalances and so on. Examining correlations is one way we can do this.\n",
        "\n"
      ]
    },
    {
      "cell_type": "markdown",
      "id": "1fd02130",
      "metadata": {
        "id": "1fd02130"
      },
      "source": [
        "Imbalanced data can introduce a major bias, particularly when we are fitting a model to a relatively low probability event, such as a default. \n",
        "\n",
        "#### Bias Alert: Imbalanced dataset\n",
        "\n",
        "Large imbalances in datasets for classification problems are a big issue. We generally need to balance the dataset to contain a more equal proportion of the different classes before training (and testing). For the credit use-case, we have two classes {1,0}, default/no default, meaning that ideally 50% of our samples should be class=1; and 50% class=0. If this is not the case and we have an imbalance (we do), we can balance the data by up-sampling the minority class, or down-sampling the majority class.\n",
        "Let us first examine the dataset to determine whether it is in balance."
      ]
    },
    {
      "cell_type": "code",
      "execution_count": 7,
      "id": "9d772e1c",
      "metadata": {
        "id": "9d772e1c",
        "colab": {
          "base_uri": "https://localhost:8080/",
          "height": 352
        },
        "outputId": "1be6c330-c792-4962-8fd8-1d891561004c"
      },
      "outputs": [
        {
          "output_type": "stream",
          "name": "stdout",
          "text": [
            "Dataset Balanced?\n",
            "0    700\n",
            "1    300\n",
            "Name: class, dtype: int64\n",
            "Imbalanced y variable!\n"
          ]
        },
        {
          "output_type": "execute_result",
          "data": {
            "text/plain": [
              "True"
            ]
          },
          "metadata": {},
          "execution_count": 7
        },
        {
          "output_type": "display_data",
          "data": {
            "text/plain": [
              "<Figure size 432x288 with 1 Axes>"
            ],
            "image/png": "[encoded data removed]"
          },
          "metadata": {}
        }
      ],
      "source": [
        "# Imbalanced y classes?\n",
        "GovernanceUtils.imbalanced_y_check(df['class'])"
      ]
    },
    {
      "cell_type": "markdown",
      "id": "e0459bd5",
      "metadata": {
        "id": "e0459bd5"
      },
      "source": [
        "The dataset is not balanced. 70% of samples are class=0; only 30% are class=1. We should bring this into balance before we train our model, or risk introducing dangerous biases into our forecasts."
      ]
    },
    {
      "cell_type": "markdown",
      "id": "qV1jmvnXDdEl",
      "metadata": {
        "id": "qV1jmvnXDdEl"
      },
      "source": [
        "#### Bias Alert: Protected and Majority Groups...\n",
        "\n",
        "Loan approval is a high risk application. We need to go very carefully as a result. We need to identify any protected characteristics (ie it would be illegal to differentiate based on these) present in the dataset such as ethnicity and gender, where biases would be illegal. \n",
        "\n"
      ]
    },
    {
      "cell_type": "markdown",
      "id": "35GhK1unDr81",
      "metadata": {
        "id": "35GhK1unDr81"
      },
      "source": [
        "Having found some protected characteristics and potential biases, we need to refine the dataset to consider these. "
      ]
    },
    {
      "cell_type": "code",
      "execution_count": 8,
      "id": "0n2YS32BDd6N",
      "metadata": {
        "id": "0n2YS32BDd6N"
      },
      "outputs": [],
      "source": [
        "# Protected characteristics - 'personal_status' has a \"gender\" classifier - We need to remove this from model training.\n",
        "df['gender'] = np.where(df['personal_status'].str.contains('female') == 0, 1, 0) #'male'=0; female=1\n",
        "df = df.drop('personal_status', axis=1)\n",
        "\n",
        "# Another protected characteristic is age. We can categorise the ages in our dataset... \n",
        "df['age'] = df['age'].apply(lambda x: 3 if x > 65 else (2 if x > 25 else 1))\n",
        "\n",
        "# **********************************************************\n",
        "# We need to remove these columns from model training, or risk \n",
        "# illegal biases in our outcomes... \n",
        "# Keep a record of the protected columns\n",
        "protected_cols = ['gender', 'age']\n",
        "# **********************************************************"
      ]
    },
    {
      "cell_type": "markdown",
      "id": "i9Vx9c_4sStE",
      "metadata": {
        "id": "i9Vx9c_4sStE"
      },
      "source": [
        "# Stage3: Model Design \n",
        "\n"
      ]
    },
    {
      "cell_type": "markdown",
      "source": [
        "## Stage 3a: Train/Test/Cross validation split\n",
        "\n",
        "Before we choose a classifier model, we need to separate our dataset into: training data, which we will use for model fitting/training; test data, which we will use for model testing out-of-sample; and cross-validation data, which we will use for model selection."
      ],
      "metadata": {
        "id": "Q7XyjtLWpI4P"
      },
      "id": "Q7XyjtLWpI4P"
    },
    {
      "cell_type": "markdown",
      "source": [
        "#### Bias Alert: Data Leakage \n",
        "\n",
        "Separate training and testing datasets BEFORE balancing the dataset to avoid data leakage. This is crucial as our learner must not see any of the test samples until we actually test it for performance. If we fail to separate testing and training data before up samplng, we can suffer data-snooping biases (also called data-leakage), which would invalidate our model."
      ],
      "metadata": {
        "id": "gS9JR8fT7X-7"
      },
      "id": "gS9JR8fT7X-7"
    },
    {
      "cell_type": "code",
      "execution_count": 9,
      "id": "eTjDqiD5f_j1",
      "metadata": {
        "id": "eTjDqiD5f_j1"
      },
      "outputs": [],
      "source": [
        "# We will use sklearn throughout this notebook\n",
        "from sklearn.model_selection import train_test_split"
      ]
    },
    {
      "cell_type": "code",
      "execution_count": 10,
      "id": "f9517124",
      "metadata": {
        "id": "f9517124"
      },
      "outputs": [],
      "source": [
        "# Train/Test/(and later cross-validation) datasets...\n",
        "cols  = list(df.columns)\n",
        "cols.remove('class')\n",
        "\n",
        "# Contains only numerics\n",
        "X = df[cols]\n",
        "y = df['class']\n",
        "\n",
        "# Test and train set: Note that for the purposes of this demonstrationm we are using a deterministic function \n",
        "# to split the data into training and testing sets, making the results of this notebook the same every time it is run.\n",
        "# DO NOT USE THIS FUNCTION IN YOUR OWN WORK.\n",
        "# The sklearn train_test_split function randomly splits the training and test datasets and so can result in different outcomes.\n",
        "# Note that, all else equal, the more variation in the outcomes given the test/train split, the less reliable the modeling approach.\n",
        "# We leave the sklearn train_test_split commented here in case you wuold like to experiment with this feature.\n",
        "X_train, X_test, y_train, y_test = CFACreditUseCaseUtils.train_test_split_deterministic(X, y, test_size=0.3, random_state=None) \n",
        "# X_train, X_test, y_train, y_test = train_test_split(X, y, test_size=0.3, random_state=None)\n",
        "\n",
        "#****************************\n",
        "# Keep record of protected for bias testing later\n",
        "X_train_protected = X_train[protected_cols]\n",
        "X_test_protected = X_test[protected_cols]\n",
        "\n",
        "# Remember to remove protected columns before training\n",
        "X_train = X_train.drop(protected_cols, axis=1)\n",
        "X_test = X_test.drop(protected_cols, axis=1)\n",
        "#****************************"
      ]
    },
    {
      "cell_type": "markdown",
      "id": "c0ubSKhBH-pg",
      "metadata": {
        "id": "c0ubSKhBH-pg"
      },
      "source": [
        "## Stage 3b: Test the performance of different up, and down sampling approaches"
      ]
    },
    {
      "cell_type": "markdown",
      "id": "d3f79ba0",
      "metadata": {
        "id": "d3f79ba0"
      },
      "source": [
        "To balance the training data we can create more samples of the minority class (defaults), or we can downsample the majority class (non defaults). We will use a LinearDiscriminantAnalysis classifier to test how effective each approach is."
      ]
    },
    {
      "cell_type": "markdown",
      "id": "c02db5bb",
      "metadata": {
        "id": "c02db5bb"
      },
      "source": [
        "We will use the sklearn implementations of classifier models, and import them next"
      ]
    },
    {
      "cell_type": "code",
      "execution_count": 11,
      "id": "af12e96b",
      "metadata": {
        "id": "af12e96b"
      },
      "outputs": [],
      "source": [
        "# Normalize/standardize input data\n",
        "from sklearn.preprocessing import StandardScaler\n",
        "\n",
        "# Classifiers\n",
        "from sklearn.discriminant_analysis import LinearDiscriminantAnalysis\n",
        "\n",
        "# Performance metrics...\n",
        "from sklearn.metrics import f1_score\n",
        "from sklearn.metrics import precision_score\n",
        "from sklearn.metrics import recall_score\n",
        "from sklearn.metrics import confusion_matrix"
      ]
    },
    {
      "cell_type": "markdown",
      "id": "c7484849",
      "metadata": {
        "id": "c7484849"
      },
      "source": [
        "First we will declare and call a wrapper function that trains and tests a  LinearDiscriminantAnalysis classifier to forecast defaults.\n",
        "\n",
        "Note the following coding features:\n",
        "- Declaration of variables with types and default values\n",
        "- Sanity checking of inputs and outputs, where appropriate\n",
        "- Documentation of purpose, parameters and return values, author\n",
        "- Commenting throughout"
      ]
    },
    {
      "cell_type": "code",
      "execution_count": 12,
      "id": "c09b7144",
      "metadata": {
        "id": "c09b7144",
        "colab": {
          "base_uri": "https://localhost:8080/",
          "height": 441
        },
        "outputId": "fd5ab686-a9a9-4842-8ffc-d8f88aabf260"
      },
      "outputs": [
        {
          "output_type": "stream",
          "name": "stdout",
          "text": [
            "<class 'sklearn.discriminant_analysis.LinearDiscriminantAnalysis'>\n",
            "Accuracy train: 0.79, test:  0.75\n",
            "Precision train: 0.71, test:  0.53\n",
            "Recall train: 0.58, test:  0.51\n",
            "F1 train: 0.64, test:  0.52\n"
          ]
        },
        {
          "output_type": "display_data",
          "data": {
            "text/plain": [
              "<Figure size 432x288 with 2 Axes>"
            ],
            "image/png": "[encoded data removed]"
          },
          "metadata": {
            "needs_background": "light"
          }
        },
        {
          "output_type": "stream",
          "name": "stdout",
          "text": [
            "Now use sklearns predict_proba to generate probability values for each prediction\n"
          ]
        }
      ],
      "source": [
        "# Declare a function to wrap training of a classifier and printing of performance data\n",
        "def run_lda_classification_models(X_train: pd.DataFrame, \n",
        "                              X_test: pd.DataFrame, \n",
        "                              y_train: pd.DataFrame, \n",
        "                              y_test: pd.DataFrame) -> object:\n",
        "    \n",
        "    '''\n",
        "    Args:\n",
        "      X_train: DataFrame with training data for classifier, columns are features, rows are instances\n",
        "      X_test: Test data matching above shape\n",
        "      y_train: training data target variable {1,0}, instances are rows.\n",
        "      y_test: test data target variable {1,0}, instances are rows.\n",
        "       \n",
        "    Returns:\n",
        "       rf: sklearn model object\n",
        "       \n",
        "    Author:\n",
        "       Dan Philps\n",
        "    '''\n",
        "\n",
        "    #sanity checks on inputs\n",
        "    if X_train.shape[0] != y_train.shape[0]:\n",
        "      raise TypeError('Bad parameter: X_train.shape[0] != y_train.shape[0]')\n",
        "    if X_test.shape[0] != y_test.shape[0]:\n",
        "      raise TypeError('Bad parameter: X_train.shape[0] != y_train.shape[0]')\n",
        "    if (X_train.dtypes != X_test.dtypes).sum() != 0:\n",
        "      raise TypeError('Bad parameter: X_train.dtype != X_test.dtype')\n",
        "    if (y_train.dtypes != y_test.dtypes):\n",
        "      raise TypeError('Bad parameter: y_train.dtype != y_test.dtype')\n",
        "\n",
        "    # Scale and transform the data for training\n",
        "    X_test = GovernanceUtils.norm_X(X_train, X_test.copy(deep=True))\n",
        "    X_train = GovernanceUtils.norm_X(X_train, X_train.copy(deep=True))\n",
        "\n",
        "    # classifier train\n",
        "    rf = LinearDiscriminantAnalysis()\n",
        "    rf.fit(X_train,y_train)\n",
        "    y_train_hat =rf.predict(X_train)\n",
        "    y_test_hat = rf.predict(X_test)\n",
        "\n",
        "    # Analytics calculated wrt default or y=1... Print score\n",
        "    print(type(rf))        \n",
        "    print(f\"Accuracy train: {rf.score(X_train,y_train):.2f}, test: \",\n",
        "      f\"{rf.score(X_test,y_test):.2f}\")\n",
        "    print(f\"Precision train: {precision_score(y_train, y_train_hat, average=None)[1]:.2f}, test: \",\n",
        "      f\"{precision_score(y_test,y_test_hat, average=None)[1]:.2f}\")\n",
        "    print(f\"Recall train: {recall_score(y_train, y_train_hat, average=None)[1]:.2f}, test: \",\n",
        "      f\"{recall_score(y_test,y_test_hat, average=None)[1]:.2f}\")\n",
        "    print(f\"F1 train: {f1_score(y_train, y_train_hat, average=None)[1]:.2f}, test: \",\n",
        "      f\"{f1_score(y_test,y_test_hat, average=None)[1]:.2f}\")\n",
        "    \n",
        "    #Print confusion matrix...\n",
        "    cf_matrix = confusion_matrix(y_test, y_test_hat, labels=[0, 1]) \n",
        "    cf_matrix_norm = cf_matrix.astype('float') # / cf_matrix.sum(axis=1)[:, np.newaxis]\n",
        "\n",
        "    ax = sns.heatmap(cf_matrix_norm, annot=True, cmap='Blues', fmt='g')\n",
        "    ax.set_title('Confusion Matrix\\n\\n');\n",
        "    ax.set_xlabel('\\nPredicted Values')\n",
        "    ax.set_ylabel('Actual Values ');\n",
        "    plt.show()\n",
        "\n",
        "    #sanity checks on output\n",
        "    if rf is None:\n",
        "      raise TypeError('Bad return: rf is None')\n",
        "\n",
        "    return rf\n",
        "\n",
        "#run our classifier function\n",
        "mod = run_lda_classification_models(X_train, X_test, y_train, y_test)\n",
        "\n",
        "# dump the probability values for each prediction we have just made - we will be using the \n",
        "# probability value to determine the lending threshold later\n",
        "print('Now use sklearns predict_proba to generate probability values for each prediction')"
      ]
    },
    {
      "cell_type": "markdown",
      "source": [
        "Note the F1 score on the test data is 0.52 using an imbalanced training \n",
        "dataset. Now we can balance the dataset."
      ],
      "metadata": {
        "id": "q8YuRdfJ8SrE"
      },
      "id": "q8YuRdfJ8SrE"
    },
    {
      "cell_type": "markdown",
      "id": "f8166fcf",
      "metadata": {
        "id": "f8166fcf"
      },
      "source": [
        "To balance the training data we can create more samples of the minority class (defaults), or we can downsample the majority class. First we look at the performance of resampling instances fom the minority class.\n",
        "\n",
        "### 3b i) Upsampling using resampling\n"
      ]
    },
    {
      "cell_type": "code",
      "execution_count": 13,
      "id": "739e0d7d",
      "metadata": {
        "id": "739e0d7d"
      },
      "outputs": [],
      "source": [
        "from sklearn.utils import resample\n",
        "\n",
        "# Split first to avoid data-snooping\n",
        "# See comments above regarding this deterministic split function.\n",
        "X_train, X_test, y_train, y_test = CFACreditUseCaseUtils.train_test_split_deterministic(X, y, test_size=0.3, random_state=None) \n",
        "# X_train, X_test, y_train, y_test = train_test_split(X, y, test_size=0.3, random_state=None)\n",
        "\n",
        "# Create up-sampled data set for minority class\n",
        "# note that n_samples = the number of samples the imbalance represents.\n",
        "X_upsampled, y_upsampled = resample(X_train[y_train == 1],\n",
        "                                        y_train[y_train == 1],\n",
        "                                        replace=True,\n",
        "                                        n_samples=(X_train[y_train == 0].shape[0]-X_train[y_train == 1].shape[0]),\n",
        "                                        random_state=None)\n",
        "\n",
        "#****************************\n",
        "# Keep record of protected for bias testing later\n",
        "X_upsampled_protected = X_upsampled[protected_cols]\n",
        "X_train_protected = X_train[protected_cols]\n",
        "X_test_protected = X_test[protected_cols]\n",
        "\n",
        "# Remember to remove protected columns before training\n",
        "X_upsampled = X_upsampled.drop(protected_cols, axis=1)\n",
        "X_train = X_train.drop(protected_cols, axis=1)\n",
        "X_test = X_test.drop(protected_cols, axis=1)\n",
        "#****************************\n",
        "\n",
        "#Combine train with upsampled\n",
        "X_upsampled = X_train.append(X_upsampled)\n",
        "y_upsampled = y_train.append(y_upsampled)"
      ]
    },
    {
      "cell_type": "markdown",
      "id": "fc1e5726",
      "metadata": {
        "id": "fc1e5726"
      },
      "source": [
        "Let us check everything is in balance now"
      ]
    },
    {
      "cell_type": "code",
      "execution_count": 14,
      "id": "b8cb61d7",
      "metadata": {
        "id": "b8cb61d7",
        "colab": {
          "base_uri": "https://localhost:8080/",
          "height": 335
        },
        "outputId": "fe9e9d7c-4adb-48ba-d727-944efc374825"
      },
      "outputs": [
        {
          "output_type": "stream",
          "name": "stdout",
          "text": [
            "Dataset Balanced?\n",
            "1    479\n",
            "0    479\n",
            "Name: class, dtype: int64\n"
          ]
        },
        {
          "output_type": "execute_result",
          "data": {
            "text/plain": [
              "False"
            ]
          },
          "metadata": {},
          "execution_count": 14
        },
        {
          "output_type": "display_data",
          "data": {
            "text/plain": [
              "<Figure size 432x288 with 1 Axes>"
            ],
            "image/png": "[encoded data removed]"
          },
          "metadata": {}
        }
      ],
      "source": [
        "# Imbalanced y classes?\n",
        "temp = pd.concat([X_upsampled, y_upsampled], axis=1)\n",
        "GovernanceUtils.imbalanced_y_check(temp['class'])"
      ]
    },
    {
      "cell_type": "markdown",
      "id": "53dea8e1",
      "metadata": {
        "id": "53dea8e1"
      },
      "source": [
        "Dataset is perfectly in balance... so we now re-run our LDA function but with a balanced dataset"
      ]
    },
    {
      "cell_type": "code",
      "execution_count": 15,
      "id": "5caebbb0",
      "metadata": {
        "id": "5caebbb0",
        "colab": {
          "base_uri": "https://localhost:8080/",
          "height": 424
        },
        "outputId": "eaf9a99f-ae9c-4060-ba95-c5bd6d6e72c5"
      },
      "outputs": [
        {
          "output_type": "stream",
          "name": "stdout",
          "text": [
            "<class 'sklearn.discriminant_analysis.LinearDiscriminantAnalysis'>\n",
            "Accuracy train: 0.77, test:  0.67\n",
            "Precision train: 0.76, test:  0.44\n",
            "Recall train: 0.78, test:  0.80\n",
            "F1 train: 0.77, test:  0.57\n"
          ]
        },
        {
          "output_type": "display_data",
          "data": {
            "text/plain": [
              "<Figure size 432x288 with 2 Axes>"
            ],
            "image/png": "[encoded data removed]"
          },
          "metadata": {
            "needs_background": "light"
          }
        }
      ],
      "source": [
        "#Run our function....\n",
        "model = run_lda_classification_models(X_upsampled, X_test, y_upsampled, y_test)"
      ]
    },
    {
      "cell_type": "markdown",
      "id": "1b4afcc1",
      "metadata": {
        "id": "1b4afcc1"
      },
      "source": [
        "The F1 score is better than using imbalanced model"
      ]
    },
    {
      "cell_type": "markdown",
      "id": "e98b384e",
      "metadata": {
        "id": "e98b384e"
      },
      "source": [
        "### 3b ii) Up-sampling using a synthetic over sampling approach called SMOTE"
      ]
    },
    {
      "cell_type": "markdown",
      "id": "235505f6",
      "metadata": {
        "id": "235505f6"
      },
      "source": [
        "We now upsample the minorty class (defaults) by generating synthetic data using SMOTE."
      ]
    },
    {
      "cell_type": "code",
      "execution_count": 16,
      "id": "5dadf40d",
      "metadata": {
        "id": "5dadf40d"
      },
      "outputs": [],
      "source": [
        "from imblearn.over_sampling import SMOTE\n",
        "\n",
        "#How many samples do we need to balance?\n",
        "idx = np.random.choice(X_train.shape[0], size=X_train[y_train == 0].shape[0]-X_train[y_train == 1].shape[0], replace=False)\n",
        "\n",
        "# Generate SMOTE samples and use this to train\n",
        "upsampler_smote = SMOTE()\n",
        "X_upsampled_smote, y_upsampled_smote = upsampler_smote.fit_resample(X=X_train, y=y_train)"
      ]
    },
    {
      "cell_type": "markdown",
      "id": "4a14d264",
      "metadata": {
        "id": "4a14d264"
      },
      "source": [
        "We examine the synthetic data (the red crosses) for similarity with the real data we are trying to sythesize..."
      ]
    },
    {
      "cell_type": "code",
      "execution_count": 17,
      "id": "4ff54d69",
      "metadata": {
        "id": "4ff54d69",
        "colab": {
          "base_uri": "https://localhost:8080/",
          "height": 411
        },
        "outputId": "739ed3dc-5ff4-4f4f-de0a-6c40001503b2"
      },
      "outputs": [
        {
          "output_type": "display_data",
          "data": {
            "text/plain": [
              "<Figure size 720x504 with 1 Axes>"
            ],
            "image/png": "[encoded data removed]"
          },
          "metadata": {
            "needs_background": "light"
          }
        }
      ],
      "source": [
        "from matplotlib import pyplot as plt\n",
        "from mpl_toolkits.mplot3d import Axes3D\n",
        "\n",
        "\n",
        "fig = plt.figure(figsize=(10, 7)) \n",
        "ax = fig.add_subplot(111, projection='3d')\n",
        "\n",
        "ax.scatter(X_train['credit_amount'],X_train['installment_commitment'], X_train['duration'], marker=\"o\", s=10, c='blue', label='Real datapoints')\n",
        "ax.scatter(X_upsampled_smote['credit_amount'],X_upsampled_smote['installment_commitment'], X_upsampled_smote['duration'], marker=\"+\", s=50, c='red', label='SMOTE datapoints')\n",
        "\n",
        "# set axes range\n",
        "ax.set_xlim(-500, 13000)\n",
        "ax.set_ylim(0, 40)\n",
        "ax.set_zlim(0,50)\n",
        "\n",
        "ax.set_xlabel('credit_amount')\n",
        "ax.set_ylabel('installment_commitment')\n",
        "ax.set_zlabel('duration')\n",
        "\n",
        "plt.title('How SMOTE Samples are Distributed vs Real Data Points')\n",
        "plt.legend(loc=1,framealpha=1, fontsize=8)\n",
        "plt.show()"
      ]
    },
    {
      "cell_type": "markdown",
      "id": "a875103b",
      "metadata": {
        "id": "a875103b"
      },
      "source": [
        "The synthetic datapoints look realistic at a glance."
      ]
    },
    {
      "cell_type": "code",
      "execution_count": 18,
      "id": "c031433f",
      "metadata": {
        "id": "c031433f",
        "colab": {
          "base_uri": "https://localhost:8080/",
          "height": 335
        },
        "outputId": "05a7dce0-6bc5-44c2-8da9-df869866d426"
      },
      "outputs": [
        {
          "output_type": "stream",
          "name": "stdout",
          "text": [
            "Dataset Balanced?\n",
            "1    479\n",
            "0    479\n",
            "Name: class, dtype: int64\n"
          ]
        },
        {
          "output_type": "execute_result",
          "data": {
            "text/plain": [
              "False"
            ]
          },
          "metadata": {},
          "execution_count": 18
        },
        {
          "output_type": "display_data",
          "data": {
            "text/plain": [
              "<Figure size 432x288 with 1 Axes>"
            ],
            "image/png": "[encoded data removed]"
          },
          "metadata": {}
        }
      ],
      "source": [
        "# Imbalanced y classes?\n",
        "temp = pd.concat([X_upsampled_smote, y_upsampled_smote], axis=1)\n",
        "GovernanceUtils.imbalanced_y_check(temp['class'])"
      ]
    },
    {
      "cell_type": "markdown",
      "id": "89d8fdc6",
      "metadata": {
        "id": "89d8fdc6"
      },
      "source": [
        "Dataset is perfectly in balance... so we now re-run our LDA function but with a balanced dataset"
      ]
    },
    {
      "cell_type": "code",
      "execution_count": 19,
      "id": "750a6983",
      "metadata": {
        "id": "750a6983",
        "colab": {
          "base_uri": "https://localhost:8080/",
          "height": 424
        },
        "outputId": "de86c5f6-c78f-4451-eac2-638ca8200deb"
      },
      "outputs": [
        {
          "output_type": "stream",
          "name": "stdout",
          "text": [
            "<class 'sklearn.discriminant_analysis.LinearDiscriminantAnalysis'>\n",
            "Accuracy train: 0.84, test:  0.66\n",
            "Precision train: 0.86, test:  0.43\n",
            "Recall train: 0.80, test:  0.79\n",
            "F1 train: 0.83, test:  0.56\n"
          ]
        },
        {
          "output_type": "display_data",
          "data": {
            "text/plain": [
              "<Figure size 432x288 with 2 Axes>"
            ],
            "image/png": "[encoded data removed]"
          },
          "metadata": {
            "needs_background": "light"
          }
        }
      ],
      "source": [
        "#Run our function....\n",
        "model = run_lda_classification_models(X_upsampled_smote, X_test, y_upsampled_smote, y_test)"
      ]
    },
    {
      "cell_type": "markdown",
      "source": [
        "The F1 score is better than using imbalanced model"
      ],
      "metadata": {
        "id": "OxmTV3pm-KWD"
      },
      "id": "OxmTV3pm-KWD"
    },
    {
      "cell_type": "markdown",
      "id": "kHUCz-3ksp6r",
      "metadata": {
        "id": "kHUCz-3ksp6r"
      },
      "source": [
        "### 3b iii) Down-sampling - Removing rows to balance the classes"
      ]
    },
    {
      "cell_type": "markdown",
      "id": "0a94d7e4",
      "metadata": {
        "id": "0a94d7e4"
      },
      "source": [
        "We now remove instances from the majority class to bring it into balance."
      ]
    },
    {
      "cell_type": "code",
      "execution_count": 20,
      "id": "8dbc9854",
      "metadata": {
        "id": "8dbc9854"
      },
      "outputs": [],
      "source": [
        "from imblearn.under_sampling import RandomUnderSampler \n",
        "\n",
        "#Split first to avoid data-snooping\n",
        "# See comments above regarding this deterministic split function.\n",
        "X_train, X_test, y_train, y_test = CFACreditUseCaseUtils.train_test_split_deterministic(X, y, test_size=0.3, random_state=None) \n",
        "#X_train, X_test, y_train, y_test = train_test_split(X, y, test_size=0.3, random_state=None)\n",
        "\n",
        "#****************************\n",
        "# Keep record of protected for bias testing later\n",
        "X_train_protected = X_train[protected_cols]\n",
        "X_test_protected = X_test[protected_cols]\n",
        "\n",
        "# Remember to remove protected columns before training\n",
        "X_train = X_train.drop(protected_cols, axis=1)\n",
        "X_test = X_test.drop(protected_cols, axis=1)\n",
        "#****************************\n",
        "\n",
        "# Randomly downsample rows in the majority class\n",
        "rus = RandomUnderSampler(random_state=42)\n",
        "X_downsampled, y_downsampled = rus.fit_resample(X_train, y_train)"
      ]
    },
    {
      "cell_type": "code",
      "execution_count": 21,
      "id": "c0beacf7",
      "metadata": {
        "id": "c0beacf7",
        "colab": {
          "base_uri": "https://localhost:8080/",
          "height": 335
        },
        "outputId": "c7c7b163-e42b-45f6-b62a-720a8700bbf9"
      },
      "outputs": [
        {
          "output_type": "stream",
          "name": "stdout",
          "text": [
            "Dataset Balanced?\n",
            "0    220\n",
            "1    220\n",
            "Name: class, dtype: int64\n"
          ]
        },
        {
          "output_type": "execute_result",
          "data": {
            "text/plain": [
              "False"
            ]
          },
          "metadata": {},
          "execution_count": 21
        },
        {
          "output_type": "display_data",
          "data": {
            "text/plain": [
              "<Figure size 432x288 with 1 Axes>"
            ],
            "image/png": "[encoded data removed]"
          },
          "metadata": {}
        }
      ],
      "source": [
        "# Imbalanced y classes?\n",
        "temp = pd.concat([X_downsampled, y_downsampled], axis=1)\n",
        "GovernanceUtils.imbalanced_y_check(temp['class'])"
      ]
    },
    {
      "cell_type": "code",
      "execution_count": 22,
      "id": "d6de0276",
      "metadata": {
        "id": "d6de0276",
        "colab": {
          "base_uri": "https://localhost:8080/",
          "height": 424
        },
        "outputId": "27ef6716-1ac9-4dc9-e004-1bc17f8a07ff"
      },
      "outputs": [
        {
          "output_type": "stream",
          "name": "stdout",
          "text": [
            "<class 'sklearn.discriminant_analysis.LinearDiscriminantAnalysis'>\n",
            "Accuracy train: 0.76, test:  0.64\n",
            "Precision train: 0.75, test:  0.41\n",
            "Recall train: 0.77, test:  0.74\n",
            "F1 train: 0.76, test:  0.52\n"
          ]
        },
        {
          "output_type": "display_data",
          "data": {
            "text/plain": [
              "<Figure size 432x288 with 2 Axes>"
            ],
            "image/png": "[encoded data removed]"
          },
          "metadata": {
            "needs_background": "light"
          }
        }
      ],
      "source": [
        "# Run our function to train a rf classifier....\n",
        "model = run_lda_classification_models(X_downsampled, X_test, y_downsampled, y_test)"
      ]
    },
    {
      "cell_type": "markdown",
      "id": "5e6ea491",
      "metadata": {
        "id": "5e6ea491"
      },
      "source": [
        "Down-sampling results in a lower F1 score than upsampling in this case, but a strategy to balance the dataset has provided as good as or better results than training the model on the imbalanmced data."
      ]
    },
    {
      "cell_type": "markdown",
      "id": "66bfe3c2",
      "metadata": {
        "id": "66bfe3c2"
      },
      "source": [
        "## Stage 3c: Model Selection\n",
        "\n",
        "\n",
        "Next we need to select the type of classifier we are going to use to model our problem. We will separate the data into train/test/cross validation data and use the cross validation data to select the classifier we will use."
      ]
    },
    {
      "cell_type": "markdown",
      "source": [
        "#### Bias Alert: Availability Heuristic\n",
        "Model selection is open to bias. For instance, if our quant team is overpopulated by linear regression experts, we are prone to choose linear regression. If we have a greater level of familiarity for RF classifiers, we are likely to choose RF.\n",
        "\n",
        "One way of dealing with this is to use a systematic model selection approach. We can test the problem, using many different classsifiers and assess the performance of each based on our KPIs. However, we must be careful as even this more exhaustive approach is also open to biases.\n"
      ],
      "metadata": {
        "id": "pVf09c8EAb2i"
      },
      "id": "pVf09c8EAb2i"
    },
    {
      "cell_type": "markdown",
      "source": [
        "#### Bias Alert: Multiplicity bias\n",
        "\n",
        "If we are selecting a model based on p-values, for instance, we might suffer from multiplicity bias where testing multiple approaches would exaggerate the significance of a success. \n",
        "To somewhat mitigate this we could select based on a measure such as F1-score, applied to out of sample data. In ML we tend to separate our data into training, testing, and cross-validation. We will use the cross-validation data to select a model type below."
      ],
      "metadata": {
        "id": "XxGRJoYAA0HC"
      },
      "id": "XxGRJoYAA0HC"
    },
    {
      "cell_type": "code",
      "execution_count": 23,
      "id": "tUbobdmKR9Or",
      "metadata": {
        "id": "tUbobdmKR9Or"
      },
      "outputs": [],
      "source": [
        "# Get cross-validation set, broken out from training data, to select the classifier\n",
        "# Objective is to keep the classifier choice \"in sample\", so that running on the test data \n",
        "# will be a true out-of-sample test. No data leakage bias.\n",
        "\n",
        "# Get pre created SMOTE file. This removes the stochastic element of SMOTE which would alter the results of this notebook on every run\n",
        "# Experiment by altering the XXX paremetr in the auto_classifier_selection funtion, which will run SMOTE on each execution...\n",
        "X_upsampled_smote = pd.read_csv('data/X_upsampled_smote.csv', index_col=0)\n",
        "y_upsampled_smote = pd.read_csv('data/y_upsampled_smote.csv', index_col=0, dtype=int)\n",
        "\n",
        "# Test and train set    \n",
        "# See comments above regarding this deterministic split function.\n",
        "X_train_cv, X_cv, y_train_cv, y_cv = CFACreditUseCaseUtils.train_test_split_deterministic(X_upsampled_smote, y_upsampled_smote, test_size=0.3, random_state=None) \n",
        "#X_train_cv, X_cv, y_train_cv, y_cv = train_test_split(X_train, y_train, test_size=0.3, random_state=None)\n",
        "\n",
        "# Cross validation as a subset of \n",
        "# See comments above regarding this deterministic split function.\n",
        "X_train, X_test, y_train, y_test = CFACreditUseCaseUtils.train_test_split_deterministic(X, y, test_size=0.3, random_state=None) \n",
        "# X_train, X_test, y_train, y_test = train_test_split(X, y, test_size=0.3, random_state=None)\n",
        "\n",
        "#****************************\n",
        "# Keep record of protected for bias testing later\n",
        "X_train_protected = X_train[protected_cols]\n",
        "X_test_protected = X_test[protected_cols]\n",
        "\n",
        "# Remember to remove protected columns before training\n",
        "X_train = X_train.drop(protected_cols, axis=1)\n",
        "X_test = X_test.drop(protected_cols, axis=1)\n",
        "#****************************"
      ]
    },
    {
      "cell_type": "markdown",
      "id": "JElvKh2qh75k",
      "metadata": {
        "id": "JElvKh2qh75k"
      },
      "source": [
        "Now we call our functional class **GovernanceUtils**, and the member **auto_classifier_selection** which tests a range of classifiers from neural nets, to logistic regression to find the learner that performs best on our cross validation set. We will take the best classifier as our probability of default model."
      ]
    },
    {
      "cell_type": "code",
      "execution_count": 24,
      "id": "cyji4ydlQTVZ",
      "metadata": {
        "id": "cyji4ydlQTVZ",
        "colab": {
          "base_uri": "https://localhost:8080/",
          "height": 840
        },
        "outputId": "5b851946-887f-4672-d64c-856e7a36eda5"
      },
      "outputs": [
        {
          "output_type": "stream",
          "name": "stdout",
          "text": [
            "GaussianNB()\n",
            "Precision train: 0.8646, cross-validation:  0.1064\n",
            "LogisticRegression(max_iter=2000, random_state=0)\n",
            "Precision train: 0.8778, cross-validation:  0.5068\n",
            "MLPClassifier(early_stopping=True, max_iter=2000, random_state=1)\n",
            "Precision train: 0.7347, cross-validation:  0.4061\n",
            "RandomForestClassifier(max_depth=3, random_state=0)\n",
            "Precision train: 0.8677, cross-validation:  0.5574\n",
            "LinearDiscriminantAnalysis()\n",
            "Precision train: 0.8819, cross-validation:  0.4903\n",
            "QuadraticDiscriminantAnalysis()\n",
            "Precision train: 0.7994, cross-validation:  0.4772\n",
            "AdaBoostClassifier()\n",
            "Precision train: 0.8964, cross-validation:  0.0000\n",
            "GradientBoostingClassifier()\n",
            "Precision train: 0.9689, cross-validation:  0.3670\n",
            "KNeighborsClassifier(n_neighbors=3)\n",
            "Precision train: 0.8526, cross-validation:  0.0000\n",
            "SVC(C=0.025, probability=True)\n",
            "Precision train: 0.7347, cross-validation:  0.4734\n",
            "NuSVC(probability=True)\n",
            "Precision train: 0.3308, cross-validation:  0.4734\n",
            "\n",
            "Winner\n",
            " <class 'sklearn.ensemble._forest.RandomForestClassifier'>\n",
            "Accuracy train: 0.8358, cross-validation:  0.6237\n",
            "Precision train: 0.8089, cross-validation:  0.4387\n",
            "Recall train: 0.9357, cross-validation:  0.7640\n",
            "F1 train: 0.8677, cross-validation:  0.5574\n"
          ]
        },
        {
          "output_type": "display_data",
          "data": {
            "text/plain": [
              "<Figure size 432x288 with 2 Axes>"
            ],
            "image/png": "[encoded data removed]"
          },
          "metadata": {
            "needs_background": "light"
          }
        }
      ],
      "source": [
        "# Run our function....autoselect the best classifier wrt F1\n",
        "max_mdl, all_models, all_models_desc, all_mdls_prec = GovernanceUtils.auto_classifier_selection(X_train=X_train_cv, \n",
        "                                                                                                X_cross_validation=X_cv, \n",
        "                                                                                                y_train=y_train_cv, \n",
        "                                                                                                y_cross_validation=y_cv, \n",
        "                                                                                                selection_criteria='f1', \n",
        "                                                                                                balance_method ='') # no balancing\n"
      ]
    },
    {
      "cell_type": "markdown",
      "id": "OHdKdhL6MF42",
      "metadata": {
        "id": "OHdKdhL6MF42"
      },
      "source": [
        "You can see in the output of our function: the range of classifiers tested and test scores generated on the cross-validation test data in each case. The winner is RandomForestClassifier. And we can examine this learner's ROC curve to understand its performance.\n",
        "\n",
        "Note that we will have a use for the other models that just missed out later, as a **challanger model**."
      ]
    },
    {
      "cell_type": "code",
      "execution_count": 25,
      "id": "BuJjXTsYMbBs",
      "metadata": {
        "id": "BuJjXTsYMbBs",
        "colab": {
          "base_uri": "https://localhost:8080/",
          "height": 364
        },
        "outputId": "8fc5ebd7-f030-4f95-ab08-2c0a7a830bfc"
      },
      "outputs": [
        {
          "output_type": "stream",
          "name": "stdout",
          "text": [
            "0.39285714285714285\n"
          ]
        },
        {
          "output_type": "display_data",
          "data": {
            "text/plain": [
              "<Figure size 432x288 with 1 Axes>"
            ],
            "image/png": "[encoded data removed]"
          },
          "metadata": {
            "needs_background": "light"
          }
        },
        {
          "output_type": "stream",
          "name": "stdout",
          "text": [
            "F1 score: 0.5000\n",
            "Precision: 0.3929\n",
            "Recall: 0.6875\n"
          ]
        }
      ],
      "source": [
        "# Predict\n",
        "y_test_hat = max_mdl.predict(GovernanceUtils.norm_X(X_train_cv, X_test.copy(deep=True)).values)\n",
        "\n",
        "# Analyst KPI...\n",
        "f1, prec, rec = StakeholderKPIReporting.kpi_review_analyst(mdl=max_mdl,X=X_test, y=y_test[:].values, y_hat=y_test_hat[:])\n",
        "print(f\"F1 score: {f1:.4f}\")\n",
        "print(f\"Precision: {prec:.4f}\")\n",
        "print(f\"Recall: {rec:.4f}\")"
      ]
    },
    {
      "cell_type": "markdown",
      "id": "RM6iBjWd_yEn",
      "metadata": {
        "id": "RM6iBjWd_yEn"
      },
      "source": [
        "\n",
        "#### Bias Alert: Inductive bias\n",
        "\n",
        "Decision Trees, for instance, have inductive biases associated with greedy separation, whereas Random Forests (RF) mitigate this bias by using many randomized decision trees, but in turn introduce (lesser) inductive biases associated with the way an RF's underlying decision trees are constructed. One mitigant is to ensemble different learners, using a soft-max function or a voting approach. For voting based ensembling we would simply run a number of classifiers, take the majority answer: good/bad credit. The risk of not using the best performing model on our test data, and instead introducing poorer performing learners, is that we may reduce the reliance of our process on a single learner, but we could also damage our outcomes. We run such an ensemble below.\n",
        "Ensembling tends to produce more robust outcomes but may in some cases damage performance.\n"
      ]
    },
    {
      "cell_type": "markdown",
      "id": "LvIWjJXQtAVd",
      "metadata": {
        "id": "LvIWjJXQtAVd"
      },
      "source": [
        "## Stage 3d: Fairness\n",
        "\n",
        "Next we need to use our model to forecast the probability of default of each borrower, and we now need to decide what probability of default is too high for lending. Our classsifier will forecast a default when the probability of default is >50%, but it may suit our stakeholders better to lend at higher or lower levels. \n",
        "\n",
        "\n",
        "We will execute the following steps:\n",
        "- Review fairness of our model overall, regarding specific groups\n",
        "- Find optimum threshold: Finally we will search for the optimum threshold, that achieves the lender KPIs best, at the same time remaining fair within our tolerances."
      ]
    },
    {
      "cell_type": "code",
      "source": [
        "X_test_gender = pd.Series(X_test_protected['gender'].apply(lambda x: 'male' if x==1 else 'female'))"
      ],
      "metadata": {
        "id": "E9vMqJzer9cQ"
      },
      "id": "E9vMqJzer9cQ",
      "execution_count": null,
      "outputs": []
    },
    {
      "cell_type": "code",
      "execution_count": null,
      "id": "af39a70d",
      "metadata": {
        "id": "af39a70d"
      },
      "outputs": [],
      "source": [
        "# Test a 0.3 threshold for fairness...\n",
        "df_stats = FairnessUtils.fairness_stats_get (mod=max_mdl, \n",
        "                               X_test=X_test, \n",
        "                               y_test=y_test, \n",
        "                               X_test_category_col=X_test_gender, \n",
        "                               y_approval_threshold=0.5)\n",
        "\n",
        "FairnessUtils.plot_fairness_charts(df_stats=df_stats, \n",
        "                                   majority_class=\"male\", \n",
        "                                   fairness_metric=\"precision\",\n",
        "                                   threshold_metric=\"recall\")\n"
      ]
    },
    {
      "cell_type": "markdown",
      "source": [
        "In this example, recall for the minority group (Female) is below the lower unfairness bound, so the model is considered “unfair”.  Lower recall for females implies higher false negatives for the minority group (i.e., loan approval, then default) vs. Males, which is why the model is deemed unfair. \n",
        "For precision, the minority group (Female) is within the unfairness bounds, so there is no issue for that metric.  \n"
      ],
      "metadata": {
        "id": "D8uSTKYTFDlK"
      },
      "id": "D8uSTKYTFDlK"
    },
    {
      "cell_type": "markdown",
      "source": [
        "## Stage 3e: Lend at What Probability of Default?"
      ],
      "metadata": {
        "id": "wmK8GGoISato"
      },
      "id": "wmK8GGoISato"
    },
    {
      "cell_type": "markdown",
      "id": "a8899446",
      "metadata": {
        "id": "a8899446"
      },
      "source": [
        "We can optimize the lending threshold to achieve the **best recall for the lender**, at the same time as that threshold is **fair for minority groups**.\n",
        "\n",
        "optimal_threshold = $\\underset{pd \\in PD}{\\operatorname{argmax} 𝘧(X)}$, constrain on precision and recall for minority vs majority groups\n",
        "\n",
        "We find the optimal_threshold for our function, 𝘧(X), by testing a range of probability of default thresholds, PD, above which we refuse credit, finding the threshold with the maximum recall, while ensuring recall and precision for females is >= 80% of the respective value for males (and similar with other minority groups).\n",
        "  \n",
        "\n"
      ]
    },
    {
      "cell_type": "code",
      "execution_count": null,
      "id": "d379c310",
      "metadata": {
        "id": "d379c310"
      },
      "outputs": [],
      "source": [
        "# Get the optimal threhold to use, by iterating over different probability of default lending thresholds, maximizing recall and checking fairness by observing precision.\n",
        "optimal_threshold = FairnessUtils.decision_threshold_find_optimal(max_mdl, \n",
        "                                                                  X_test=X_test, \n",
        "                                                                  y_test=y_test, \n",
        "                                                                  X_test_category_col=X_test_gender, \n",
        "                                                                  threshold_min_max=[40,60], \n",
        "                                                                  fairness_tolerance=0.2) \n",
        "\n",
        "# Approvals? Probabuility of default < optimal_threshold, is accepted.\n",
        "y_approvals = max_mdl.predict_proba(GovernanceUtils.norm_X(X_train, X_test.copy(deep=True)).values)[:,1] < optimal_threshold"
      ]
    },
    {
      "cell_type": "code",
      "source": [
        "optimal_threshold"
      ],
      "metadata": {
        "id": "3siqlNSe68yi"
      },
      "id": "3siqlNSe68yi",
      "execution_count": null,
      "outputs": []
    },
    {
      "cell_type": "markdown",
      "source": [
        "The chart above shows how our model performs in terms of recall and precision if we refuse credit at a range of default probabilities (i.e., thresholds). We test thresholds from a low of 30% probability of default to a high of 99% probability of default. You can see how the recall and the precision of the model changes overall (All), and for female and male groups for the various thresholds of default.\n",
        "\n",
        "In this example, at the optimal_threshold, recall is maximized, and for both recall and precision, the minority group (Female) is not beyond the unfairness bounds, so there should be no fairness-related issues with this model. \n"
      ],
      "metadata": {
        "id": "5J5M7xoa7a7_"
      },
      "id": "5J5M7xoa7a7_"
    },
    {
      "cell_type": "markdown",
      "id": "0LFyHIAP59O7",
      "metadata": {
        "id": "0LFyHIAP59O7"
      },
      "source": [
        "# Stage4: Model Deployment \n",
        "\n",
        "Deploying a model involves tiers of testing before sign off and release to the live environment, called **change control**. This involves making sure all stakeholder KPIs are satisfied and for this we can use **expainable AI (XAI)** to help explain the workings of the models to stakeholders. We now generate shap_values to explain the impact of features on our model outcomes.\n"
      ]
    },
    {
      "cell_type": "code",
      "execution_count": null,
      "id": "_xCoD7kw6r0b",
      "metadata": {
        "id": "_xCoD7kw6r0b"
      },
      "outputs": [],
      "source": [
        "shap_values, expl, X_test_reduced, X_test_protected_reduced = StakeholderKPIReporting.classifier_shap_vals(max_mdl=max_mdl, \n",
        "                                                                                  X_test=X_test,                                                                                      \n",
        "                                                                                  X_test_protected=X_test_gender)"
      ]
    },
    {
      "cell_type": "markdown",
      "id": "xDmGSQUV2Fle",
      "metadata": {
        "id": "xDmGSQUV2Fle"
      },
      "source": [
        "## Stage4a. KPIs\n"
      ]
    },
    {
      "cell_type": "markdown",
      "id": "bdMhCBHMFf4v",
      "metadata": {
        "id": "bdMhCBHMFf4v"
      },
      "source": [
        "### 1) Analyst and technical explainability\n",
        "\n",
        "Analyst KPIs involve reviewing model performance, using a ROC curve, as well as consulting analytics, and examining the most important model features.\n"
      ]
    },
    {
      "cell_type": "code",
      "execution_count": null,
      "id": "fPlSWba2dSoo",
      "metadata": {
        "id": "fPlSWba2dSoo"
      },
      "outputs": [],
      "source": [
        "# Analyst KPI...\n",
        "StakeholderKPIReporting.kpi_review_analyst(mdl=max_mdl,X=X_test, y=y_test, y_hat=y_test_hat)"
      ]
    },
    {
      "cell_type": "markdown",
      "id": "8u7btmtyFKNn",
      "metadata": {
        "id": "8u7btmtyFKNn"
      },
      "source": [
        "We can use SHAP to plot feature importance."
      ]
    },
    {
      "cell_type": "code",
      "execution_count": null,
      "id": "NfwlscWzExPQ",
      "metadata": {
        "id": "NfwlscWzExPQ"
      },
      "outputs": [],
      "source": [
        "# Plot the feature importance\n",
        "plt.set_title = \"Feature Importance: Credit-Use Case Feature Importance\"\n",
        "shap.summary_plot(shap_values, X_test_reduced, feature_names=list(X_test_reduced.columns.values), plot_type='bar', show=False)\n",
        "plt.show()"
      ]
    },
    {
      "cell_type": "markdown",
      "id": "0S8f3dp_xkqS",
      "metadata": {
        "id": "0S8f3dp_xkqS"
      },
      "source": [
        "And use a SHAP Beeswarm plot to show the impact of individual instances on model outcomes, which gives us a handle on feature importance and the distribution of the impact of those features too. "
      ]
    },
    {
      "cell_type": "code",
      "execution_count": null,
      "id": "r0GjSB9YxlEl",
      "metadata": {
        "id": "r0GjSB9YxlEl"
      },
      "outputs": [],
      "source": [
        "shap.summary_plot(shap_values, X_test_reduced, show=False)\n",
        "plt.set_title = \"Beeswarm: Credit-Use Case Feature Importance and Dependency\"\n",
        "plt.show()"
      ]
    },
    {
      "cell_type": "markdown",
      "id": "ce1fcWInh48Q",
      "metadata": {
        "id": "ce1fcWInh48Q"
      },
      "source": [
        "### 2) Compliance and Regulatory\n",
        "\n"
      ]
    },
    {
      "cell_type": "markdown",
      "id": "fxV86fMFKX7r",
      "metadata": {
        "id": "fxV86fMFKX7r"
      },
      "source": [
        "We can also use SHAP to detect anomalies from a Fairness standpoint too, by plotting feature importance of male and female groups side by side (for example). We would expect the feature importance for both groups to be similar, and if it is not we may have an issue.\n"
      ]
    },
    {
      "cell_type": "code",
      "execution_count": null,
      "id": "nqJGtpmu1nig",
      "metadata": {
        "id": "nqJGtpmu1nig"
      },
      "outputs": [],
      "source": [
        "# Some learners do not have direct support from shap. \n",
        "try:\n",
        "  # Feature importance by protected characteristic.. different treatment?\n",
        "  curr_prot_cats = X_test_protected_reduced.values \n",
        "  # Plot the feature importance\n",
        "  shap.plots.bar(shap_values.cohorts(curr_prot_cats).abs.mean(0), \n",
        "                 show=True,\n",
        "                 max_display=20)\n",
        "  \n",
        "  plt.title(\"Bias Check: Feature Importance of protected group: \" + prot_char)\n",
        "  plt.show()\n",
        "except:\n",
        "  print('SHAP values do not allow cohort separation for ' + str(type(max_mdl)))"
      ]
    },
    {
      "cell_type": "markdown",
      "source": [
        "We have already reviewed the fairness of our model and the lending threshold.\n",
        "\n",
        "\n",
        "#@@@@@@@@@@@@@@@@@@@@@@@@@@@@@@@@@@@@@@@@@@\n",
        "# BARS CHANGED!! DIFFFERENT MODEL\n",
        "#@@@@@@@@@@@@@@@@@@@@@@@@@@@@@@@@@@@@@@@@@@"
      ],
      "metadata": {
        "id": "8WwRH7DmSr51"
      },
      "id": "8WwRH7DmSr51"
    },
    {
      "cell_type": "code",
      "source": [
        "# Test our optimum threshold\n",
        "df_stats = FairnessUtils.fairness_stats_get (mod=max_mdl, \n",
        "                               X_test=X_test, \n",
        "                               y_test=y_test, \n",
        "                               X_test_category_col=X_test_gender, \n",
        "                               y_approval_threshold=optimal_threshold)\n",
        "\n",
        "FairnessUtils.plot_fairness_charts(df_stats=df_stats, \n",
        "                                   majority_class=\"male\", \n",
        "                                   fairness_metric=\"precision\",\n",
        "                                   threshold_metric=\"recall\")"
      ],
      "metadata": {
        "id": "1huFH12USsKh"
      },
      "id": "1huFH12USsKh",
      "execution_count": null,
      "outputs": []
    },
    {
      "cell_type": "markdown",
      "id": "De8c3JUdKvtR",
      "metadata": {
        "id": "De8c3JUdKvtR"
      },
      "source": [
        "### 3) Customer\n",
        "\n",
        "A customer may want to know the reasons why credit has been refused, and we can use a SHAP waterfall plot to help understand this issue."
      ]
    },
    {
      "cell_type": "code",
      "execution_count": null,
      "id": "4ZHyTdYTLCh8",
      "metadata": {
        "id": "4ZHyTdYTLCh8"
      },
      "outputs": [],
      "source": [
        "# Find a customer with bad credit prediction\n",
        "for rejected_eg_rowno in range(0,y_test.shape[0]):\n",
        "  if y_approvals[rejected_eg_rowno] == False:\n",
        "    break\n",
        "\n",
        "# This customer was refused credit and we can provide an explanation for their refusal...\n",
        "try:\n",
        "  shap.plots.waterfall(shap_values[rejected_eg_rowno])\n",
        "except:\n",
        "  print('Shap charts of this type are not supported for ' + str(type(max_mdl)))"
      ]
    },
    {
      "cell_type": "markdown",
      "source": [
        "We are able to use SHAP to drill down into a single loan application to understand why credit was refused. In this case it was down to several factors you can see above."
      ],
      "metadata": {
        "id": "bFL7Bw34Yd3z"
      },
      "id": "bFL7Bw34Yd3z"
    },
    {
      "cell_type": "markdown",
      "id": "TTN8r_7zRDbt",
      "metadata": {
        "id": "TTN8r_7zRDbt"
      },
      "source": [
        "# Stage 5: Model Monitoring and Reporting\n"
      ]
    },
    {
      "cell_type": "markdown",
      "id": "j3se-Ud-Spu3",
      "metadata": {
        "id": "j3se-Ud-Spu3"
      },
      "source": [
        "## Stage5a: Data Drift\n",
        "\n",
        "\n",
        "Our model is now in production and being used in practice. We need to monitor its stability. One approach is to monitor the distribution of the input data versus the data the model was trained with . If the distributions have shifted the model outcomes could be invalidated. \n",
        "Here we use our function **data_drift_psi** to monitor data drift.\n",
        "\n",
        "Is it time for us to retrain our model?\n"
      ]
    },
    {
      "cell_type": "code",
      "execution_count": null,
      "id": "QREnQ1poSmRR",
      "metadata": {
        "id": "QREnQ1poSmRR"
      },
      "outputs": [],
      "source": [
        "# Prepare train and test data for data drift check\n",
        "train_datadrift = pd.concat([X_train, y_train], axis=1)\n",
        "test_datadrift = pd.concat([X_test, y_test], axis=1)\n",
        "\n",
        "# Data drift check...\n",
        "data_drift_features = GovernanceUtils.data_drift_psi(train_datadrift,test_datadrift,buckettype='bins',buckets=10,axis=1,single_variable=False)\n",
        "data_drift_target = data_drift_features[-1]\n",
        "\n",
        "# Print out the target PSI value:\n",
        "print(\"Target PSI value is \",data_drift_target, \"\\n\" )\n",
        "\n",
        "# Print out the features CSI values\n",
        "print(\"The feature CSI values are:\")\n",
        "columns_features = train_datadrift.columns\n",
        "index_value = 0\n",
        "for x in columns_features:\n",
        "  if data_drift_features[index_value] > 0.2:\n",
        "          print(x, \"*************** CSI value is over 0.2 = \",data_drift_features[index_value])\n",
        "  elif data_drift_features[index_value] > 0.1:\n",
        "          print(x, \"*************** CSI value is over 0.1 = \",data_drift_features[index_value])\n",
        "  else:\n",
        "          print(x, \"CSI is OK = \",data_drift_features[index_value])\n",
        "  index_value = index_value + 1\n"
      ]
    },
    {
      "cell_type": "markdown",
      "id": "4wmYyfyWRmrR",
      "metadata": {
        "id": "4wmYyfyWRmrR"
      },
      "source": [
        "## Stage5b: Challenger Models\n",
        "\n",
        "Remember that we selected a classifier based on its F1 score performance? We can use the other models that we trained at that time, to provide another check on our live model. This is called a **challenger model**.\n"
      ]
    },
    {
      "cell_type": "code",
      "execution_count": null,
      "id": "_8v9zlaWTd3F",
      "metadata": {
        "id": "_8v9zlaWTd3F"
      },
      "outputs": [],
      "source": [
        "# Run the challenger ensemble\n",
        "y_test_hat, ens_mdl = GovernanceUtils.challenger_ensemble_run(all_mdls=all_models,\n",
        "                        all_mdls_desc=all_models_desc,\n",
        "                        all_mdls_prec=all_mdls_prec,\n",
        "                        X_train=X_train,\n",
        "                        y_train=y_train,\n",
        "                        X_test=X_test)\n",
        "\n",
        "# Do we need to retrain the live model?\n",
        "challenger_check_warning = GovernanceUtils.challenger_review_live(live_mod=max_mdl, challenger_mod=ens_mdl, X_test=X_test, y_test=y_test)"
      ]
    },
    {
      "cell_type": "code",
      "source": [
        "# Not we see if there are any warnings to do with the performance of our live model versus the Challenger model: \n",
        "# ... '' means ... no warnings\n",
        "challenger_check_warning"
      ],
      "metadata": {
        "id": "2G7xB1Tk-Le4"
      },
      "id": "2G7xB1Tk-Le4",
      "execution_count": null,
      "outputs": []
    },
    {
      "cell_type": "markdown",
      "source": [
        "In this case the **challenger model** is superior to our live model in terms of both recall (identifying FNs), and also precision (identifying FP). Maybe it is time for us to redevelop our model?"
      ],
      "metadata": {
        "id": "IgxgPv3My2kv"
      },
      "id": "IgxgPv3My2kv"
    },
    {
      "cell_type": "markdown",
      "source": [
        "# Afterword\n",
        "\n",
        "We have done our best to include the key themes of what we think are the critical stages of model development in this notebook, but clearly in practice many more checks and details would be added to each of the 5 model development stages to best ensure stakeholder's KPIs are met, and Governance standards would be as high as possible. Hopefully our example and key themes will provide insight to avoid many of the classic biases in model development."
      ],
      "metadata": {
        "id": "maH6e9W3S-Va"
      },
      "id": "maH6e9W3S-Va"
    }
  ],
  "metadata": {
    "colab": {
      "provenance": []
    },
    "kernelspec": {
      "display_name": "Python 3 (ipykernel)",
      "language": "python",
      "name": "python3"
    },
    "language_info": {
      "codemirror_mode": {
        "name": "ipython",
        "version": 3
      },
      "file_extension": ".py",
      "mimetype": "text/x-python",
      "name": "python",
      "nbconvert_exporter": "python",
      "pygments_lexer": "ipython3",
      "version": "3.9.12"
    }
  },
  "nbformat": 4,
  "nbformat_minor": 5
}