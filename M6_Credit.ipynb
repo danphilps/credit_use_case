{
  "cells": [
    {
      "cell_type": "markdown",
      "id": "a5cc8190",
      "metadata": {
        "id": "a5cc8190"
      },
      "source": [
        "# Consumer Finance Case Study​\n",
        "\n",
        "Dan Philps PhD CFA"
      ]
    },
    {
      "cell_type": "markdown",
      "source": [
        "In this code lab we will develop models to predict bad consumer credits for driving fair and interpretable lending decisions. We develop the models within the 5 stage Governance Framework, and explain how models can be validated, monitored and made to be fair.\n",
        "\n",
        "The pace will be fast but feel free to experiment with the code to get a feel for the principles of best practice.\n",
        "\n",
        "\n",
        "Dataset: Credit risk https://datahub.io/machine-learning/credit-g, contributed by Dr. Hans Hofmann, UCI German Credit Data. UCI Machine Learning Repository [http://archive.ics.uci.edu/ml]. Irvine, CA: University of California, School of Information and Computer Science."
      ],
      "metadata": {
        "id": "MfJfdlTlohXf"
      },
      "id": "MfJfdlTlohXf"
    },
    {
      "cell_type": "code",
      "execution_count": 1,
      "id": "35f08271",
      "metadata": {
        "id": "35f08271"
      },
      "outputs": [],
      "source": [
        "# import the main packages we will need\n",
        "# package for working with tabular data\n",
        "import pandas as pd \n",
        "import numpy as np\n",
        "\n",
        "# Package for charting\n",
        "import matplotlib.pyplot as plt\n",
        "import seaborn as sns #charts\n",
        "\n",
        "# package for timing runtime\n",
        "import time\n",
        "\n",
        "# package for navigating the operating system\n",
        "import os"
      ]
    },
    {
      "cell_type": "code",
      "source": [
        "# We may have to install SHAP, an explainable AI (XAI) package onto your machine (or your Google Colab session if you are running this notebook in Colabl)\n",
        "!pip install shap\n",
        "import shap"
      ],
      "metadata": {
        "colab": {
          "base_uri": "https://localhost:8080/"
        },
        "id": "dTROkX0WobxD",
        "outputId": "82e13892-abe1-411d-91f6-7c8b8610380e"
      },
      "id": "dTROkX0WobxD",
      "execution_count": 2,
      "outputs": [
        {
          "output_type": "stream",
          "name": "stdout",
          "text": [
            "Looking in indexes: https://pypi.org/simple, https://us-python.pkg.dev/colab-wheels/public/simple/\n",
            "Collecting shap\n",
            "  Downloading shap-0.41.0-cp38-cp38-manylinux_2_12_x86_64.manylinux2010_x86_64.whl (575 kB)\n",
            "\u001b[K     |████████████████████████████████| 575 kB 5.0 MB/s \n",
            "\u001b[?25hCollecting slicer==0.0.7\n",
            "  Downloading slicer-0.0.7-py3-none-any.whl (14 kB)\n",
            "Requirement already satisfied: scipy in /usr/local/lib/python3.8/dist-packages (from shap) (1.7.3)\n",
            "Requirement already satisfied: pandas in /usr/local/lib/python3.8/dist-packages (from shap) (1.3.5)\n",
            "Requirement already satisfied: packaging>20.9 in /usr/local/lib/python3.8/dist-packages (from shap) (21.3)\n",
            "Requirement already satisfied: scikit-learn in /usr/local/lib/python3.8/dist-packages (from shap) (1.0.2)\n",
            "Requirement already satisfied: numba in /usr/local/lib/python3.8/dist-packages (from shap) (0.56.4)\n",
            "Requirement already satisfied: tqdm>4.25.0 in /usr/local/lib/python3.8/dist-packages (from shap) (4.64.1)\n",
            "Requirement already satisfied: cloudpickle in /usr/local/lib/python3.8/dist-packages (from shap) (1.5.0)\n",
            "Requirement already satisfied: numpy in /usr/local/lib/python3.8/dist-packages (from shap) (1.21.6)\n",
            "Requirement already satisfied: pyparsing!=3.0.5,>=2.0.2 in /usr/local/lib/python3.8/dist-packages (from packaging>20.9->shap) (3.0.9)\n",
            "Requirement already satisfied: setuptools in /usr/local/lib/python3.8/dist-packages (from numba->shap) (57.4.0)\n",
            "Requirement already satisfied: importlib-metadata in /usr/local/lib/python3.8/dist-packages (from numba->shap) (5.1.0)\n",
            "Requirement already satisfied: llvmlite<0.40,>=0.39.0dev0 in /usr/local/lib/python3.8/dist-packages (from numba->shap) (0.39.1)\n",
            "Requirement already satisfied: zipp>=0.5 in /usr/local/lib/python3.8/dist-packages (from importlib-metadata->numba->shap) (3.11.0)\n",
            "Requirement already satisfied: pytz>=2017.3 in /usr/local/lib/python3.8/dist-packages (from pandas->shap) (2022.6)\n",
            "Requirement already satisfied: python-dateutil>=2.7.3 in /usr/local/lib/python3.8/dist-packages (from pandas->shap) (2.8.2)\n",
            "Requirement already satisfied: six>=1.5 in /usr/local/lib/python3.8/dist-packages (from python-dateutil>=2.7.3->pandas->shap) (1.15.0)\n",
            "Requirement already satisfied: joblib>=0.11 in /usr/local/lib/python3.8/dist-packages (from scikit-learn->shap) (1.2.0)\n",
            "Requirement already satisfied: threadpoolctl>=2.0.0 in /usr/local/lib/python3.8/dist-packages (from scikit-learn->shap) (3.1.0)\n",
            "Installing collected packages: slicer, shap\n",
            "Successfully installed shap-0.41.0 slicer-0.0.7\n"
          ]
        }
      ]
    },
    {
      "cell_type": "markdown",
      "id": "JE0VW_oeVnah",
      "metadata": {
        "id": "JE0VW_oeVnah"
      },
      "source": [
        "## Github Repo\n",
        "Many of the functions we use in this notebook are wrapped up in three functional classes on the FinGov repository. For students with coding background and the interest, we encourage you to review these classes and functions."
      ]
    },
    {
      "cell_type": "code",
      "source": [
        "# Clone the FinGov repo which has key utility functions for this notebook\n",
        "if os.path.exists('FinGov') == False:\n",
        "  !git clone https://github.com/danphilps/FinGov\n",
        "\n",
        "# Now import the objects from the repo\n",
        "os.chdir('FinGov')\n",
        "from StakeholderKPIReporting import StakeholderKPIReporting\n",
        "from GovernanceUtils import GovernanceUtils\n",
        "from FairnessUtils import FairnessUtils\n",
        "\n",
        "import CFACreditUseCaseUtils\n"
      ],
      "metadata": {
        "colab": {
          "base_uri": "https://localhost:8080/"
        },
        "id": "uunH93sCCS1W",
        "outputId": "616cc402-8d57-4ba6-f04a-0668105dba0a"
      },
      "id": "uunH93sCCS1W",
      "execution_count": 3,
      "outputs": [
        {
          "output_type": "stream",
          "name": "stdout",
          "text": [
            "Cloning into 'FinGov'...\n",
            "remote: Enumerating objects: 413, done.\u001b[K\n",
            "remote: Counting objects: 100% (12/12), done.\u001b[K\n",
            "remote: Compressing objects: 100% (12/12), done.\u001b[K\n",
            "remote: Total 413 (delta 2), reused 0 (delta 0), pack-reused 401\u001b[K\n",
            "Receiving objects: 100% (413/413), 190.80 KiB | 2.85 MiB/s, done.\n",
            "Resolving deltas: 100% (246/246), done.\n"
          ]
        }
      ]
    },
    {
      "cell_type": "markdown",
      "id": "rDXnNSIt5GUs",
      "metadata": {
        "id": "rDXnNSIt5GUs"
      },
      "source": [
        "# Stage1. Business Case \n"
      ]
    },
    {
      "cell_type": "markdown",
      "source": [
        "##Key Performance Indicators\n",
        "\n",
        "- **Customer KPI (Fairness):** Customers are disadvantaged by false positives (FP), where a perfectly good applicant is predicted as a bad credit, so denied a loan. Precision is a measure that can be used to ensure that the false positives are consistent across various groups.\n",
        "\n",
        "- **The lending institution KPI (Risk Management):** For proper risk management, the lender needs to reduce false negatives (FN), a bad applicant predicted as a good credit, who receives a loan then defaults. This means that model recall should be maximized, which would indicate minimal false negatives.\n",
        "\n",
        "- **Compliance and Regulatory KPI (Fairness):** Regulatory KPIs are considered to focus on fairness (similar to the customer KPI above).\n",
        "\n",
        "\n",
        "\n",
        "![image.png](data:image/png;base64,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)\n",
        "(Source: Wikipedia)\n",
        "\n"
      ],
      "metadata": {
        "id": "PGuOF1tFHzyG"
      },
      "id": "PGuOF1tFHzyG"
    },
    {
      "cell_type": "markdown",
      "id": "_DfUFfsmFWh5",
      "metadata": {
        "id": "_DfUFfsmFWh5"
      },
      "source": [
        "# Stage2. Data\n",
        "\n",
        "Next we load the data we need to achieve our business aims, wrangle it and prepare it."
      ]
    },
    {
      "cell_type": "markdown",
      "id": "z_M1xrqYGCJ9",
      "metadata": {
        "id": "z_M1xrqYGCJ9"
      },
      "source": [
        "## Stage2a. Load Data"
      ]
    },
    {
      "cell_type": "code",
      "execution_count": 4,
      "id": "LusHe3a2BF_t",
      "metadata": {
        "id": "LusHe3a2BF_t"
      },
      "outputs": [],
      "source": [
        "# Load the data from out GitHub repo...\n",
        "loc = \"data/credit-g.csv\"\n",
        "df_raw = pd.read_csv('https://raw.githubusercontent.com/danphilps/FinGov/main/data/credit-g.csv')"
      ]
    },
    {
      "cell_type": "markdown",
      "id": "bdd49632",
      "metadata": {
        "id": "bdd49632"
      },
      "source": [
        "## Stage2b. Data Wrangling and Preprocessing\n",
        "\n",
        "Data Wrangling: Convert categorical data into one-hot-encodings, clean characters from numeric data columns, carry out type conversions into numeric datatypes... all to ensure our ML can ingest and use the data we provide it with. The following cell shows the appropriate data wrangling to get our data into a good shape. "
      ]
    },
    {
      "cell_type": "code",
      "execution_count": 5,
      "id": "c62115a2",
      "metadata": {
        "id": "c62115a2",
        "scrolled": true,
        "colab": {
          "base_uri": "https://localhost:8080/",
          "height": 557
        },
        "outputId": "862cd292-5c3d-448b-eecd-b7a3cf9cb075"
      },
      "outputs": [
        {
          "output_type": "execute_result",
          "data": {
            "text/plain": [
              "     duration  credit_amount  installment_commitment     personal_status  \\\n",
              "0           6           1169                       4         male single   \n",
              "1          48           5951                       2  female div/dep/mar   \n",
              "2          12           2096                       2         male single   \n",
              "3          42           7882                       2         male single   \n",
              "4          24           4870                       3         male single   \n",
              "..        ...            ...                     ...                 ...   \n",
              "995        12           1736                       3  female div/dep/mar   \n",
              "996        30           3857                       4        male div/sep   \n",
              "997        12            804                       4         male single   \n",
              "998        45           1845                       4         male single   \n",
              "999        45           4576                       3         male single   \n",
              "\n",
              "     residence_since  age  existing_credits  num_dependents  foreign_worker  \\\n",
              "0                  4   67                 2               1               1   \n",
              "1                  2   22                 1               1               1   \n",
              "2                  3   49                 1               2               1   \n",
              "3                  4   45                 1               2               1   \n",
              "4                  4   53                 2               2               1   \n",
              "..               ...  ...               ...             ...             ...   \n",
              "995                4   31                 1               1               1   \n",
              "996                4   40                 1               1               1   \n",
              "997                4   38                 1               1               1   \n",
              "998                4   23                 1               1               1   \n",
              "999                4   27                 1               1               1   \n",
              "\n",
              "     class  ...  other_payment_plans_stores  housing_for free  housing_own  \\\n",
              "0        0  ...                           0                 0            1   \n",
              "1        1  ...                           0                 0            1   \n",
              "2        0  ...                           0                 0            1   \n",
              "3        0  ...                           0                 1            0   \n",
              "4        1  ...                           0                 1            0   \n",
              "..     ...  ...                         ...               ...          ...   \n",
              "995      0  ...                           0                 0            1   \n",
              "996      0  ...                           0                 0            1   \n",
              "997      0  ...                           0                 0            1   \n",
              "998      1  ...                           0                 1            0   \n",
              "999      0  ...                           0                 0            1   \n",
              "\n",
              "     housing_rent  job_high qualif/self emp/mgmt  job_skilled  \\\n",
              "0               0                              0            1   \n",
              "1               0                              0            1   \n",
              "2               0                              0            0   \n",
              "3               0                              0            1   \n",
              "4               0                              0            1   \n",
              "..            ...                            ...          ...   \n",
              "995             0                              0            0   \n",
              "996             0                              1            0   \n",
              "997             0                              0            1   \n",
              "998             0                              0            1   \n",
              "999             0                              0            1   \n",
              "\n",
              "     job_unemp/unskilled non res  job_unskilled resident  own_telephone_none  \\\n",
              "0                              0                       0                   0   \n",
              "1                              0                       0                   1   \n",
              "2                              0                       1                   1   \n",
              "3                              0                       0                   1   \n",
              "4                              0                       0                   1   \n",
              "..                           ...                     ...                 ...   \n",
              "995                            0                       1                   1   \n",
              "996                            0                       0                   0   \n",
              "997                            0                       0                   1   \n",
              "998                            0                       0                   0   \n",
              "999                            0                       0                   1   \n",
              "\n",
              "     own_telephone_yes  \n",
              "0                    1  \n",
              "1                    0  \n",
              "2                    0  \n",
              "3                    0  \n",
              "4                    0  \n",
              "..                 ...  \n",
              "995                  0  \n",
              "996                  1  \n",
              "997                  0  \n",
              "998                  1  \n",
              "999                  0  \n",
              "\n",
              "[1000 rows x 58 columns]"
            ],
            "text/html": [
              "\n",
              "  <div id=\"df-998b35c5-55ce-4914-9111-97974929f9f9\">\n",
              "    <div class=\"colab-df-container\">\n",
              "      <div>\n",
              "<style scoped>\n",
              "    .dataframe tbody tr th:only-of-type {\n",
              "        vertical-align: middle;\n",
              "    }\n",
              "\n",
              "    .dataframe tbody tr th {\n",
              "        vertical-align: top;\n",
              "    }\n",
              "\n",
              "    .dataframe thead th {\n",
              "        text-align: right;\n",
              "    }\n",
              "</style>\n",
              "<table border=\"1\" class=\"dataframe\">\n",
              "  <thead>\n",
              "    <tr style=\"text-align: right;\">\n",
              "      <th></th>\n",
              "      <th>duration</th>\n",
              "      <th>credit_amount</th>\n",
              "      <th>installment_commitment</th>\n",
              "      <th>personal_status</th>\n",
              "      <th>residence_since</th>\n",
              "      <th>age</th>\n",
              "      <th>existing_credits</th>\n",
              "      <th>num_dependents</th>\n",
              "      <th>foreign_worker</th>\n",
              "      <th>class</th>\n",
              "      <th>...</th>\n",
              "      <th>other_payment_plans_stores</th>\n",
              "      <th>housing_for free</th>\n",
              "      <th>housing_own</th>\n",
              "      <th>housing_rent</th>\n",
              "      <th>job_high qualif/self emp/mgmt</th>\n",
              "      <th>job_skilled</th>\n",
              "      <th>job_unemp/unskilled non res</th>\n",
              "      <th>job_unskilled resident</th>\n",
              "      <th>own_telephone_none</th>\n",
              "      <th>own_telephone_yes</th>\n",
              "    </tr>\n",
              "  </thead>\n",
              "  <tbody>\n",
              "    <tr>\n",
              "      <th>0</th>\n",
              "      <td>6</td>\n",
              "      <td>1169</td>\n",
              "      <td>4</td>\n",
              "      <td>male single</td>\n",
              "      <td>4</td>\n",
              "      <td>67</td>\n",
              "      <td>2</td>\n",
              "      <td>1</td>\n",
              "      <td>1</td>\n",
              "      <td>0</td>\n",
              "      <td>...</td>\n",
              "      <td>0</td>\n",
              "      <td>0</td>\n",
              "      <td>1</td>\n",
              "      <td>0</td>\n",
              "      <td>0</td>\n",
              "      <td>1</td>\n",
              "      <td>0</td>\n",
              "      <td>0</td>\n",
              "      <td>0</td>\n",
              "      <td>1</td>\n",
              "    </tr>\n",
              "    <tr>\n",
              "      <th>1</th>\n",
              "      <td>48</td>\n",
              "      <td>5951</td>\n",
              "      <td>2</td>\n",
              "      <td>female div/dep/mar</td>\n",
              "      <td>2</td>\n",
              "      <td>22</td>\n",
              "      <td>1</td>\n",
              "      <td>1</td>\n",
              "      <td>1</td>\n",
              "      <td>1</td>\n",
              "      <td>...</td>\n",
              "      <td>0</td>\n",
              "      <td>0</td>\n",
              "      <td>1</td>\n",
              "      <td>0</td>\n",
              "      <td>0</td>\n",
              "      <td>1</td>\n",
              "      <td>0</td>\n",
              "      <td>0</td>\n",
              "      <td>1</td>\n",
              "      <td>0</td>\n",
              "    </tr>\n",
              "    <tr>\n",
              "      <th>2</th>\n",
              "      <td>12</td>\n",
              "      <td>2096</td>\n",
              "      <td>2</td>\n",
              "      <td>male single</td>\n",
              "      <td>3</td>\n",
              "      <td>49</td>\n",
              "      <td>1</td>\n",
              "      <td>2</td>\n",
              "      <td>1</td>\n",
              "      <td>0</td>\n",
              "      <td>...</td>\n",
              "      <td>0</td>\n",
              "      <td>0</td>\n",
              "      <td>1</td>\n",
              "      <td>0</td>\n",
              "      <td>0</td>\n",
              "      <td>0</td>\n",
              "      <td>0</td>\n",
              "      <td>1</td>\n",
              "      <td>1</td>\n",
              "      <td>0</td>\n",
              "    </tr>\n",
              "    <tr>\n",
              "      <th>3</th>\n",
              "      <td>42</td>\n",
              "      <td>7882</td>\n",
              "      <td>2</td>\n",
              "      <td>male single</td>\n",
              "      <td>4</td>\n",
              "      <td>45</td>\n",
              "      <td>1</td>\n",
              "      <td>2</td>\n",
              "      <td>1</td>\n",
              "      <td>0</td>\n",
              "      <td>...</td>\n",
              "      <td>0</td>\n",
              "      <td>1</td>\n",
              "      <td>0</td>\n",
              "      <td>0</td>\n",
              "      <td>0</td>\n",
              "      <td>1</td>\n",
              "      <td>0</td>\n",
              "      <td>0</td>\n",
              "      <td>1</td>\n",
              "      <td>0</td>\n",
              "    </tr>\n",
              "    <tr>\n",
              "      <th>4</th>\n",
              "      <td>24</td>\n",
              "      <td>4870</td>\n",
              "      <td>3</td>\n",
              "      <td>male single</td>\n",
              "      <td>4</td>\n",
              "      <td>53</td>\n",
              "      <td>2</td>\n",
              "      <td>2</td>\n",
              "      <td>1</td>\n",
              "      <td>1</td>\n",
              "      <td>...</td>\n",
              "      <td>0</td>\n",
              "      <td>1</td>\n",
              "      <td>0</td>\n",
              "      <td>0</td>\n",
              "      <td>0</td>\n",
              "      <td>1</td>\n",
              "      <td>0</td>\n",
              "      <td>0</td>\n",
              "      <td>1</td>\n",
              "      <td>0</td>\n",
              "    </tr>\n",
              "    <tr>\n",
              "      <th>...</th>\n",
              "      <td>...</td>\n",
              "      <td>...</td>\n",
              "      <td>...</td>\n",
              "      <td>...</td>\n",
              "      <td>...</td>\n",
              "      <td>...</td>\n",
              "      <td>...</td>\n",
              "      <td>...</td>\n",
              "      <td>...</td>\n",
              "      <td>...</td>\n",
              "      <td>...</td>\n",
              "      <td>...</td>\n",
              "      <td>...</td>\n",
              "      <td>...</td>\n",
              "      <td>...</td>\n",
              "      <td>...</td>\n",
              "      <td>...</td>\n",
              "      <td>...</td>\n",
              "      <td>...</td>\n",
              "      <td>...</td>\n",
              "      <td>...</td>\n",
              "    </tr>\n",
              "    <tr>\n",
              "      <th>995</th>\n",
              "      <td>12</td>\n",
              "      <td>1736</td>\n",
              "      <td>3</td>\n",
              "      <td>female div/dep/mar</td>\n",
              "      <td>4</td>\n",
              "      <td>31</td>\n",
              "      <td>1</td>\n",
              "      <td>1</td>\n",
              "      <td>1</td>\n",
              "      <td>0</td>\n",
              "      <td>...</td>\n",
              "      <td>0</td>\n",
              "      <td>0</td>\n",
              "      <td>1</td>\n",
              "      <td>0</td>\n",
              "      <td>0</td>\n",
              "      <td>0</td>\n",
              "      <td>0</td>\n",
              "      <td>1</td>\n",
              "      <td>1</td>\n",
              "      <td>0</td>\n",
              "    </tr>\n",
              "    <tr>\n",
              "      <th>996</th>\n",
              "      <td>30</td>\n",
              "      <td>3857</td>\n",
              "      <td>4</td>\n",
              "      <td>male div/sep</td>\n",
              "      <td>4</td>\n",
              "      <td>40</td>\n",
              "      <td>1</td>\n",
              "      <td>1</td>\n",
              "      <td>1</td>\n",
              "      <td>0</td>\n",
              "      <td>...</td>\n",
              "      <td>0</td>\n",
              "      <td>0</td>\n",
              "      <td>1</td>\n",
              "      <td>0</td>\n",
              "      <td>1</td>\n",
              "      <td>0</td>\n",
              "      <td>0</td>\n",
              "      <td>0</td>\n",
              "      <td>0</td>\n",
              "      <td>1</td>\n",
              "    </tr>\n",
              "    <tr>\n",
              "      <th>997</th>\n",
              "      <td>12</td>\n",
              "      <td>804</td>\n",
              "      <td>4</td>\n",
              "      <td>male single</td>\n",
              "      <td>4</td>\n",
              "      <td>38</td>\n",
              "      <td>1</td>\n",
              "      <td>1</td>\n",
              "      <td>1</td>\n",
              "      <td>0</td>\n",
              "      <td>...</td>\n",
              "      <td>0</td>\n",
              "      <td>0</td>\n",
              "      <td>1</td>\n",
              "      <td>0</td>\n",
              "      <td>0</td>\n",
              "      <td>1</td>\n",
              "      <td>0</td>\n",
              "      <td>0</td>\n",
              "      <td>1</td>\n",
              "      <td>0</td>\n",
              "    </tr>\n",
              "    <tr>\n",
              "      <th>998</th>\n",
              "      <td>45</td>\n",
              "      <td>1845</td>\n",
              "      <td>4</td>\n",
              "      <td>male single</td>\n",
              "      <td>4</td>\n",
              "      <td>23</td>\n",
              "      <td>1</td>\n",
              "      <td>1</td>\n",
              "      <td>1</td>\n",
              "      <td>1</td>\n",
              "      <td>...</td>\n",
              "      <td>0</td>\n",
              "      <td>1</td>\n",
              "      <td>0</td>\n",
              "      <td>0</td>\n",
              "      <td>0</td>\n",
              "      <td>1</td>\n",
              "      <td>0</td>\n",
              "      <td>0</td>\n",
              "      <td>0</td>\n",
              "      <td>1</td>\n",
              "    </tr>\n",
              "    <tr>\n",
              "      <th>999</th>\n",
              "      <td>45</td>\n",
              "      <td>4576</td>\n",
              "      <td>3</td>\n",
              "      <td>male single</td>\n",
              "      <td>4</td>\n",
              "      <td>27</td>\n",
              "      <td>1</td>\n",
              "      <td>1</td>\n",
              "      <td>1</td>\n",
              "      <td>0</td>\n",
              "      <td>...</td>\n",
              "      <td>0</td>\n",
              "      <td>0</td>\n",
              "      <td>1</td>\n",
              "      <td>0</td>\n",
              "      <td>0</td>\n",
              "      <td>1</td>\n",
              "      <td>0</td>\n",
              "      <td>0</td>\n",
              "      <td>1</td>\n",
              "      <td>0</td>\n",
              "    </tr>\n",
              "  </tbody>\n",
              "</table>\n",
              "<p>1000 rows × 58 columns</p>\n",
              "</div>\n",
              "      <button class=\"colab-df-convert\" onclick=\"convertToInteractive('df-998b35c5-55ce-4914-9111-97974929f9f9')\"\n",
              "              title=\"Convert this dataframe to an interactive table.\"\n",
              "              style=\"display:none;\">\n",
              "        \n",
              "  <svg xmlns=\"http://www.w3.org/2000/svg\" height=\"24px\"viewBox=\"0 0 24 24\"\n",
              "       width=\"24px\">\n",
              "    <path d=\"M0 0h24v24H0V0z\" fill=\"none\"/>\n",
              "    <path d=\"M18.56 5.44l.94 2.06.94-2.06 2.06-.94-2.06-.94-.94-2.06-.94 2.06-2.06.94zm-11 1L8.5 8.5l.94-2.06 2.06-.94-2.06-.94L8.5 2.5l-.94 2.06-2.06.94zm10 10l.94 2.06.94-2.06 2.06-.94-2.06-.94-.94-2.06-.94 2.06-2.06.94z\"/><path d=\"M17.41 7.96l-1.37-1.37c-.4-.4-.92-.59-1.43-.59-.52 0-1.04.2-1.43.59L10.3 9.45l-7.72 7.72c-.78.78-.78 2.05 0 2.83L4 21.41c.39.39.9.59 1.41.59.51 0 1.02-.2 1.41-.59l7.78-7.78 2.81-2.81c.8-.78.8-2.07 0-2.86zM5.41 20L4 18.59l7.72-7.72 1.47 1.35L5.41 20z\"/>\n",
              "  </svg>\n",
              "      </button>\n",
              "      \n",
              "  <style>\n",
              "    .colab-df-container {\n",
              "      display:flex;\n",
              "      flex-wrap:wrap;\n",
              "      gap: 12px;\n",
              "    }\n",
              "\n",
              "    .colab-df-convert {\n",
              "      background-color: #E8F0FE;\n",
              "      border: none;\n",
              "      border-radius: 50%;\n",
              "      cursor: pointer;\n",
              "      display: none;\n",
              "      fill: #1967D2;\n",
              "      height: 32px;\n",
              "      padding: 0 0 0 0;\n",
              "      width: 32px;\n",
              "    }\n",
              "\n",
              "    .colab-df-convert:hover {\n",
              "      background-color: #E2EBFA;\n",
              "      box-shadow: 0px 1px 2px rgba(60, 64, 67, 0.3), 0px 1px 3px 1px rgba(60, 64, 67, 0.15);\n",
              "      fill: #174EA6;\n",
              "    }\n",
              "\n",
              "    [theme=dark] .colab-df-convert {\n",
              "      background-color: #3B4455;\n",
              "      fill: #D2E3FC;\n",
              "    }\n",
              "\n",
              "    [theme=dark] .colab-df-convert:hover {\n",
              "      background-color: #434B5C;\n",
              "      box-shadow: 0px 1px 3px 1px rgba(0, 0, 0, 0.15);\n",
              "      filter: drop-shadow(0px 1px 2px rgba(0, 0, 0, 0.3));\n",
              "      fill: #FFFFFF;\n",
              "    }\n",
              "  </style>\n",
              "\n",
              "      <script>\n",
              "        const buttonEl =\n",
              "          document.querySelector('#df-998b35c5-55ce-4914-9111-97974929f9f9 button.colab-df-convert');\n",
              "        buttonEl.style.display =\n",
              "          google.colab.kernel.accessAllowed ? 'block' : 'none';\n",
              "\n",
              "        async function convertToInteractive(key) {\n",
              "          const element = document.querySelector('#df-998b35c5-55ce-4914-9111-97974929f9f9');\n",
              "          const dataTable =\n",
              "            await google.colab.kernel.invokeFunction('convertToInteractive',\n",
              "                                                     [key], {});\n",
              "          if (!dataTable) return;\n",
              "\n",
              "          const docLinkHtml = 'Like what you see? Visit the ' +\n",
              "            '<a target=\"_blank\" href=https://colab.research.google.com/notebooks/data_table.ipynb>data table notebook</a>'\n",
              "            + ' to learn more about interactive tables.';\n",
              "          element.innerHTML = '';\n",
              "          dataTable['output_type'] = 'display_data';\n",
              "          await google.colab.output.renderOutput(dataTable, element);\n",
              "          const docLink = document.createElement('div');\n",
              "          docLink.innerHTML = docLinkHtml;\n",
              "          element.appendChild(docLink);\n",
              "        }\n",
              "      </script>\n",
              "    </div>\n",
              "  </div>\n",
              "  "
            ]
          },
          "metadata": {},
          "execution_count": 5
        }
      ],
      "source": [
        "# Copt raw data into our df\n",
        "df = df_raw.copy(deep=True)\n",
        "\n",
        "# list categorical columns...\n",
        "cat_cols =['checking_status', 'purpose', 'credit_history', 'savings_status', 'employment', 'other_parties', 'property_magnitude', 'other_payment_plans','housing','job','own_telephone']\n",
        "\n",
        "# One hot encoding of catagorical variables...\n",
        "df[cat_cols].astype(\"category\")\n",
        "one_hot_encodings = pd.get_dummies(df[cat_cols])\n",
        "\n",
        "#Combine dfs\n",
        "df = pd.concat([df, one_hot_encodings], axis=1)\n",
        "\n",
        "#remove categorical columns...\n",
        "df = df.drop(columns=cat_cols)\n",
        "\n",
        "#Data wrangling..... get types and bad values sorted out\n",
        "\n",
        "# Remove characters in numeric columns (note that the data type was set, by the open_csv function to object, \n",
        "# so we first convert to string before running the replace function (which can only be fun on str types)\n",
        "df['foreign_worker'] = df['foreign_worker'].str.replace('yes', '1')\n",
        "df['foreign_worker'] = df['foreign_worker'].str.replace('no', '0')\n",
        "df['class'] = df['class'].str.replace('good', '0')\n",
        "df['class'] = df['class'].str.replace('bad', '1')\n",
        "\n",
        "# Convert to numerics so we can use in ML... we force type conversions, then print our resulting df.\n",
        "df['foreign_worker'] = pd.to_numeric(df['foreign_worker'], errors ='coerce').fillna(0).astype('int')\n",
        "df['class'] = pd.to_numeric(df['class'], errors ='coerce').fillna(0).astype('int')\n",
        "df['duration'] = pd.to_numeric(df['duration'], errors ='coerce').fillna(0).astype('int')\n",
        "df['installment_commitment'] = pd.to_numeric(df['installment_commitment'], errors ='coerce').fillna(0).astype('int')\n",
        "df['residence_since'] = pd.to_numeric(df['residence_since'], errors ='coerce').fillna(0).astype('int')\n",
        "df['age'] = pd.to_numeric(df['age'], errors ='coerce').fillna(0).astype('int')\n",
        "df['num_dependents'] = pd.to_numeric(df['num_dependents'], errors ='coerce').fillna(0).astype('int')\n",
        "\n",
        "df"
      ]
    },
    {
      "cell_type": "markdown",
      "source": [
        "The **class** column is our classifier (ie y-variable) where 1=default, 0=no-default:"
      ],
      "metadata": {
        "id": "frWQbNBZKJU4"
      },
      "id": "frWQbNBZKJU4"
    },
    {
      "cell_type": "code",
      "source": [
        "# our y-variable we will be fitting our classification model to\n",
        "df['class']"
      ],
      "metadata": {
        "colab": {
          "base_uri": "https://localhost:8080/"
        },
        "id": "KqlsoU-KVLvd",
        "outputId": "5ca6e548-b8bf-4128-fe0c-7570edc6841d"
      },
      "id": "KqlsoU-KVLvd",
      "execution_count": 6,
      "outputs": [
        {
          "output_type": "execute_result",
          "data": {
            "text/plain": [
              "0      0\n",
              "1      1\n",
              "2      0\n",
              "3      0\n",
              "4      1\n",
              "      ..\n",
              "995    0\n",
              "996    0\n",
              "997    0\n",
              "998    1\n",
              "999    0\n",
              "Name: class, Length: 1000, dtype: int64"
            ]
          },
          "metadata": {},
          "execution_count": 6
        }
      ]
    },
    {
      "cell_type": "markdown",
      "id": "BrwhvERWDe_N",
      "metadata": {
        "id": "BrwhvERWDe_N"
      },
      "source": [
        "## Stage2c. Exploratory Data Analysis\n",
        "\n",
        "Once we have loaded the data and have it in a useable form, we now need to examine it, to build an intuition for the distributions, accuracy, missing values, imbalances and so on. Examining correlations is one way we can do this.\n",
        "\n"
      ]
    },
    {
      "cell_type": "markdown",
      "id": "1fd02130",
      "metadata": {
        "id": "1fd02130"
      },
      "source": [
        "Imbalanced data can introduce a major bias, particularly when we are fitting a model to a relatively low probability event, such as a default. \n",
        "\n",
        "#### Bias Alert: Imbalanced dataset\n",
        "\n",
        "Large imbalances in datasets for classification problems are a big issue. We generally need to balance the dataset to contain a more equal proportion of the different classes before training (and testing). For the credit use-case, we have two classes {1,0}, default/no default, meaning that ideally 50% of our samples should be class=1; and 50% class=0. If this is not the case and we have an imbalance (we do), we can balance the data by up-sampling the minority class, or down-sampling the majority class.\n",
        "Let us first examine the dataset to determine whether it is in balance."
      ]
    },
    {
      "cell_type": "code",
      "execution_count": 7,
      "id": "9d772e1c",
      "metadata": {
        "id": "9d772e1c",
        "colab": {
          "base_uri": "https://localhost:8080/",
          "height": 352
        },
        "outputId": "2d3f1d33-3da9-414e-ff18-0a5834194504"
      },
      "outputs": [
        {
          "output_type": "stream",
          "name": "stdout",
          "text": [
            "Dataset Balanced?\n",
            "0    700\n",
            "1    300\n",
            "Name: class, dtype: int64\n",
            "Imbalanced y variable!\n"
          ]
        },
        {
          "output_type": "execute_result",
          "data": {
            "text/plain": [
              "True"
            ]
          },
          "metadata": {},
          "execution_count": 7
        },
        {
          "output_type": "display_data",
          "data": {
            "text/plain": [
              "<Figure size 432x288 with 1 Axes>"
            ],
            "image/png": "[encoded data removed]"
          },
          "metadata": {}
        }
      ],
      "source": [
        "# Imbalanced y classes?\n",
        "GovernanceUtils.imbalanced_y_check(df['class'])"
      ]
    },
    {
      "cell_type": "markdown",
      "id": "e0459bd5",
      "metadata": {
        "id": "e0459bd5"
      },
      "source": [
        "The dataset is not balanced. 70% of samples are class=0; only 30% are class=1. We should bring this into balance before we train our model, or risk introducing dangerous biases into our forecasts."
      ]
    },
    {
      "cell_type": "markdown",
      "id": "qV1jmvnXDdEl",
      "metadata": {
        "id": "qV1jmvnXDdEl"
      },
      "source": [
        "#### Bias Alert: Protected and Majority Groups...\n",
        "\n",
        "Loan approval is a high risk application. We need to go very carefully as a result. We need to identify any protected characteristics (ie it would be illegal to differentiate based on these) present in the dataset such as ethnicity and gender, where biases would be illegal. \n",
        "\n"
      ]
    },
    {
      "cell_type": "markdown",
      "id": "35GhK1unDr81",
      "metadata": {
        "id": "35GhK1unDr81"
      },
      "source": [
        "Having found some protected characteristics and potential biases, we need to refine the dataset to consider these. "
      ]
    },
    {
      "cell_type": "code",
      "execution_count": 8,
      "id": "0n2YS32BDd6N",
      "metadata": {
        "id": "0n2YS32BDd6N"
      },
      "outputs": [],
      "source": [
        "# Protected characteristics - 'personal_status' has a \"gender\" classifier - We need to remove this from model training.\n",
        "df['gender'] = np.where(df['personal_status'].str.contains('female') == 0, 1, 0) #'male'=0; female=1\n",
        "df = df.drop('personal_status', axis=1)\n",
        "\n",
        "# Another protected characteristic is age. We can categorise the ages in our dataset... \n",
        "df['age'] = df['age'].apply(lambda x: 3 if x > 65 else (2 if x > 25 else 1))\n",
        "\n",
        "# **********************************************************\n",
        "# We need to remove these columns from model training, or risk \n",
        "# illegal biases in our outcomes... \n",
        "# Keep a record of the protected columns\n",
        "protected_cols = ['gender', 'age']\n",
        "# **********************************************************"
      ]
    },
    {
      "cell_type": "markdown",
      "id": "i9Vx9c_4sStE",
      "metadata": {
        "id": "i9Vx9c_4sStE"
      },
      "source": [
        "# Stage3: Model Design \n",
        "\n"
      ]
    },
    {
      "cell_type": "markdown",
      "source": [
        "## Stage 3a: Train/Test/Cross validation split\n",
        "\n",
        "Before we choose a classifier model, we need to separate our dataset into: training data, which we will use for model fitting/training; test data, which we will use for model testing out-of-sample; and cross-validation data, which we will use for model selection."
      ],
      "metadata": {
        "id": "Q7XyjtLWpI4P"
      },
      "id": "Q7XyjtLWpI4P"
    },
    {
      "cell_type": "markdown",
      "source": [
        "#### Bias Alert: Data Leakage \n",
        "\n",
        "Separate training and testing datasets BEFORE balancing the dataset to avoid data leakage. This is crucial as our learner must not see any of the test samples until we actually test it for performance. If we fail to separate testing and training data before up samplng, we can suffer data-snooping biases (also called data-leakage), which would invalidate our model."
      ],
      "metadata": {
        "id": "gS9JR8fT7X-7"
      },
      "id": "gS9JR8fT7X-7"
    },
    {
      "cell_type": "code",
      "execution_count": 9,
      "id": "eTjDqiD5f_j1",
      "metadata": {
        "id": "eTjDqiD5f_j1"
      },
      "outputs": [],
      "source": [
        "# We will use sklearn throughout this notebook\n",
        "from sklearn.model_selection import train_test_split"
      ]
    },
    {
      "cell_type": "code",
      "execution_count": 10,
      "id": "f9517124",
      "metadata": {
        "id": "f9517124"
      },
      "outputs": [],
      "source": [
        "# Train/Test/(and later cross-validation) datasets...\n",
        "cols  = list(df.columns)\n",
        "cols.remove('class')\n",
        "\n",
        "# Contains only numerics\n",
        "X = df[cols]\n",
        "y = df['class']\n",
        "\n",
        "# @@@@@@@@@@@@@@@@@@@@@@@@@@@@@@@@@\n",
        "# Use our pre-prepared Test and train data\n",
        "# Note that for the purposes of this demonstration we are using preprepared data and a deterministic function \n",
        "# to split the data into training and testing sets, and generate synthetic data, making the results of this notebook the same every time it is run.\n",
        "# This is to control the randomized outcomes of 1) The sklearn train_test_split function which randomly splits the training and test \n",
        "# datasets and so can result in different outcomes each time it is run. 2) Later in this notebook we use SMOTE synthetic upsampling, which again, produces\n",
        "# stochastic outcomes which change the results of the notebook.\n",
        "# **DO NOT USE THIS APPROACH IN YOUR OWN WORK**\n",
        "# Set the use_stochastic variable below to True to observe how introducing these randomized elements impacts the outcomes. \n",
        "# Outcomes will vary if you do this and please note that our descriptive text will no longer be valid once you do this.\n",
        "use_stochastic = False # << Change to True to observe stochastic outcomes.\n",
        "# @@@@@@@@@@@@@@@@@@@@@@@@@@@@@@@@@\n",
        "if use_stochastic == False:\n",
        "  X_train, X_test, y_train, y_test = CFACreditUseCaseUtils.train_test_split_deterministic(X, y, test_size=0.3, random_state=None) \n",
        "else:\n",
        "  X_train, X_test, y_train, y_test = train_test_split(X, y, test_size=0.3, random_state=None)\n",
        "\n",
        "#****************************\n",
        "# Keep record of protected for bias testing later\n",
        "X_train_protected = X_train[protected_cols]\n",
        "X_test_protected = X_test[protected_cols]\n",
        "\n",
        "# Remember to remove protected columns before training\n",
        "X_train = X_train.drop(protected_cols, axis=1)\n",
        "X_test = X_test.drop(protected_cols, axis=1)\n",
        "#****************************"
      ]
    },
    {
      "cell_type": "markdown",
      "id": "c0ubSKhBH-pg",
      "metadata": {
        "id": "c0ubSKhBH-pg"
      },
      "source": [
        "## Stage 3b: Test the performance of different up, and down sampling approaches"
      ]
    },
    {
      "cell_type": "markdown",
      "id": "d3f79ba0",
      "metadata": {
        "id": "d3f79ba0"
      },
      "source": [
        "To balance the training data we can create more samples of the minority class (defaults), or we can downsample the majority class (non defaults). We will use a LinearDiscriminantAnalysis classifier to test how effective each approach is."
      ]
    },
    {
      "cell_type": "markdown",
      "id": "c02db5bb",
      "metadata": {
        "id": "c02db5bb"
      },
      "source": [
        "We will use the sklearn implementations of classifier models, and import them next"
      ]
    },
    {
      "cell_type": "code",
      "execution_count": 11,
      "id": "af12e96b",
      "metadata": {
        "id": "af12e96b"
      },
      "outputs": [],
      "source": [
        "# Normalize/standardize input data\n",
        "from sklearn.preprocessing import StandardScaler\n",
        "\n",
        "# Classifiers\n",
        "from sklearn.discriminant_analysis import LinearDiscriminantAnalysis\n",
        "\n",
        "# Performance metrics...\n",
        "from sklearn.metrics import f1_score\n",
        "from sklearn.metrics import precision_score\n",
        "from sklearn.metrics import recall_score\n",
        "from sklearn.metrics import confusion_matrix"
      ]
    },
    {
      "cell_type": "markdown",
      "id": "c7484849",
      "metadata": {
        "id": "c7484849"
      },
      "source": [
        "First we will declare and call a wrapper function that trains and tests a  LinearDiscriminantAnalysis classifier to forecast defaults.\n",
        "\n",
        "Note the following coding features:\n",
        "- Declaration of variables with types and default values\n",
        "- Sanity checking of inputs and outputs, where appropriate\n",
        "- Documentation of purpose, parameters and return values, author\n",
        "- Commenting throughout"
      ]
    },
    {
      "cell_type": "code",
      "execution_count": 12,
      "id": "c09b7144",
      "metadata": {
        "id": "c09b7144",
        "colab": {
          "base_uri": "https://localhost:8080/",
          "height": 441
        },
        "outputId": "e2ec4dcb-70e1-4dfc-b830-79be1d011975"
      },
      "outputs": [
        {
          "output_type": "stream",
          "name": "stdout",
          "text": [
            "<class 'sklearn.discriminant_analysis.LinearDiscriminantAnalysis'>\n",
            "Accuracy train: 0.79, test:  0.75\n",
            "Precision train: 0.71, test:  0.53\n",
            "Recall train: 0.58, test:  0.51\n",
            "F1 train: 0.64, test:  0.52\n"
          ]
        },
        {
          "output_type": "display_data",
          "data": {
            "text/plain": [
              "<Figure size 432x288 with 2 Axes>"
            ],
            "image/png": "[encoded data removed]"
          },
          "metadata": {
            "needs_background": "light"
          }
        },
        {
          "output_type": "stream",
          "name": "stdout",
          "text": [
            "Now use sklearns predict_proba to generate probability values for each prediction\n"
          ]
        }
      ],
      "source": [
        "# Declare a function to wrap training of a classifier and printing of performance data\n",
        "def run_lda_classification_models(X_train: pd.DataFrame, \n",
        "                              X_test: pd.DataFrame, \n",
        "                              y_train: pd.DataFrame, \n",
        "                              y_test: pd.DataFrame) -> object:\n",
        "    \n",
        "    '''\n",
        "    Args:\n",
        "      X_train: DataFrame with training data for classifier, columns are features, rows are instances\n",
        "      X_test: Test data matching above shape\n",
        "      y_train: training data target variable {1,0}, instances are rows.\n",
        "      y_test: test data target variable {1,0}, instances are rows.\n",
        "       \n",
        "    Returns:\n",
        "       rf: sklearn model object\n",
        "       \n",
        "    Author:\n",
        "       Dan Philps\n",
        "    '''\n",
        "\n",
        "    #sanity checks on inputs\n",
        "    if X_train.shape[0] != y_train.shape[0]:\n",
        "      raise TypeError('Bad parameter: X_train.shape[0] != y_train.shape[0]')\n",
        "    if X_test.shape[0] != y_test.shape[0]:\n",
        "      raise TypeError('Bad parameter: X_train.shape[0] != y_train.shape[0]')\n",
        "    if (X_train.dtypes != X_test.dtypes).sum() != 0:\n",
        "      raise TypeError('Bad parameter: X_train.dtype != X_test.dtype')\n",
        "    if (y_train.dtypes != y_test.dtypes):\n",
        "      raise TypeError('Bad parameter: y_train.dtype != y_test.dtype')\n",
        "\n",
        "    # Scale and transform the data for training\n",
        "    X_test = GovernanceUtils.norm_X(X_train, X_test.copy(deep=True))\n",
        "    X_train = GovernanceUtils.norm_X(X_train, X_train.copy(deep=True))\n",
        "\n",
        "    # classifier train\n",
        "    rf = LinearDiscriminantAnalysis()\n",
        "    rf.fit(X_train,y_train)\n",
        "    y_train_hat =rf.predict(X_train)\n",
        "    y_test_hat = rf.predict(X_test)\n",
        "\n",
        "    # Analytics calculated wrt default or y=1... Print score\n",
        "    print(type(rf))        \n",
        "    print(f\"Accuracy train: {rf.score(X_train,y_train):.2f}, test: \",\n",
        "      f\"{rf.score(X_test,y_test):.2f}\")\n",
        "    print(f\"Precision train: {precision_score(y_train, y_train_hat, average=None)[1]:.2f}, test: \",\n",
        "      f\"{precision_score(y_test,y_test_hat, average=None)[1]:.2f}\")\n",
        "    print(f\"Recall train: {recall_score(y_train, y_train_hat, average=None)[1]:.2f}, test: \",\n",
        "      f\"{recall_score(y_test,y_test_hat, average=None)[1]:.2f}\")\n",
        "    print(f\"F1 train: {f1_score(y_train, y_train_hat, average=None)[1]:.2f}, test: \",\n",
        "      f\"{f1_score(y_test,y_test_hat, average=None)[1]:.2f}\")\n",
        "    \n",
        "    #Print confusion matrix...\n",
        "    cf_matrix = confusion_matrix(y_test, y_test_hat, labels=[0, 1]) \n",
        "    cf_matrix_norm = cf_matrix.astype('float') # / cf_matrix.sum(axis=1)[:, np.newaxis]\n",
        "\n",
        "    ax = sns.heatmap(cf_matrix_norm, annot=True, cmap='Blues', fmt='g')\n",
        "    ax.set_title('Confusion Matrix\\n\\n');\n",
        "    ax.set_xlabel('\\nPredicted Values')\n",
        "    ax.set_ylabel('Actual Values ');\n",
        "    plt.show()\n",
        "\n",
        "    #sanity checks on output\n",
        "    if rf is None:\n",
        "      raise TypeError('Bad return: rf is None')\n",
        "\n",
        "    return rf\n",
        "\n",
        "#run our classifier function\n",
        "mod = run_lda_classification_models(X_train, X_test, y_train, y_test)\n",
        "\n",
        "# dump the probability values for each prediction we have just made - we will be using the \n",
        "# probability value to determine the lending threshold later\n",
        "print('Now use sklearns predict_proba to generate probability values for each prediction')"
      ]
    },
    {
      "cell_type": "markdown",
      "source": [
        "Note the F1 score on the test data is 0.52 using an imbalanced training \n",
        "dataset. Now we can balance the dataset."
      ],
      "metadata": {
        "id": "q8YuRdfJ8SrE"
      },
      "id": "q8YuRdfJ8SrE"
    },
    {
      "cell_type": "markdown",
      "id": "f8166fcf",
      "metadata": {
        "id": "f8166fcf"
      },
      "source": [
        "To balance the training data we can create more samples of the minority class (defaults), or we can downsample the majority class. First we look at the performance of resampling instances fom the minority class.\n",
        "\n",
        "### 3b i) Upsampling using resampling\n"
      ]
    },
    {
      "cell_type": "code",
      "execution_count": 13,
      "id": "739e0d7d",
      "metadata": {
        "id": "739e0d7d"
      },
      "outputs": [],
      "source": [
        "from sklearn.utils import resample\n",
        "\n",
        "# Split first to avoid data-snooping\n",
        "\n",
        "# @@@@@@@@@@@@@@@@@@@@@@@@@@@@@@@@@\n",
        "# Use our pre-prepared data\n",
        "# See comments above regarding this deterministic split function.\n",
        "# @@@@@@@@@@@@@@@@@@@@@@@@@@@@@@@@@\n",
        "if use_stochastic == False:\n",
        "  X_train, X_test, y_train, y_test = CFACreditUseCaseUtils.train_test_split_deterministic(X, y, test_size=0.3, random_state=None) \n",
        "else:\n",
        "  X_train, X_test, y_train, y_test = train_test_split(X, y, test_size=0.3, random_state=None)\n",
        "\n",
        "# Create up-sampled data set for minority class\n",
        "# note that n_samples = the number of samples the imbalance represents.\n",
        "X_upsampled, y_upsampled = resample(X_train[y_train == 1],\n",
        "                                        y_train[y_train == 1],\n",
        "                                        replace=True,\n",
        "                                        n_samples=(X_train[y_train == 0].shape[0]-X_train[y_train == 1].shape[0]),\n",
        "                                        random_state=None)\n",
        "\n",
        "#****************************\n",
        "# Keep record of protected for bias testing later\n",
        "X_upsampled_protected = X_upsampled[protected_cols]\n",
        "X_train_protected = X_train[protected_cols]\n",
        "X_test_protected = X_test[protected_cols]\n",
        "\n",
        "# Remember to remove protected columns before training\n",
        "X_upsampled = X_upsampled.drop(protected_cols, axis=1)\n",
        "X_train = X_train.drop(protected_cols, axis=1)\n",
        "X_test = X_test.drop(protected_cols, axis=1)\n",
        "#****************************\n",
        "\n",
        "#Combine train with upsampled\n",
        "X_upsampled = X_train.append(X_upsampled)\n",
        "y_upsampled = y_train.append(y_upsampled)"
      ]
    },
    {
      "cell_type": "markdown",
      "id": "fc1e5726",
      "metadata": {
        "id": "fc1e5726"
      },
      "source": [
        "Let us check everything is in balance now"
      ]
    },
    {
      "cell_type": "code",
      "execution_count": 14,
      "id": "b8cb61d7",
      "metadata": {
        "id": "b8cb61d7",
        "colab": {
          "base_uri": "https://localhost:8080/",
          "height": 335
        },
        "outputId": "94ddec55-f0c5-44be-d318-f1e96b53be65"
      },
      "outputs": [
        {
          "output_type": "stream",
          "name": "stdout",
          "text": [
            "Dataset Balanced?\n",
            "1    479\n",
            "0    479\n",
            "Name: class, dtype: int64\n"
          ]
        },
        {
          "output_type": "execute_result",
          "data": {
            "text/plain": [
              "False"
            ]
          },
          "metadata": {},
          "execution_count": 14
        },
        {
          "output_type": "display_data",
          "data": {
            "text/plain": [
              "<Figure size 432x288 with 1 Axes>"
            ],
            "image/png": "[encoded data removed]"
          },
          "metadata": {}
        }
      ],
      "source": [
        "# Imbalanced y classes?\n",
        "temp = pd.concat([X_upsampled, y_upsampled], axis=1)\n",
        "GovernanceUtils.imbalanced_y_check(temp['class'])"
      ]
    },
    {
      "cell_type": "markdown",
      "id": "53dea8e1",
      "metadata": {
        "id": "53dea8e1"
      },
      "source": [
        "Dataset is perfectly in balance... so we now re-run our LDA function but with a balanced dataset"
      ]
    },
    {
      "cell_type": "code",
      "execution_count": 15,
      "id": "5caebbb0",
      "metadata": {
        "id": "5caebbb0",
        "colab": {
          "base_uri": "https://localhost:8080/",
          "height": 424
        },
        "outputId": "fc3165d7-ebef-4e08-ca0d-15bad12670a4"
      },
      "outputs": [
        {
          "output_type": "stream",
          "name": "stdout",
          "text": [
            "<class 'sklearn.discriminant_analysis.LinearDiscriminantAnalysis'>\n",
            "Accuracy train: 0.75, test:  0.65\n",
            "Precision train: 0.75, test:  0.42\n",
            "Recall train: 0.77, test:  0.79\n",
            "F1 train: 0.76, test:  0.55\n"
          ]
        },
        {
          "output_type": "display_data",
          "data": {
            "text/plain": [
              "<Figure size 432x288 with 2 Axes>"
            ],
            "image/png": "[encoded data removed]"
          },
          "metadata": {
            "needs_background": "light"
          }
        }
      ],
      "source": [
        "#Run our function....\n",
        "model = run_lda_classification_models(X_upsampled, X_test, y_upsampled, y_test)"
      ]
    },
    {
      "cell_type": "markdown",
      "id": "1b4afcc1",
      "metadata": {
        "id": "1b4afcc1"
      },
      "source": [
        "The F1 score is better than using imbalanced model"
      ]
    },
    {
      "cell_type": "markdown",
      "id": "e98b384e",
      "metadata": {
        "id": "e98b384e"
      },
      "source": [
        "### 3b ii) Up-sampling using a synthetic over sampling approach called SMOTE"
      ]
    },
    {
      "cell_type": "markdown",
      "id": "235505f6",
      "metadata": {
        "id": "235505f6"
      },
      "source": [
        "We now upsample the minorty class (defaults) by generating synthetic data using SMOTE."
      ]
    },
    {
      "cell_type": "code",
      "execution_count": 16,
      "id": "5dadf40d",
      "metadata": {
        "id": "5dadf40d"
      },
      "outputs": [],
      "source": [
        "from imblearn.over_sampling import SMOTE\n",
        "\n",
        "# Generate SMOTE samples and use this to train\n",
        "upsampler_smote = SMOTE()\n",
        "X_upsampled_smote, y_upsampled_smote = upsampler_smote.fit_resample(X=X_train, y=y_train)"
      ]
    },
    {
      "cell_type": "markdown",
      "id": "4a14d264",
      "metadata": {
        "id": "4a14d264"
      },
      "source": [
        "We examine the synthetic data (the red crosses) for similarity with the real data we are trying to sythesize..."
      ]
    },
    {
      "cell_type": "code",
      "execution_count": 17,
      "id": "4ff54d69",
      "metadata": {
        "id": "4ff54d69",
        "colab": {
          "base_uri": "https://localhost:8080/",
          "height": 411
        },
        "outputId": "f404ce40-f963-41e7-ef25-fcf2a5356494"
      },
      "outputs": [
        {
          "output_type": "display_data",
          "data": {
            "text/plain": [
              "<Figure size 720x504 with 1 Axes>"
            ],
            "image/png": "[encoded data removed]"
          },
          "metadata": {
            "needs_background": "light"
          }
        }
      ],
      "source": [
        "from matplotlib import pyplot as plt\n",
        "from mpl_toolkits.mplot3d import Axes3D\n",
        "\n",
        "fig = plt.figure(figsize=(10, 7)) \n",
        "ax = fig.add_subplot(111, projection='3d')\n",
        "\n",
        "ax.scatter(X_train['credit_amount'],X_train['installment_commitment'], X_train['duration'], marker=\"o\", s=10, c='blue', label='Real datapoints')\n",
        "ax.scatter(X_upsampled_smote['credit_amount'],X_upsampled_smote['installment_commitment'], X_upsampled_smote['duration'], marker=\"+\", s=50, c='red', label='SMOTE datapoints')\n",
        "\n",
        "# set axes range\n",
        "ax.set_xlim(-500, 13000)\n",
        "ax.set_ylim(0, 40)\n",
        "ax.set_zlim(0,50)\n",
        "\n",
        "ax.set_xlabel('credit_amount')\n",
        "ax.set_ylabel('installment_commitment')\n",
        "ax.set_zlabel('duration')\n",
        "\n",
        "plt.title('How SMOTE Samples are Distributed vs Real Data Points')\n",
        "plt.legend(loc=1,framealpha=1, fontsize=8)\n",
        "plt.show()"
      ]
    },
    {
      "cell_type": "markdown",
      "id": "a875103b",
      "metadata": {
        "id": "a875103b"
      },
      "source": [
        "The synthetic datapoints look realistic at a glance."
      ]
    },
    {
      "cell_type": "code",
      "execution_count": 18,
      "id": "c031433f",
      "metadata": {
        "id": "c031433f",
        "colab": {
          "base_uri": "https://localhost:8080/",
          "height": 335
        },
        "outputId": "a7ca77b4-9f73-41b7-8c37-c39eae04e6e4"
      },
      "outputs": [
        {
          "output_type": "stream",
          "name": "stdout",
          "text": [
            "Dataset Balanced?\n",
            "1    479\n",
            "0    479\n",
            "Name: class, dtype: int64\n"
          ]
        },
        {
          "output_type": "execute_result",
          "data": {
            "text/plain": [
              "False"
            ]
          },
          "metadata": {},
          "execution_count": 18
        },
        {
          "output_type": "display_data",
          "data": {
            "text/plain": [
              "<Figure size 432x288 with 1 Axes>"
            ],
            "image/png": "[encoded data removed]"
          },
          "metadata": {}
        }
      ],
      "source": [
        "# Imbalanced y classes?\n",
        "temp = pd.concat([X_upsampled_smote, y_upsampled_smote], axis=1)\n",
        "GovernanceUtils.imbalanced_y_check(temp['class'])"
      ]
    },
    {
      "cell_type": "markdown",
      "id": "89d8fdc6",
      "metadata": {
        "id": "89d8fdc6"
      },
      "source": [
        "Dataset is perfectly in balance... so we now re-run our LDA function but with a balanced dataset"
      ]
    },
    {
      "cell_type": "code",
      "execution_count": 19,
      "id": "750a6983",
      "metadata": {
        "id": "750a6983",
        "colab": {
          "base_uri": "https://localhost:8080/",
          "height": 424
        },
        "outputId": "43f4bd04-2f0e-48aa-c08f-f7cdd80643d2"
      },
      "outputs": [
        {
          "output_type": "stream",
          "name": "stdout",
          "text": [
            "<class 'sklearn.discriminant_analysis.LinearDiscriminantAnalysis'>\n",
            "Accuracy train: 0.84, test:  0.67\n",
            "Precision train: 0.87, test:  0.44\n",
            "Recall train: 0.80, test:  0.80\n",
            "F1 train: 0.83, test:  0.56\n"
          ]
        },
        {
          "output_type": "display_data",
          "data": {
            "text/plain": [
              "<Figure size 432x288 with 2 Axes>"
            ],
            "image/png": "[encoded data removed]"
          },
          "metadata": {
            "needs_background": "light"
          }
        }
      ],
      "source": [
        "#Run our function....\n",
        "model = run_lda_classification_models(X_upsampled_smote, X_test, y_upsampled_smote, y_test)"
      ]
    },
    {
      "cell_type": "markdown",
      "source": [
        "The F1 score is better than using imbalanced model"
      ],
      "metadata": {
        "id": "OxmTV3pm-KWD"
      },
      "id": "OxmTV3pm-KWD"
    },
    {
      "cell_type": "markdown",
      "id": "kHUCz-3ksp6r",
      "metadata": {
        "id": "kHUCz-3ksp6r"
      },
      "source": [
        "### 3b iii) Down-sampling - Removing rows to balance the classes"
      ]
    },
    {
      "cell_type": "markdown",
      "id": "0a94d7e4",
      "metadata": {
        "id": "0a94d7e4"
      },
      "source": [
        "We now remove instances from the majority class to bring it into balance."
      ]
    },
    {
      "cell_type": "code",
      "execution_count": 20,
      "id": "8dbc9854",
      "metadata": {
        "id": "8dbc9854"
      },
      "outputs": [],
      "source": [
        "from imblearn.under_sampling import RandomUnderSampler \n",
        "\n",
        "#Split first to avoid data-snooping\n",
        "\n",
        "# @@@@@@@@@@@@@@@@@@@@@@@@@@@@@@@@@\n",
        "# Use our pre-prepared data\n",
        "# See comments above regarding this deterministic split function.\n",
        "# @@@@@@@@@@@@@@@@@@@@@@@@@@@@@@@@@\n",
        "if use_stochastic == False:\n",
        "  X_train, X_test, y_train, y_test = CFACreditUseCaseUtils.train_test_split_deterministic(X, y, test_size=0.3, random_state=None) \n",
        "else:\n",
        "  X_train, X_test, y_train, y_test = train_test_split(X, y, test_size=0.3, random_state=None)\n",
        "\n",
        "#****************************\n",
        "# Keep record of protected for bias testing later\n",
        "X_train_protected = X_train[protected_cols]\n",
        "X_test_protected = X_test[protected_cols]\n",
        "\n",
        "# Remember to remove protected columns before training\n",
        "X_train = X_train.drop(protected_cols, axis=1)\n",
        "X_test = X_test.drop(protected_cols, axis=1)\n",
        "#****************************\n",
        "\n",
        "# Randomly downsample rows in the majority class\n",
        "rus = RandomUnderSampler(random_state=42)\n",
        "X_downsampled, y_downsampled = rus.fit_resample(X_train, y_train)"
      ]
    },
    {
      "cell_type": "code",
      "execution_count": 21,
      "id": "c0beacf7",
      "metadata": {
        "id": "c0beacf7",
        "colab": {
          "base_uri": "https://localhost:8080/",
          "height": 335
        },
        "outputId": "ce2cc23d-dc84-42ee-a464-456de19a55da"
      },
      "outputs": [
        {
          "output_type": "stream",
          "name": "stdout",
          "text": [
            "Dataset Balanced?\n",
            "0    220\n",
            "1    220\n",
            "Name: class, dtype: int64\n"
          ]
        },
        {
          "output_type": "execute_result",
          "data": {
            "text/plain": [
              "False"
            ]
          },
          "metadata": {},
          "execution_count": 21
        },
        {
          "output_type": "display_data",
          "data": {
            "text/plain": [
              "<Figure size 432x288 with 1 Axes>"
            ],
            "image/png": "[encoded data removed]"
          },
          "metadata": {}
        }
      ],
      "source": [
        "# Imbalanced y classes?\n",
        "temp = pd.concat([X_downsampled, y_downsampled], axis=1)\n",
        "GovernanceUtils.imbalanced_y_check(temp['class'])"
      ]
    },
    {
      "cell_type": "code",
      "execution_count": 22,
      "id": "d6de0276",
      "metadata": {
        "id": "d6de0276",
        "colab": {
          "base_uri": "https://localhost:8080/",
          "height": 424
        },
        "outputId": "a543d9f9-687d-4ad6-98f8-e2bb9e52dbde"
      },
      "outputs": [
        {
          "output_type": "stream",
          "name": "stdout",
          "text": [
            "<class 'sklearn.discriminant_analysis.LinearDiscriminantAnalysis'>\n",
            "Accuracy train: 0.76, test:  0.64\n",
            "Precision train: 0.75, test:  0.41\n",
            "Recall train: 0.77, test:  0.74\n",
            "F1 train: 0.76, test:  0.52\n"
          ]
        },
        {
          "output_type": "display_data",
          "data": {
            "text/plain": [
              "<Figure size 432x288 with 2 Axes>"
            ],
            "image/png": "[encoded data removed]"
          },
          "metadata": {
            "needs_background": "light"
          }
        }
      ],
      "source": [
        "# Run our function to train a rf classifier....\n",
        "model = run_lda_classification_models(X_downsampled, X_test, y_downsampled, y_test)"
      ]
    },
    {
      "cell_type": "markdown",
      "id": "5e6ea491",
      "metadata": {
        "id": "5e6ea491"
      },
      "source": [
        "Down-sampling results in a lower F1 score than upsampling in this case, but a strategy to balance the dataset has provided as good as or better results than training the model on the imbalanmced data."
      ]
    },
    {
      "cell_type": "markdown",
      "id": "66bfe3c2",
      "metadata": {
        "id": "66bfe3c2"
      },
      "source": [
        "## Stage 3c: Model Selection\n",
        "\n",
        "\n",
        "Next we need to select the type of classifier we are going to use to model our problem. We will separate the data into train/test/cross validation data and use the cross validation data to select the classifier we will use."
      ]
    },
    {
      "cell_type": "markdown",
      "source": [
        "#### Bias Alert: Availability Heuristic\n",
        "Model selection is open to bias. For instance, if our quant team is overpopulated by linear regression experts, we are prone to choose linear regression. If we have a greater level of familiarity for RF classifiers, we are likely to choose RF.\n",
        "\n",
        "One way of dealing with this is to use a systematic model selection approach. We can test the problem, using many different classsifiers and assess the performance of each based on our KPIs. However, we must be careful as even this more exhaustive approach is also open to biases.\n"
      ],
      "metadata": {
        "id": "pVf09c8EAb2i"
      },
      "id": "pVf09c8EAb2i"
    },
    {
      "cell_type": "markdown",
      "source": [
        "#### Bias Alert: Multiplicity bias\n",
        "\n",
        "If we are selecting a model based on p-values, for instance, we might suffer from multiplicity bias where testing multiple approaches would exaggerate the significance of a success. \n",
        "To somewhat mitigate this we could select based on a measure such as F1-score, applied to out of sample data. In ML we tend to separate our data into training, testing, and cross-validation. We will use the cross-validation data to select a model type below."
      ],
      "metadata": {
        "id": "XxGRJoYAA0HC"
      },
      "id": "XxGRJoYAA0HC"
    },
    {
      "cell_type": "code",
      "source": [
        "os.chdir('data')"
      ],
      "metadata": {
        "id": "gj6TSczy6_WA"
      },
      "id": "gj6TSczy6_WA",
      "execution_count": 24,
      "outputs": []
    },
    {
      "cell_type": "code",
      "execution_count": 25,
      "id": "tUbobdmKR9Or",
      "metadata": {
        "id": "tUbobdmKR9Or"
      },
      "outputs": [],
      "source": [
        "# @@@@@@@@@@@@@@@@@@@@@@@@@@@@@@@@@\n",
        "# Use our pre-prepared data\n",
        "# See comments above regarding this deterministic split function\n",
        "# @@@@@@@@@@@@@@@@@@@@@@@@@@@@@@@@@\n",
        "if use_stochastic == False:\n",
        "  # Preprepared data to demonstrate further functionality\n",
        "  X_train_cv  = pd.read_csv('X_train_cv.csv',index_col=0)\n",
        "  X_cv = pd.read_csv('X_cv.csv',index_col=0)\n",
        "  y_train_cv = pd.read_csv('y_train_cv.csv',index_col=0)\n",
        "  y_cv = pd.read_csv('y_cv.csv',index_col=0)\n",
        "  X_train = pd.read_csv('X_train.csv',index_col=0)\n",
        "  y_train = pd.read_csv('y_train.csv',index_col=0)\n",
        "  X_test = pd.read_csv('X_test.csv',index_col=0)\n",
        "  y_test = pd.read_csv('y_test.csv',index_col=0)\n",
        "  X_train_protected = pd.read_csv('X_train_protected.csv',index_col=0)\n",
        "  X_test_protected = pd.read_csv('X_test_protected.csv',index_col=0)\n",
        "\n",
        "else:\n",
        "\n",
        "  # Summary: 1) Train/test split; 2) SMOTE upsampling of training data; 3) split cross-validation set from training data\n",
        "  \n",
        "  # 1) Split first to avoid data-snooping\n",
        "  # See comments above regarding this deterministic split function.\n",
        "  X_train, X_test, y_train, y_test = train_test_split(X, y, test_size=0.3, random_state=None)\n",
        "\n",
        "  #****************************\n",
        "  # Keep record of protected for bias testing later\n",
        "  X_train_protected = X_train[protected_cols]\n",
        "  X_test_protected = X_test[protected_cols]\n",
        "\n",
        "  # Remember to remove protected columns before training\n",
        "  X_train = X_train.drop(protected_cols, axis=1)\n",
        "  X_test = X_test.drop(protected_cols, axis=1)\n",
        "  #****************************\n",
        "\n",
        "  # 2) Split training sets into cv and train\n",
        "  X_train_cv, X_cv, y_train_cv, y_cv = train_test_split(X_train, y_train, test_size=0.3, random_state=None)\n",
        "\n",
        "  # 3) Generate SMOTE samples for train and cv sets separately.\n",
        "  # SMOTE the training data... overwrite\n",
        "  upsampler_smote = SMOTE()\n",
        "  X_train_cv, y_train_cv = upsampler_smote.fit_resample(X=X_train_cv, y=y_train_cv)\n",
        "\n",
        "  # SMOTE the CV data separately to avoid data snooping... overwrite\n",
        "  upsampler_smote = SMOTE()\n",
        "  X_cv, y_cv = upsampler_smote.fit_resample(X=X_cv, y=y_cv)\n",
        "\n"
      ]
    },
    {
      "cell_type": "markdown",
      "id": "JElvKh2qh75k",
      "metadata": {
        "id": "JElvKh2qh75k"
      },
      "source": [
        "Now we call our functional class **GovernanceUtils**, and the member **auto_classifier_selection** which tests a range of classifiers from neural nets, to logistic regression to find the learner that performs best on our cross validation set. We will take the best classifier as our probability of default model."
      ]
    },
    {
      "cell_type": "code",
      "execution_count": 26,
      "id": "cyji4ydlQTVZ",
      "metadata": {
        "id": "cyji4ydlQTVZ",
        "colab": {
          "base_uri": "https://localhost:8080/",
          "height": 840
        },
        "outputId": "b5fb67c4-6ffe-4f66-e230-b26660a0271f"
      },
      "outputs": [
        {
          "output_type": "stream",
          "name": "stdout",
          "text": [
            "GaussianNB()\n",
            "Precision train: 0.8306, cross-validation:  0.2699\n",
            "LogisticRegression(max_iter=2000, random_state=0)\n",
            "Precision train: 0.8373, cross-validation:  0.7379\n",
            "MLPClassifier(early_stopping=True, max_iter=2000, random_state=1)\n",
            "Precision train: 0.6889, cross-validation:  0.7181\n",
            "RandomForestClassifier(max_depth=3, random_state=0)\n",
            "Precision train: 0.8303, cross-validation:  0.7778\n",
            "LinearDiscriminantAnalysis()\n",
            "Precision train: 0.8480, cross-validation:  0.7261\n",
            "QuadraticDiscriminantAnalysis()\n",
            "Precision train: 0.7045, cross-validation:  0.6493\n",
            "AdaBoostClassifier()\n",
            "Precision train: 0.8584, cross-validation:  0.0000\n",
            "GradientBoostingClassifier()\n",
            "Precision train: 0.9503, cross-validation:  0.7500\n",
            "KNeighborsClassifier(n_neighbors=3)\n",
            "Precision train: 0.8154, cross-validation:  0.0000\n",
            "SVC(C=0.025, probability=True)\n",
            "Precision train: 0.6759, cross-validation:  0.6447\n",
            "NuSVC(probability=True)\n",
            "Precision train: 0.5567, cross-validation:  0.0000\n",
            "\n",
            "Winner\n",
            " <class 'sklearn.ensemble._forest.RandomForestClassifier'>\n",
            "Accuracy train: 0.8209, cross-validation:  0.7778\n",
            "Precision train: 0.7859, cross-validation:  0.7417\n",
            "Recall train: 0.8801, cross-validation:  0.8175\n",
            "F1 train: 0.8303, cross-validation:  0.7778\n"
          ]
        },
        {
          "output_type": "display_data",
          "data": {
            "text/plain": [
              "<Figure size 432x288 with 2 Axes>"
            ],
            "image/png": "[encoded data removed]"
          },
          "metadata": {
            "needs_background": "light"
          }
        }
      ],
      "source": [
        "# Run our function....autoselect the best classifier wrt F1\n",
        "max_mdl, all_models, all_models_desc, all_mdls_prec = GovernanceUtils.auto_classifier_selection(X_train=X_train_cv, \n",
        "                                                                                                X_cross_validation=X_cv, \n",
        "                                                                                                y_train=y_train_cv, \n",
        "                                                                                                y_cross_validation=y_cv, \n",
        "                                                                                                selection_criteria='f1', \n",
        "                                                                                                balance_method ='') # no balancing\n"
      ]
    },
    {
      "cell_type": "markdown",
      "id": "OHdKdhL6MF42",
      "metadata": {
        "id": "OHdKdhL6MF42"
      },
      "source": [
        "You can see in the output of our function: the range of classifiers tested and test scores generated on the cross-validation test data in each case. The winner is RandomForestClassifier. And we can examine this learner's ROC curve to understand its performance.\n",
        "\n",
        "Note that we will have a use for the other models that just missed out later, as a **challanger model**."
      ]
    },
    {
      "cell_type": "code",
      "execution_count": 27,
      "id": "BuJjXTsYMbBs",
      "metadata": {
        "id": "BuJjXTsYMbBs",
        "colab": {
          "base_uri": "https://localhost:8080/",
          "height": 357
        },
        "outputId": "a051acee-e0b5-4b70-8348-5812e4423811"
      },
      "outputs": [
        {
          "output_type": "error",
          "ename": "AttributeError",
          "evalue": "ignored",
          "traceback": [
            "\u001b[0;31m---------------------------------------------------------------------------\u001b[0m",
            "\u001b[0;31mAttributeError\u001b[0m                            Traceback (most recent call last)",
            "\u001b[0;32m<ipython-input-27-1a766406f5ba>\u001b[0m in \u001b[0;36m<module>\u001b[0;34m\u001b[0m\n\u001b[1;32m      3\u001b[0m \u001b[0;34m\u001b[0m\u001b[0m\n\u001b[1;32m      4\u001b[0m \u001b[0;31m# Analyst KPI...\u001b[0m\u001b[0;34m\u001b[0m\u001b[0;34m\u001b[0m\u001b[0;34m\u001b[0m\u001b[0m\n\u001b[0;32m----> 5\u001b[0;31m \u001b[0mf1\u001b[0m\u001b[0;34m,\u001b[0m \u001b[0mprec\u001b[0m\u001b[0;34m,\u001b[0m \u001b[0mrec\u001b[0m \u001b[0;34m=\u001b[0m \u001b[0mStakeholderKPIReporting\u001b[0m\u001b[0;34m.\u001b[0m\u001b[0mkpi_review_analyst\u001b[0m\u001b[0;34m(\u001b[0m\u001b[0mmdl\u001b[0m\u001b[0;34m=\u001b[0m\u001b[0mmax_mdl\u001b[0m\u001b[0;34m,\u001b[0m\u001b[0mX\u001b[0m\u001b[0;34m=\u001b[0m\u001b[0mX_test\u001b[0m\u001b[0;34m,\u001b[0m \u001b[0my\u001b[0m\u001b[0;34m=\u001b[0m\u001b[0my_test\u001b[0m\u001b[0;34m[\u001b[0m\u001b[0;34m:\u001b[0m\u001b[0;34m]\u001b[0m\u001b[0;34m.\u001b[0m\u001b[0mvalues\u001b[0m\u001b[0;34m,\u001b[0m \u001b[0my_hat\u001b[0m\u001b[0;34m=\u001b[0m\u001b[0my_test_hat\u001b[0m\u001b[0;34m[\u001b[0m\u001b[0;34m:\u001b[0m\u001b[0;34m]\u001b[0m\u001b[0;34m)\u001b[0m\u001b[0;34m\u001b[0m\u001b[0;34m\u001b[0m\u001b[0m\n\u001b[0m\u001b[1;32m      6\u001b[0m \u001b[0mprint\u001b[0m\u001b[0;34m(\u001b[0m\u001b[0;34mf\"F1 score: {f1:.4f}\"\u001b[0m\u001b[0;34m)\u001b[0m\u001b[0;34m\u001b[0m\u001b[0;34m\u001b[0m\u001b[0m\n\u001b[1;32m      7\u001b[0m \u001b[0mprint\u001b[0m\u001b[0;34m(\u001b[0m\u001b[0;34mf\"Precision: {prec:.4f}\"\u001b[0m\u001b[0;34m)\u001b[0m\u001b[0;34m\u001b[0m\u001b[0;34m\u001b[0m\u001b[0m\n",
            "\u001b[0;32m/content/FinGov/StakeholderKPIReporting.py\u001b[0m in \u001b[0;36mkpi_review_analyst\u001b[0;34m(mdl, X, y, y_hat)\u001b[0m\n\u001b[1;32m     75\u001b[0m     \u001b[0;32mif\u001b[0m \u001b[0my\u001b[0m\u001b[0;34m.\u001b[0m\u001b[0mshape\u001b[0m\u001b[0;34m[\u001b[0m\u001b[0;36m0\u001b[0m\u001b[0;34m]\u001b[0m \u001b[0;34m!=\u001b[0m \u001b[0my_hat\u001b[0m\u001b[0;34m.\u001b[0m\u001b[0mshape\u001b[0m\u001b[0;34m[\u001b[0m\u001b[0;36m0\u001b[0m\u001b[0;34m]\u001b[0m\u001b[0;34m:\u001b[0m\u001b[0;34m\u001b[0m\u001b[0;34m\u001b[0m\u001b[0m\n\u001b[1;32m     76\u001b[0m       \u001b[0;32mraise\u001b[0m \u001b[0mTypeError\u001b[0m\u001b[0;34m(\u001b[0m\u001b[0;34m'Bad parameter: y_test.shape[0] != y_hat.shape[0]'\u001b[0m\u001b[0;34m)\u001b[0m\u001b[0;34m\u001b[0m\u001b[0;34m\u001b[0m\u001b[0m\n\u001b[0;32m---> 77\u001b[0;31m     \u001b[0;32mif\u001b[0m \u001b[0;34m(\u001b[0m\u001b[0my\u001b[0m\u001b[0;34m.\u001b[0m\u001b[0mdtypes\u001b[0m \u001b[0;34m!=\u001b[0m \u001b[0my_hat\u001b[0m\u001b[0;34m.\u001b[0m\u001b[0mdtypes\u001b[0m\u001b[0;34m)\u001b[0m\u001b[0;34m:\u001b[0m\u001b[0;34m\u001b[0m\u001b[0;34m\u001b[0m\u001b[0m\n\u001b[0m\u001b[1;32m     78\u001b[0m       \u001b[0;32mraise\u001b[0m \u001b[0mTypeError\u001b[0m\u001b[0;34m(\u001b[0m\u001b[0;34m'Bad parameter: y_test.dtypes != y_hat.dtypes'\u001b[0m\u001b[0;34m)\u001b[0m\u001b[0;34m\u001b[0m\u001b[0;34m\u001b[0m\u001b[0m\n\u001b[1;32m     79\u001b[0m \u001b[0;34m\u001b[0m\u001b[0m\n",
            "\u001b[0;31mAttributeError\u001b[0m: 'numpy.ndarray' object has no attribute 'dtypes'"
          ]
        }
      ],
      "source": [
        "# Predict\n",
        "y_test_hat = max_mdl.predict(GovernanceUtils.norm_X(X_train_cv, X_test.copy(deep=True)).values)\n",
        "\n",
        "# Analyst KPI...\n",
        "f1, prec, rec = StakeholderKPIReporting.kpi_review_analyst(mdl=max_mdl,X=X_test, y=y_test[:].values, y_hat=y_test_hat[:])\n",
        "print(f\"F1 score: {f1:.4f}\")\n",
        "print(f\"Precision: {prec:.4f}\")\n",
        "print(f\"Recall: {rec:.4f}\")"
      ]
    },
    {
      "cell_type": "markdown",
      "id": "RM6iBjWd_yEn",
      "metadata": {
        "id": "RM6iBjWd_yEn"
      },
      "source": [
        "\n",
        "#### Bias Alert: Inductive bias\n",
        "\n",
        "Decision Trees, for instance, have inductive biases associated with greedy separation, whereas Random Forests (RF) mitigate this bias by using many randomized decision trees, but in turn introduce (lesser) inductive biases associated with the way an RF's underlying decision trees are constructed. One mitigant is to ensemble different learners, using a soft-max function or a voting approach. For voting based ensembling we would simply run a number of classifiers, take the majority answer: good/bad credit. The risk of not using the best performing model on our test data, and instead introducing poorer performing learners, is that we may reduce the reliance of our process on a single learner, but we could also damage our outcomes. We run such an ensemble below.\n",
        "Ensembling tends to produce more robust outcomes but may in some cases damage performance.\n"
      ]
    },
    {
      "cell_type": "markdown",
      "id": "LvIWjJXQtAVd",
      "metadata": {
        "id": "LvIWjJXQtAVd"
      },
      "source": [
        "## Stage 3d: Fairness\n",
        "\n",
        "Next we need to use our model to forecast the probability of default of each borrower, and we now need to decide what probability of default is too high for lending. Our classsifier will forecast a default when the probability of default is >50%, but it may suit our stakeholders better to lend at higher or lower levels. \n",
        "\n",
        "\n",
        "We will execute the following steps:\n",
        "- Review fairness of our model overall, regarding specific groups\n",
        "- Find optimum threshold: Finally we will search for the optimum threshold, that achieves the lender KPIs best, at the same time remaining fair within our tolerances."
      ]
    },
    {
      "cell_type": "code",
      "source": [
        "X_test_gender = pd.Series(X_test_protected['gender'].apply(lambda x: 'male' if x==1 else 'female'))"
      ],
      "metadata": {
        "id": "E9vMqJzer9cQ"
      },
      "id": "E9vMqJzer9cQ",
      "execution_count": null,
      "outputs": []
    },
    {
      "cell_type": "code",
      "execution_count": null,
      "id": "af39a70d",
      "metadata": {
        "id": "af39a70d"
      },
      "outputs": [],
      "source": [
        "# Test a 0.3 threshold for fairness...\n",
        "df_stats = FairnessUtils.fairness_stats_get (mod=max_mdl, \n",
        "                               X_test=X_test, \n",
        "                               y_test=y_test, \n",
        "                               X_test_category_col=X_test_gender, \n",
        "                               y_approval_threshold=0.4)\n",
        "\n",
        "FairnessUtils.plot_fairness_charts(df_stats=df_stats, \n",
        "                                   majority_class=\"male\", \n",
        "                                   fairness_metric=\"precision\",\n",
        "                                   threshold_metric=\"recall\")\n"
      ]
    },
    {
      "cell_type": "markdown",
      "source": [
        "In this example, recall for the minority group (Female) is below the lower unfairness bound, so the model is considered “unfair”.  Lower recall for females implies higher false negatives for the minority group (i.e., loan approval, then default) vs. Males, which is why the model is deemed unfair. \n",
        "For precision, the minority group (Female) is within the unfairness bounds, so there is no issue for that metric.  \n"
      ],
      "metadata": {
        "id": "D8uSTKYTFDlK"
      },
      "id": "D8uSTKYTFDlK"
    },
    {
      "cell_type": "markdown",
      "source": [
        "## Stage 3e: Lend at What Probability of Default?"
      ],
      "metadata": {
        "id": "wmK8GGoISato"
      },
      "id": "wmK8GGoISato"
    },
    {
      "cell_type": "markdown",
      "id": "a8899446",
      "metadata": {
        "id": "a8899446"
      },
      "source": [
        "We can optimize the lending threshold to achieve the **best recall for the lender**, at the same time as that threshold is **fair for minority groups**.\n",
        "\n",
        "optimal_threshold = $\\underset{pd \\in PD}{\\operatorname{argmax} 𝘧(X)}$, constrain on precision and recall for minority vs majority groups\n",
        "\n",
        "We find the optimal_threshold for our function, 𝘧(X), by testing a range of probability of default thresholds, PD, above which we refuse credit, finding the threshold with the maximum recall, while ensuring recall and precision for females is >= 80% of the respective value for males (and similar with other minority groups).\n",
        "  \n",
        "\n"
      ]
    },
    {
      "cell_type": "code",
      "execution_count": null,
      "id": "d379c310",
      "metadata": {
        "id": "d379c310"
      },
      "outputs": [],
      "source": [
        "# Get the optimal threhold to use, by iterating over different probability of default lending thresholds, maximizing recall and checking fairness by observing precision.\n",
        "optimal_threshold = FairnessUtils.decision_threshold_find_optimal(max_mdl, \n",
        "                                                                  X_test=X_test, \n",
        "                                                                  y_test=y_test, \n",
        "                                                                  X_test_category_col=X_test_gender, \n",
        "                                                                  threshold_min_max=[40,60], \n",
        "                                                                  fairness_tolerance=0.2) \n",
        "\n",
        "# Approvals? Probabuility of default < optimal_threshold, is accepted.\n",
        "y_approvals = max_mdl.predict_proba(GovernanceUtils.norm_X(X_train, X_test.copy(deep=True)).values)[:,1] < optimal_threshold"
      ]
    },
    {
      "cell_type": "code",
      "source": [
        "optimal_threshold"
      ],
      "metadata": {
        "id": "3siqlNSe68yi"
      },
      "id": "3siqlNSe68yi",
      "execution_count": null,
      "outputs": []
    },
    {
      "cell_type": "markdown",
      "source": [
        "The chart above shows how our model performs in terms of recall and precision if we refuse credit at a range of default probabilities (i.e., thresholds). We test thresholds from a low of 30% probability of default to a high of 99% probability of default. You can see how the recall and the precision of the model changes overall (All), and for female and male groups for the various thresholds of default.\n",
        "\n",
        "In this example, at the optimal_threshold, recall is maximized, and for both recall and precision, the minority group (Female) is not beyond the unfairness bounds, so there should be no fairness-related issues with this model. \n"
      ],
      "metadata": {
        "id": "5J5M7xoa7a7_"
      },
      "id": "5J5M7xoa7a7_"
    },
    {
      "cell_type": "markdown",
      "id": "0LFyHIAP59O7",
      "metadata": {
        "id": "0LFyHIAP59O7"
      },
      "source": [
        "# Stage4: Model Deployment \n",
        "\n",
        "Deploying a model involves tiers of testing before sign off and release to the live environment, called **change control**. This involves making sure all stakeholder KPIs are satisfied and for this we can use **expainable AI (XAI)** to help explain the workings of the models to stakeholders. We now generate shap_values to explain the impact of features on our model outcomes.\n"
      ]
    },
    {
      "cell_type": "code",
      "execution_count": null,
      "id": "_xCoD7kw6r0b",
      "metadata": {
        "id": "_xCoD7kw6r0b"
      },
      "outputs": [],
      "source": [
        "shap_values, expl, X_test_reduced, X_test_protected_reduced = StakeholderKPIReporting.classifier_shap_vals(max_mdl=max_mdl, \n",
        "                                                                                  X_test=X_test,                                                                                      \n",
        "                                                                                  X_test_protected=X_test_gender)"
      ]
    },
    {
      "cell_type": "markdown",
      "id": "xDmGSQUV2Fle",
      "metadata": {
        "id": "xDmGSQUV2Fle"
      },
      "source": [
        "## Stage4a. KPIs\n"
      ]
    },
    {
      "cell_type": "markdown",
      "id": "bdMhCBHMFf4v",
      "metadata": {
        "id": "bdMhCBHMFf4v"
      },
      "source": [
        "### 1) Analyst and technical explainability\n",
        "\n",
        "Analyst KPIs involve reviewing model performance, using a ROC curve, as well as consulting analytics, and examining the most important model features.\n"
      ]
    },
    {
      "cell_type": "code",
      "execution_count": null,
      "id": "fPlSWba2dSoo",
      "metadata": {
        "id": "fPlSWba2dSoo"
      },
      "outputs": [],
      "source": [
        "# Analyst KPI...\n",
        "StakeholderKPIReporting.kpi_review_analyst(mdl=max_mdl,X=X_test, y=y_test, y_hat=y_test_hat)"
      ]
    },
    {
      "cell_type": "markdown",
      "id": "8u7btmtyFKNn",
      "metadata": {
        "id": "8u7btmtyFKNn"
      },
      "source": [
        "We can use SHAP to plot feature importance."
      ]
    },
    {
      "cell_type": "code",
      "execution_count": null,
      "id": "NfwlscWzExPQ",
      "metadata": {
        "id": "NfwlscWzExPQ"
      },
      "outputs": [],
      "source": [
        "# Plot the feature importance\n",
        "plt.set_title = \"Feature Importance: Credit-Use Case Feature Importance\"\n",
        "shap.summary_plot(shap_values, X_test_reduced, feature_names=list(X_test_reduced.columns.values), plot_type='bar', show=False)\n",
        "plt.show()"
      ]
    },
    {
      "cell_type": "markdown",
      "id": "0S8f3dp_xkqS",
      "metadata": {
        "id": "0S8f3dp_xkqS"
      },
      "source": [
        "And use a SHAP Beeswarm plot to show the impact of individual instances on model outcomes, which gives us a handle on feature importance and the distribution of the impact of those features too. "
      ]
    },
    {
      "cell_type": "code",
      "execution_count": null,
      "id": "r0GjSB9YxlEl",
      "metadata": {
        "id": "r0GjSB9YxlEl"
      },
      "outputs": [],
      "source": [
        "shap.summary_plot(shap_values, X_test_reduced, show=False)\n",
        "plt.set_title = \"Beeswarm: Credit-Use Case Feature Importance and Dependency\"\n",
        "plt.show()"
      ]
    },
    {
      "cell_type": "markdown",
      "id": "ce1fcWInh48Q",
      "metadata": {
        "id": "ce1fcWInh48Q"
      },
      "source": [
        "### 2) Compliance and Regulatory\n",
        "\n"
      ]
    },
    {
      "cell_type": "markdown",
      "id": "fxV86fMFKX7r",
      "metadata": {
        "id": "fxV86fMFKX7r"
      },
      "source": [
        "We can also use SHAP to detect anomalies from a Fairness standpoint too, by plotting feature importance of male and female groups side by side (for example). We would expect the feature importance for both groups to be similar, and if it is not we may have an issue.\n"
      ]
    },
    {
      "cell_type": "code",
      "execution_count": null,
      "id": "nqJGtpmu1nig",
      "metadata": {
        "id": "nqJGtpmu1nig"
      },
      "outputs": [],
      "source": [
        "# Some learners do not have direct support from shap. \n",
        "try:\n",
        "  # Feature importance by protected characteristic.. different treatment?\n",
        "  curr_prot_cats = X_test_protected_reduced.values \n",
        "  # Plot the feature importance\n",
        "  shap.plots.bar(shap_values.cohorts(curr_prot_cats).abs.mean(0), \n",
        "                 show=True,\n",
        "                 max_display=20)\n",
        "  \n",
        "  plt.title(\"Bias Check: Feature Importance of protected group: \" + prot_char)\n",
        "  plt.show()\n",
        "except:\n",
        "  print('SHAP values do not allow cohort separation for ' + str(type(max_mdl)))"
      ]
    },
    {
      "cell_type": "markdown",
      "source": [
        "You can see how this code works in Colab:\n",
        "\n",
        "![image.png](data:image/png;base64,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)"
      ],
      "metadata": {
        "id": "0JXCCDJK_JPN"
      },
      "id": "0JXCCDJK_JPN"
    },
    {
      "cell_type": "markdown",
      "source": [
        "We have already reviewed the fairness of our model and the lending threshold.\n"
      ],
      "metadata": {
        "id": "8WwRH7DmSr51"
      },
      "id": "8WwRH7DmSr51"
    },
    {
      "cell_type": "code",
      "source": [
        "# Test our optimum threshold\n",
        "df_stats = FairnessUtils.fairness_stats_get (mod=max_mdl, \n",
        "                               X_test=X_test, \n",
        "                               y_test=y_test, \n",
        "                               X_test_category_col=X_test_gender, \n",
        "                               y_approval_threshold=optimal_threshold)\n",
        "\n",
        "FairnessUtils.plot_fairness_charts(df_stats=df_stats, \n",
        "                                   majority_class=\"male\", \n",
        "                                   fairness_metric=\"precision\",\n",
        "                                   threshold_metric=\"recall\")"
      ],
      "metadata": {
        "id": "1huFH12USsKh"
      },
      "id": "1huFH12USsKh",
      "execution_count": null,
      "outputs": []
    },
    {
      "cell_type": "markdown",
      "id": "De8c3JUdKvtR",
      "metadata": {
        "id": "De8c3JUdKvtR"
      },
      "source": [
        "### 3) Customer\n",
        "\n",
        "A customer may want to know the reasons why credit has been refused, and we can use a SHAP waterfall plot to help understand this issue."
      ]
    },
    {
      "cell_type": "code",
      "execution_count": null,
      "id": "4ZHyTdYTLCh8",
      "metadata": {
        "id": "4ZHyTdYTLCh8"
      },
      "outputs": [],
      "source": [
        "# Find a customer with bad credit prediction\n",
        "for rejected_eg_rowno in range(0,y_test.shape[0]):\n",
        "  if y_approvals[rejected_eg_rowno] == False:\n",
        "    break\n",
        "\n",
        "# This customer was refused credit and we can provide an explanation for their refusal...\n",
        "try:\n",
        "  shap.plots.waterfall(shap_values[rejected_eg_rowno])\n",
        "except:\n",
        "  print('Shap charts of this type are not supported for ' + str(type(max_mdl)))"
      ]
    },
    {
      "cell_type": "markdown",
      "source": [
        "We are able to use SHAP to drill down into a single loan application to understand why credit was refused. In this case it was down to several factors you can see above."
      ],
      "metadata": {
        "id": "bFL7Bw34Yd3z"
      },
      "id": "bFL7Bw34Yd3z"
    },
    {
      "cell_type": "markdown",
      "id": "TTN8r_7zRDbt",
      "metadata": {
        "id": "TTN8r_7zRDbt"
      },
      "source": [
        "# Stage 5: Model Monitoring and Reporting\n"
      ]
    },
    {
      "cell_type": "markdown",
      "id": "j3se-Ud-Spu3",
      "metadata": {
        "id": "j3se-Ud-Spu3"
      },
      "source": [
        "## Stage5a: Data Drift\n",
        "\n",
        "\n",
        "Our model is now in production and being used in practice. We need to monitor its stability. One approach is to monitor the distribution of the input data versus the data the model was trained with . If the distributions have shifted the model outcomes could be invalidated. \n",
        "Here we use our function **data_drift_psi** to monitor data drift.\n",
        "\n",
        "Is it time for us to retrain our model?\n"
      ]
    },
    {
      "cell_type": "code",
      "execution_count": null,
      "id": "QREnQ1poSmRR",
      "metadata": {
        "id": "QREnQ1poSmRR"
      },
      "outputs": [],
      "source": [
        "# Prepare train and test data for data drift check\n",
        "train_datadrift = pd.concat([X_train, y_train], axis=1)\n",
        "test_datadrift = pd.concat([X_test, y_test], axis=1)\n",
        "\n",
        "# Data drift check...\n",
        "data_drift_features = GovernanceUtils.data_drift_psi(train_datadrift,test_datadrift,buckettype='bins',buckets=10,axis=1,single_variable=False)\n",
        "data_drift_target = data_drift_features[-1]\n",
        "\n",
        "# Print out the target PSI value:\n",
        "print(\"Target PSI value is \",data_drift_target, \"\\n\" )\n",
        "\n",
        "# Print out the features CSI values\n",
        "print(\"The feature CSI values are:\")\n",
        "columns_features = train_datadrift.columns\n",
        "index_value = 0\n",
        "for x in columns_features:\n",
        "  if data_drift_features[index_value] > 0.2:\n",
        "          print(x, \"*************** CSI value is over 0.2 = \",data_drift_features[index_value])\n",
        "  elif data_drift_features[index_value] > 0.1:\n",
        "          print(x, \"*************** CSI value is over 0.1 = \",data_drift_features[index_value])\n",
        "  else:\n",
        "          print(x, \"CSI is OK = \",data_drift_features[index_value])\n",
        "  index_value = index_value + 1\n"
      ]
    },
    {
      "cell_type": "markdown",
      "id": "4wmYyfyWRmrR",
      "metadata": {
        "id": "4wmYyfyWRmrR"
      },
      "source": [
        "## Stage5b: Challenger Models\n",
        "\n",
        "Remember that we selected a classifier based on its F1 score performance? We can use the other models that we trained at that time, to provide another check on our live model. This is called a **challenger model**.\n"
      ]
    },
    {
      "cell_type": "code",
      "execution_count": null,
      "id": "_8v9zlaWTd3F",
      "metadata": {
        "id": "_8v9zlaWTd3F"
      },
      "outputs": [],
      "source": [
        "# Run the challenger ensemble\n",
        "y_test_hat, ens_mdl = GovernanceUtils.challenger_ensemble_run(all_mdls=all_models,\n",
        "                        all_mdls_desc=all_models_desc,\n",
        "                        all_mdls_prec=all_mdls_prec,\n",
        "                        X_train=X_train,\n",
        "                        y_train=y_train,\n",
        "                        X_test=X_test)\n",
        "\n",
        "# Do we need to retrain the live model?\n",
        "challenger_check_warning = GovernanceUtils.challenger_review_live(live_mod=max_mdl, challenger_mod=ens_mdl, X_test=X_test, y_test=y_test)"
      ]
    },
    {
      "cell_type": "code",
      "source": [
        "# Not we see if there are any warnings to do with the performance of our live model versus the Challenger model: \n",
        "# ... '' means ... no warnings\n",
        "challenger_check_warning"
      ],
      "metadata": {
        "id": "2G7xB1Tk-Le4"
      },
      "id": "2G7xB1Tk-Le4",
      "execution_count": null,
      "outputs": []
    },
    {
      "cell_type": "markdown",
      "source": [
        "In this case the **challenger model** is superior to our live model in terms of both recall (identifying FNs), and also precision (identifying FP). Maybe it is time for us to redevelop our model?"
      ],
      "metadata": {
        "id": "IgxgPv3My2kv"
      },
      "id": "IgxgPv3My2kv"
    },
    {
      "cell_type": "markdown",
      "source": [
        "# Afterword\n",
        "\n",
        "We have done our best to include the key themes of what we think are the critical stages of model development in this notebook, but clearly in practice many more checks and details would be added to each of the 5 model development stages to best ensure stakeholder's KPIs are met, and Governance standards would be as high as possible. Hopefully our example and key themes will provide insight to avoid many of the classic biases in model development."
      ],
      "metadata": {
        "id": "maH6e9W3S-Va"
      },
      "id": "maH6e9W3S-Va"
    }
  ],
  "metadata": {
    "colab": {
      "provenance": []
    },
    "kernelspec": {
      "display_name": "Python 3 (ipykernel)",
      "language": "python",
      "name": "python3"
    },
    "language_info": {
      "codemirror_mode": {
        "name": "ipython",
        "version": 3
      },
      "file_extension": ".py",
      "mimetype": "text/x-python",
      "name": "python",
      "nbconvert_exporter": "python",
      "pygments_lexer": "ipython3",
      "version": "3.9.12"
    }
  },
  "nbformat": 4,
  "nbformat_minor": 5
}