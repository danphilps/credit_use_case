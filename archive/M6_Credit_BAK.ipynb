{
  "cells": [
    {
      "cell_type": "markdown",
      "id": "a5cc8190",
      "metadata": {
        "id": "a5cc8190"
      },
      "source": [
        "# Module 6: CFA\n",
        "# Use Case: Credit Risk - Identifying Bad Credit Risks\n",
        "# ===========================================\n",
        "\n",
        "In this example, we aim to predict bad consumer credits, and we develop a classification model for this purpose, driven by loan and debtor attributes. We would use this model to accept or reject a customer’s business.\n",
        "\n",
        "Dataset: Credit risk https://datahub.io/machine-learning/credit-g\n",
        "Dua, D. and Graff, C. (2019). UCI Machine Learning Repository [http://archive.ics.uci.edu/ml]. Irvine, CA: University of California, School of Information and Computer Science."
      ]
    },
    {
      "cell_type": "code",
      "execution_count": null,
      "id": "35f08271",
      "metadata": {
        "id": "35f08271"
      },
      "outputs": [],
      "source": [
        "# package for working with tabular data\n",
        "import pandas as pd \n",
        "import numpy as np\n",
        "\n",
        "# Package for charting\n",
        "import matplotlib.pyplot as plt\n",
        "import seaborn as sns #charts\n",
        "\n",
        "# package for timing runtime\n",
        "import time\n",
        "\n",
        "# package for navigating the operating system\n",
        "import os"
      ]
    },
    {
      "cell_type": "markdown",
      "source": [
        "## Utilities: Governance and Fairness\n",
        "\n",
        "First we will declare and introduce the functions we will be using to implement the Governance Framework, and principles of Fairness in our process.\n"
      ],
      "metadata": {
        "id": "0xu8WyTTVNGd"
      },
      "id": "0xu8WyTTVNGd"
    },
    {
      "cell_type": "markdown",
      "source": [
        "### Governance Framework Functions\n",
        "\n",
        "@@@@@@@@@@@@@@ AUGUSTINE! DECLARE ALL YOUR FUNCTIONS HERE ... WE CAN LATER DECIDE IF WE PACKAGE UP"
      ],
      "metadata": {
        "id": "JE0VW_oeVnah"
      },
      "id": "JE0VW_oeVnah"
    },
    {
      "cell_type": "markdown",
      "source": [
        "### Fairness Functions\n",
        "\n",
        "@@@@@@@@@@@@@@ MADHU! DECLARE ALL YOUR FUNCTIONS HERE ... WE CAN LATER DECIDE IF WE PACKAGE UP"
      ],
      "metadata": {
        "id": "OmxxP7U6Vy3v"
      },
      "id": "OmxxP7U6Vy3v"
    },
    {
      "cell_type": "markdown",
      "source": [
        "# Stage1. Business Case \n",
        "\n",
        "Define key performance indicators (KPIs). \n",
        "Data needed, outcomes, model risk level, communication strategy.\n",
        "Regulatory and Compliance issues \n",
        "\n",
        "@@@@@@@@@@@@@@@@@@@@@ MADHU ARE YOU OK DEFINING KPIs HERE? 1) ACCURACY? 2) FAIRNESS\n"
      ],
      "metadata": {
        "id": "rDXnNSIt5GUs"
      },
      "id": "rDXnNSIt5GUs"
    },
    {
      "cell_type": "markdown",
      "source": [
        "# Stage2. Data\n",
        "\n",
        "Next we load the data we need to achieve our business aims, wrangle it and prepare it."
      ],
      "metadata": {
        "id": "_DfUFfsmFWh5"
      },
      "id": "_DfUFfsmFWh5"
    },
    {
      "cell_type": "markdown",
      "source": [
        "##Stage2a. Load Data"
      ],
      "metadata": {
        "id": "z_M1xrqYGCJ9"
      },
      "id": "z_M1xrqYGCJ9"
    },
    {
      "cell_type": "markdown",
      "source": [
        "If this is running in Google Colab.... we extract the GitHub loc where the data resides...."
      ],
      "metadata": {
        "id": "sFBrITKU_6A0"
      },
      "id": "sFBrITKU_6A0"
    },
    {
      "cell_type": "code",
      "source": [
        "!git clone https://github.com/danphilps/credit_use_case"
      ],
      "metadata": {
        "colab": {
          "base_uri": "https://localhost:8080/"
        },
        "id": "CysAAt4-AdN8",
        "outputId": "5bf82fcc-c1b7-4c8e-cf3b-b2915c7518fa"
      },
      "id": "CysAAt4-AdN8",
      "execution_count": null,
      "outputs": [
        {
          "output_type": "stream",
          "name": "stdout",
          "text": [
            "Cloning into 'credit_use_case'...\n",
            "remote: Enumerating objects: 98, done.\u001b[K\n",
            "remote: Counting objects: 100% (98/98), done.\u001b[K\n",
            "remote: Compressing objects: 100% (92/92), done.\u001b[K\n",
            "remote: Total 98 (delta 42), reused 19 (delta 3), pack-reused 0\u001b[K\n",
            "Unpacking objects: 100% (98/98), done.\n"
          ]
        }
      ]
    },
    {
      "cell_type": "code",
      "source": [
        "# We should see a \"credit_use_case\" directory....\n",
        "os.listdir()"
      ],
      "metadata": {
        "colab": {
          "base_uri": "https://localhost:8080/"
        },
        "id": "LusHe3a2BF_t",
        "outputId": "ebac86c8-7db7-4d4e-c896-f084566fca55"
      },
      "id": "LusHe3a2BF_t",
      "execution_count": null,
      "outputs": [
        {
          "output_type": "execute_result",
          "data": {
            "text/plain": [
              "['.config', 'credit_use_case', 'sample_data']"
            ]
          },
          "metadata": {},
          "execution_count": 4
        }
      ]
    },
    {
      "cell_type": "code",
      "source": [
        "os.chdir('credit_use_case')"
      ],
      "metadata": {
        "id": "hhMDMb1xB0yk"
      },
      "id": "hhMDMb1xB0yk",
      "execution_count": null,
      "outputs": []
    },
    {
      "cell_type": "code",
      "execution_count": null,
      "id": "c26b1a44",
      "metadata": {
        "id": "c26b1a44"
      },
      "outputs": [],
      "source": [
        "loc = \"credit-g.csv\"\n",
        "df_raw = pd.read_csv(loc)"
      ]
    },
    {
      "cell_type": "code",
      "source": [
        "df_raw.columns"
      ],
      "metadata": {
        "colab": {
          "base_uri": "https://localhost:8080/"
        },
        "id": "pwvlymBMFqsW",
        "outputId": "a3c25dac-202d-4d33-ca5d-42157aeba3e6"
      },
      "id": "pwvlymBMFqsW",
      "execution_count": null,
      "outputs": [
        {
          "output_type": "execute_result",
          "data": {
            "text/plain": [
              "Index(['checking_status', 'duration', 'credit_history', 'purpose',\n",
              "       'credit_amount', 'savings_status', 'employment',\n",
              "       'installment_commitment', 'personal_status', 'other_parties',\n",
              "       'residence_since', 'property_magnitude', 'age', 'other_payment_plans',\n",
              "       'housing', 'existing_credits', 'job', 'num_dependents', 'own_telephone',\n",
              "       'foreign_worker', 'class'],\n",
              "      dtype='object')"
            ]
          },
          "metadata": {},
          "execution_count": 7
        }
      ]
    },
    {
      "cell_type": "markdown",
      "source": [
        "#### Bias Alert: Protected and Privileged Groups...\n",
        "\n",
        "Loan approval is a high risk application. We need to go very carefully as a result. We need to identify any protected characteristics (ie it would be illegal to differentiate based on these) present in the dataset. \n",
        "Our use-case is a loan approval use case, ethnicity and gender are protected charcteristics where biases would be illegal. We clearly need to remove these features.\n",
        "It is also possible to identify priviledged groups and remove biases based on these characterictics. \n"
      ],
      "metadata": {
        "id": "qV1jmvnXDdEl"
      },
      "id": "qV1jmvnXDdEl"
    },
    {
      "cell_type": "code",
      "source": [
        "# Protected data items - 'personal_status' has a \"sex\" classifier - REMOVE!\n",
        "df = df_raw.drop(columns=['personal_status'])\n",
        "\n",
        "# Priviledged dataitems - remove all ages < 25\n",
        "df['age'] = df_raw['age'][lambda x: x >= 25]\n"
      ],
      "metadata": {
        "id": "0n2YS32BDd6N"
      },
      "id": "0n2YS32BDd6N",
      "execution_count": null,
      "outputs": []
    },
    {
      "cell_type": "code",
      "source": [
        "# Check for biases on protected characteristics...\n",
        "df_female = df_raw[(df_raw['personal_status'].str.contains('female') != 0)]\n",
        "df_male = df_raw[(df_raw['personal_status'].str.contains('female') == 0)]\n",
        "\n",
        "# % of females \n",
        "female_good_credits = df_female[(df_female['class'] == 'good')].shape[0]\n",
        "female_good_credits_pct = female_good_credits / df_female.shape[0]\n",
        "#\n",
        "male_good_credits = df_male[(df_male['class'] == 'good')].shape[0] \n",
        "male_good_credits_pct = male_good_credits / df_male.shape[0]\n",
        "\n",
        "#  Difference in good credits for females and males...\n",
        "print('Female good credits: ' + str(format(round(female_good_credits_pct*100, 2))) + '%')\n",
        "print('Male good credits: ' + str(format(round(male_good_credits_pct*100, 2))) + '%')\n"
      ],
      "metadata": {
        "colab": {
          "base_uri": "https://localhost:8080/"
        },
        "id": "NQaeBvyxMddk",
        "outputId": "0e41b017-f38b-40ee-9887-01ef21ab1fcf"
      },
      "id": "NQaeBvyxMddk",
      "execution_count": null,
      "outputs": [
        {
          "output_type": "stream",
          "name": "stdout",
          "text": [
            "Female good credits: 64.84%\n",
            "Male good credits: 72.32%\n"
          ]
        }
      ]
    },
    {
      "cell_type": "markdown",
      "source": [
        "There is clearly a bias in the dataset, but to expand upon this we can use a Chi2 test to examine whether the observed \"bad\" credits we see in female rows, is statistically significant to the expected difference we see in male rows.\n",
        "\n",
        "It is possible that this bias is proxied by another data item in the dataset. **We will come back to this issue later**."
      ],
      "metadata": {
        "id": "cB4L-E2-Te1u"
      },
      "id": "cB4L-E2-Te1u"
    },
    {
      "cell_type": "code",
      "source": [
        "from scipy.stats import chi2_contingency\n",
        "\n",
        "# Examine gender bias ... Generate  confusion matrix that to examine this bias...\n",
        "df_raw['gender'] = np.where(df_raw['personal_status'].str.contains('female') == 0, 'female', 'male')\n",
        "conf_matrix = pd.crosstab(df_raw['gender'], df_raw['class']) \n",
        "\n",
        "print('Male/Female Good/Bad Credits Confusion Matrix \\n' + str(conf_matrix))\n",
        "\n",
        "# Chi-square test of independence. \n",
        "c, p, dof, expected = chi2_contingency(conf_matrix) \n",
        "# Print the p-value\n",
        "print('\\n Chi-square test of independence')\n",
        "print('p-val of Chi2 test: ' + str(round(p, 4)))"
      ],
      "metadata": {
        "colab": {
          "base_uri": "https://localhost:8080/"
        },
        "id": "nPksuW6KKdhV",
        "outputId": "0c767bdd-5cb8-4a91-98c0-d156fe2641fc"
      },
      "id": "nPksuW6KKdhV",
      "execution_count": null,
      "outputs": [
        {
          "output_type": "stream",
          "name": "stdout",
          "text": [
            "Male/Female Good/Bad Credits Confusion Matrix \n",
            "class   bad  good\n",
            "gender           \n",
            "female  191   499\n",
            "male    109   201\n",
            "\n",
            " Chi-square test of independence\n",
            "p-val of Chi2 test: 0.0207\n"
          ]
        }
      ]
    },
    {
      "cell_type": "markdown",
      "source": [
        "Note that we now have identified 2 classes, male and female, with males priviledged, which means we need to be fair between these two groups "
      ],
      "metadata": {
        "id": "fnCjWx6eqGHE"
      },
      "id": "fnCjWx6eqGHE"
    },
    {
      "cell_type": "markdown",
      "source": [
        "### Check for proxies of our protected characteristics\n",
        " \n",
        "We noted that there is a bias in our dataset between the protected characterisctis of gender, with male and female credits being different, and we removed this protected characteristic from the dataset to avoid this illegal bias in loan approval outcomes.\n",
        "\n",
        "Protected characteristics can be picked up (proxied) in other dataitems in more subtle ways though. For instance given that single parent households tend to disproportionately be led by a female adult, this may make 'num_dependents' a proxy for gender.\n",
        "\n",
        "It is important that we control for any possible protected biases, and one way of achieving this is to retrain our model using a mitigator, which trains by constraining the model weights to produce a balanced outcome between protected classes; male and female credits in this case.\n",
        "\n",
        "To ascertain proxies we can check the correlation of our protected feature with ther features in the dataset.\n",
        "\n",
        "Our protected features is categorical, so compare other categorical features with our protected feature we can use a Chi2 test. \n",
        "To compare  "
      ],
      "metadata": {
        "id": "tVRDgt03tG5c"
      },
      "id": "tVRDgt03tG5c"
    },
    {
      "cell_type": "code",
      "source": [
        "# MADHU: FAIRNESS FUNCTION HERE!!"
      ],
      "metadata": {
        "id": "eButjMDcPwHz"
      },
      "id": "eButjMDcPwHz",
      "execution_count": null,
      "outputs": []
    },
    {
      "cell_type": "markdown",
      "id": "bdd49632",
      "metadata": {
        "id": "bdd49632"
      },
      "source": [
        "## Stage2b. Data Wrangling and Preprocessing\n",
        "\n",
        "Data Wrangling: As we have shown in previous chapters we need to convert categorical data into one-hot-encodings, clean characters from numeric data columns, carry out type conversions into numeric datatypes... The following cell shows the appropriate data wrangling to get our data into a good shape. "
      ]
    },
    {
      "cell_type": "code",
      "execution_count": null,
      "id": "c62115a2",
      "metadata": {
        "scrolled": true,
        "colab": {
          "base_uri": "https://localhost:8080/"
        },
        "id": "c62115a2",
        "outputId": "0e35d664-bf8e-43b6-f956-c917f33f110c"
      },
      "outputs": [
        {
          "output_type": "execute_result",
          "data": {
            "text/plain": [
              "     duration  credit_amount  installment_commitment  residence_since  age  \\\n",
              "0           6           1169                       4                4   67   \n",
              "1          48           5951                       2                2    0   \n",
              "2          12           2096                       2                3   49   \n",
              "3          42           7882                       2                4   45   \n",
              "4          24           4870                       3                4   53   \n",
              "..        ...            ...                     ...              ...  ...   \n",
              "995        12           1736                       3                4   31   \n",
              "996        30           3857                       4                4   40   \n",
              "997        12            804                       4                4   38   \n",
              "998        45           1845                       4                4    0   \n",
              "999        45           4576                       3                4   27   \n",
              "\n",
              "     existing_credits  num_dependents  foreign_worker  class  \\\n",
              "0                   2               1               1      0   \n",
              "1                   1               1               1      1   \n",
              "2                   1               2               1      0   \n",
              "3                   1               2               1      0   \n",
              "4                   2               2               1      1   \n",
              "..                ...             ...             ...    ...   \n",
              "995                 1               1               1      0   \n",
              "996                 1               1               1      0   \n",
              "997                 1               1               1      0   \n",
              "998                 1               1               1      1   \n",
              "999                 1               1               1      0   \n",
              "\n",
              "     checking_status_0<=X<200  ...  other_payment_plans_stores  \\\n",
              "0                           0  ...                           0   \n",
              "1                           1  ...                           0   \n",
              "2                           0  ...                           0   \n",
              "3                           0  ...                           0   \n",
              "4                           0  ...                           0   \n",
              "..                        ...  ...                         ...   \n",
              "995                         0  ...                           0   \n",
              "996                         0  ...                           0   \n",
              "997                         0  ...                           0   \n",
              "998                         0  ...                           0   \n",
              "999                         1  ...                           0   \n",
              "\n",
              "     housing_for free  housing_own  housing_rent  \\\n",
              "0                   0            1             0   \n",
              "1                   0            1             0   \n",
              "2                   0            1             0   \n",
              "3                   1            0             0   \n",
              "4                   1            0             0   \n",
              "..                ...          ...           ...   \n",
              "995                 0            1             0   \n",
              "996                 0            1             0   \n",
              "997                 0            1             0   \n",
              "998                 1            0             0   \n",
              "999                 0            1             0   \n",
              "\n",
              "     job_high qualif/self emp/mgmt  job_skilled  job_unemp/unskilled non res  \\\n",
              "0                                0            1                            0   \n",
              "1                                0            1                            0   \n",
              "2                                0            0                            0   \n",
              "3                                0            1                            0   \n",
              "4                                0            1                            0   \n",
              "..                             ...          ...                          ...   \n",
              "995                              0            0                            0   \n",
              "996                              1            0                            0   \n",
              "997                              0            1                            0   \n",
              "998                              0            1                            0   \n",
              "999                              0            1                            0   \n",
              "\n",
              "     job_unskilled resident  own_telephone_none  own_telephone_yes  \n",
              "0                         0                   0                  1  \n",
              "1                         0                   1                  0  \n",
              "2                         1                   1                  0  \n",
              "3                         0                   1                  0  \n",
              "4                         0                   1                  0  \n",
              "..                      ...                 ...                ...  \n",
              "995                       1                   1                  0  \n",
              "996                       0                   0                  1  \n",
              "997                       0                   1                  0  \n",
              "998                       0                   0                  1  \n",
              "999                       0                   1                  0  \n",
              "\n",
              "[1000 rows x 57 columns]"
            ],
            "text/html": [
              "\n",
              "  <div id=\"df-9cc990b0-a346-4d0f-9364-dfd5ba48fa9c\">\n",
              "    <div class=\"colab-df-container\">\n",
              "      <div>\n",
              "<style scoped>\n",
              "    .dataframe tbody tr th:only-of-type {\n",
              "        vertical-align: middle;\n",
              "    }\n",
              "\n",
              "    .dataframe tbody tr th {\n",
              "        vertical-align: top;\n",
              "    }\n",
              "\n",
              "    .dataframe thead th {\n",
              "        text-align: right;\n",
              "    }\n",
              "</style>\n",
              "<table border=\"1\" class=\"dataframe\">\n",
              "  <thead>\n",
              "    <tr style=\"text-align: right;\">\n",
              "      <th></th>\n",
              "      <th>duration</th>\n",
              "      <th>credit_amount</th>\n",
              "      <th>installment_commitment</th>\n",
              "      <th>residence_since</th>\n",
              "      <th>age</th>\n",
              "      <th>existing_credits</th>\n",
              "      <th>num_dependents</th>\n",
              "      <th>foreign_worker</th>\n",
              "      <th>class</th>\n",
              "      <th>checking_status_0&lt;=X&lt;200</th>\n",
              "      <th>...</th>\n",
              "      <th>other_payment_plans_stores</th>\n",
              "      <th>housing_for free</th>\n",
              "      <th>housing_own</th>\n",
              "      <th>housing_rent</th>\n",
              "      <th>job_high qualif/self emp/mgmt</th>\n",
              "      <th>job_skilled</th>\n",
              "      <th>job_unemp/unskilled non res</th>\n",
              "      <th>job_unskilled resident</th>\n",
              "      <th>own_telephone_none</th>\n",
              "      <th>own_telephone_yes</th>\n",
              "    </tr>\n",
              "  </thead>\n",
              "  <tbody>\n",
              "    <tr>\n",
              "      <th>0</th>\n",
              "      <td>6</td>\n",
              "      <td>1169</td>\n",
              "      <td>4</td>\n",
              "      <td>4</td>\n",
              "      <td>67</td>\n",
              "      <td>2</td>\n",
              "      <td>1</td>\n",
              "      <td>1</td>\n",
              "      <td>0</td>\n",
              "      <td>0</td>\n",
              "      <td>...</td>\n",
              "      <td>0</td>\n",
              "      <td>0</td>\n",
              "      <td>1</td>\n",
              "      <td>0</td>\n",
              "      <td>0</td>\n",
              "      <td>1</td>\n",
              "      <td>0</td>\n",
              "      <td>0</td>\n",
              "      <td>0</td>\n",
              "      <td>1</td>\n",
              "    </tr>\n",
              "    <tr>\n",
              "      <th>1</th>\n",
              "      <td>48</td>\n",
              "      <td>5951</td>\n",
              "      <td>2</td>\n",
              "      <td>2</td>\n",
              "      <td>0</td>\n",
              "      <td>1</td>\n",
              "      <td>1</td>\n",
              "      <td>1</td>\n",
              "      <td>1</td>\n",
              "      <td>1</td>\n",
              "      <td>...</td>\n",
              "      <td>0</td>\n",
              "      <td>0</td>\n",
              "      <td>1</td>\n",
              "      <td>0</td>\n",
              "      <td>0</td>\n",
              "      <td>1</td>\n",
              "      <td>0</td>\n",
              "      <td>0</td>\n",
              "      <td>1</td>\n",
              "      <td>0</td>\n",
              "    </tr>\n",
              "    <tr>\n",
              "      <th>2</th>\n",
              "      <td>12</td>\n",
              "      <td>2096</td>\n",
              "      <td>2</td>\n",
              "      <td>3</td>\n",
              "      <td>49</td>\n",
              "      <td>1</td>\n",
              "      <td>2</td>\n",
              "      <td>1</td>\n",
              "      <td>0</td>\n",
              "      <td>0</td>\n",
              "      <td>...</td>\n",
              "      <td>0</td>\n",
              "      <td>0</td>\n",
              "      <td>1</td>\n",
              "      <td>0</td>\n",
              "      <td>0</td>\n",
              "      <td>0</td>\n",
              "      <td>0</td>\n",
              "      <td>1</td>\n",
              "      <td>1</td>\n",
              "      <td>0</td>\n",
              "    </tr>\n",
              "    <tr>\n",
              "      <th>3</th>\n",
              "      <td>42</td>\n",
              "      <td>7882</td>\n",
              "      <td>2</td>\n",
              "      <td>4</td>\n",
              "      <td>45</td>\n",
              "      <td>1</td>\n",
              "      <td>2</td>\n",
              "      <td>1</td>\n",
              "      <td>0</td>\n",
              "      <td>0</td>\n",
              "      <td>...</td>\n",
              "      <td>0</td>\n",
              "      <td>1</td>\n",
              "      <td>0</td>\n",
              "      <td>0</td>\n",
              "      <td>0</td>\n",
              "      <td>1</td>\n",
              "      <td>0</td>\n",
              "      <td>0</td>\n",
              "      <td>1</td>\n",
              "      <td>0</td>\n",
              "    </tr>\n",
              "    <tr>\n",
              "      <th>4</th>\n",
              "      <td>24</td>\n",
              "      <td>4870</td>\n",
              "      <td>3</td>\n",
              "      <td>4</td>\n",
              "      <td>53</td>\n",
              "      <td>2</td>\n",
              "      <td>2</td>\n",
              "      <td>1</td>\n",
              "      <td>1</td>\n",
              "      <td>0</td>\n",
              "      <td>...</td>\n",
              "      <td>0</td>\n",
              "      <td>1</td>\n",
              "      <td>0</td>\n",
              "      <td>0</td>\n",
              "      <td>0</td>\n",
              "      <td>1</td>\n",
              "      <td>0</td>\n",
              "      <td>0</td>\n",
              "      <td>1</td>\n",
              "      <td>0</td>\n",
              "    </tr>\n",
              "    <tr>\n",
              "      <th>...</th>\n",
              "      <td>...</td>\n",
              "      <td>...</td>\n",
              "      <td>...</td>\n",
              "      <td>...</td>\n",
              "      <td>...</td>\n",
              "      <td>...</td>\n",
              "      <td>...</td>\n",
              "      <td>...</td>\n",
              "      <td>...</td>\n",
              "      <td>...</td>\n",
              "      <td>...</td>\n",
              "      <td>...</td>\n",
              "      <td>...</td>\n",
              "      <td>...</td>\n",
              "      <td>...</td>\n",
              "      <td>...</td>\n",
              "      <td>...</td>\n",
              "      <td>...</td>\n",
              "      <td>...</td>\n",
              "      <td>...</td>\n",
              "      <td>...</td>\n",
              "    </tr>\n",
              "    <tr>\n",
              "      <th>995</th>\n",
              "      <td>12</td>\n",
              "      <td>1736</td>\n",
              "      <td>3</td>\n",
              "      <td>4</td>\n",
              "      <td>31</td>\n",
              "      <td>1</td>\n",
              "      <td>1</td>\n",
              "      <td>1</td>\n",
              "      <td>0</td>\n",
              "      <td>0</td>\n",
              "      <td>...</td>\n",
              "      <td>0</td>\n",
              "      <td>0</td>\n",
              "      <td>1</td>\n",
              "      <td>0</td>\n",
              "      <td>0</td>\n",
              "      <td>0</td>\n",
              "      <td>0</td>\n",
              "      <td>1</td>\n",
              "      <td>1</td>\n",
              "      <td>0</td>\n",
              "    </tr>\n",
              "    <tr>\n",
              "      <th>996</th>\n",
              "      <td>30</td>\n",
              "      <td>3857</td>\n",
              "      <td>4</td>\n",
              "      <td>4</td>\n",
              "      <td>40</td>\n",
              "      <td>1</td>\n",
              "      <td>1</td>\n",
              "      <td>1</td>\n",
              "      <td>0</td>\n",
              "      <td>0</td>\n",
              "      <td>...</td>\n",
              "      <td>0</td>\n",
              "      <td>0</td>\n",
              "      <td>1</td>\n",
              "      <td>0</td>\n",
              "      <td>1</td>\n",
              "      <td>0</td>\n",
              "      <td>0</td>\n",
              "      <td>0</td>\n",
              "      <td>0</td>\n",
              "      <td>1</td>\n",
              "    </tr>\n",
              "    <tr>\n",
              "      <th>997</th>\n",
              "      <td>12</td>\n",
              "      <td>804</td>\n",
              "      <td>4</td>\n",
              "      <td>4</td>\n",
              "      <td>38</td>\n",
              "      <td>1</td>\n",
              "      <td>1</td>\n",
              "      <td>1</td>\n",
              "      <td>0</td>\n",
              "      <td>0</td>\n",
              "      <td>...</td>\n",
              "      <td>0</td>\n",
              "      <td>0</td>\n",
              "      <td>1</td>\n",
              "      <td>0</td>\n",
              "      <td>0</td>\n",
              "      <td>1</td>\n",
              "      <td>0</td>\n",
              "      <td>0</td>\n",
              "      <td>1</td>\n",
              "      <td>0</td>\n",
              "    </tr>\n",
              "    <tr>\n",
              "      <th>998</th>\n",
              "      <td>45</td>\n",
              "      <td>1845</td>\n",
              "      <td>4</td>\n",
              "      <td>4</td>\n",
              "      <td>0</td>\n",
              "      <td>1</td>\n",
              "      <td>1</td>\n",
              "      <td>1</td>\n",
              "      <td>1</td>\n",
              "      <td>0</td>\n",
              "      <td>...</td>\n",
              "      <td>0</td>\n",
              "      <td>1</td>\n",
              "      <td>0</td>\n",
              "      <td>0</td>\n",
              "      <td>0</td>\n",
              "      <td>1</td>\n",
              "      <td>0</td>\n",
              "      <td>0</td>\n",
              "      <td>0</td>\n",
              "      <td>1</td>\n",
              "    </tr>\n",
              "    <tr>\n",
              "      <th>999</th>\n",
              "      <td>45</td>\n",
              "      <td>4576</td>\n",
              "      <td>3</td>\n",
              "      <td>4</td>\n",
              "      <td>27</td>\n",
              "      <td>1</td>\n",
              "      <td>1</td>\n",
              "      <td>1</td>\n",
              "      <td>0</td>\n",
              "      <td>1</td>\n",
              "      <td>...</td>\n",
              "      <td>0</td>\n",
              "      <td>0</td>\n",
              "      <td>1</td>\n",
              "      <td>0</td>\n",
              "      <td>0</td>\n",
              "      <td>1</td>\n",
              "      <td>0</td>\n",
              "      <td>0</td>\n",
              "      <td>1</td>\n",
              "      <td>0</td>\n",
              "    </tr>\n",
              "  </tbody>\n",
              "</table>\n",
              "<p>1000 rows × 57 columns</p>\n",
              "</div>\n",
              "      <button class=\"colab-df-convert\" onclick=\"convertToInteractive('df-9cc990b0-a346-4d0f-9364-dfd5ba48fa9c')\"\n",
              "              title=\"Convert this dataframe to an interactive table.\"\n",
              "              style=\"display:none;\">\n",
              "        \n",
              "  <svg xmlns=\"http://www.w3.org/2000/svg\" height=\"24px\"viewBox=\"0 0 24 24\"\n",
              "       width=\"24px\">\n",
              "    <path d=\"M0 0h24v24H0V0z\" fill=\"none\"/>\n",
              "    <path d=\"M18.56 5.44l.94 2.06.94-2.06 2.06-.94-2.06-.94-.94-2.06-.94 2.06-2.06.94zm-11 1L8.5 8.5l.94-2.06 2.06-.94-2.06-.94L8.5 2.5l-.94 2.06-2.06.94zm10 10l.94 2.06.94-2.06 2.06-.94-2.06-.94-.94-2.06-.94 2.06-2.06.94z\"/><path d=\"M17.41 7.96l-1.37-1.37c-.4-.4-.92-.59-1.43-.59-.52 0-1.04.2-1.43.59L10.3 9.45l-7.72 7.72c-.78.78-.78 2.05 0 2.83L4 21.41c.39.39.9.59 1.41.59.51 0 1.02-.2 1.41-.59l7.78-7.78 2.81-2.81c.8-.78.8-2.07 0-2.86zM5.41 20L4 18.59l7.72-7.72 1.47 1.35L5.41 20z\"/>\n",
              "  </svg>\n",
              "      </button>\n",
              "      \n",
              "  <style>\n",
              "    .colab-df-container {\n",
              "      display:flex;\n",
              "      flex-wrap:wrap;\n",
              "      gap: 12px;\n",
              "    }\n",
              "\n",
              "    .colab-df-convert {\n",
              "      background-color: #E8F0FE;\n",
              "      border: none;\n",
              "      border-radius: 50%;\n",
              "      cursor: pointer;\n",
              "      display: none;\n",
              "      fill: #1967D2;\n",
              "      height: 32px;\n",
              "      padding: 0 0 0 0;\n",
              "      width: 32px;\n",
              "    }\n",
              "\n",
              "    .colab-df-convert:hover {\n",
              "      background-color: #E2EBFA;\n",
              "      box-shadow: 0px 1px 2px rgba(60, 64, 67, 0.3), 0px 1px 3px 1px rgba(60, 64, 67, 0.15);\n",
              "      fill: #174EA6;\n",
              "    }\n",
              "\n",
              "    [theme=dark] .colab-df-convert {\n",
              "      background-color: #3B4455;\n",
              "      fill: #D2E3FC;\n",
              "    }\n",
              "\n",
              "    [theme=dark] .colab-df-convert:hover {\n",
              "      background-color: #434B5C;\n",
              "      box-shadow: 0px 1px 3px 1px rgba(0, 0, 0, 0.15);\n",
              "      filter: drop-shadow(0px 1px 2px rgba(0, 0, 0, 0.3));\n",
              "      fill: #FFFFFF;\n",
              "    }\n",
              "  </style>\n",
              "\n",
              "      <script>\n",
              "        const buttonEl =\n",
              "          document.querySelector('#df-9cc990b0-a346-4d0f-9364-dfd5ba48fa9c button.colab-df-convert');\n",
              "        buttonEl.style.display =\n",
              "          google.colab.kernel.accessAllowed ? 'block' : 'none';\n",
              "\n",
              "        async function convertToInteractive(key) {\n",
              "          const element = document.querySelector('#df-9cc990b0-a346-4d0f-9364-dfd5ba48fa9c');\n",
              "          const dataTable =\n",
              "            await google.colab.kernel.invokeFunction('convertToInteractive',\n",
              "                                                     [key], {});\n",
              "          if (!dataTable) return;\n",
              "\n",
              "          const docLinkHtml = 'Like what you see? Visit the ' +\n",
              "            '<a target=\"_blank\" href=https://colab.research.google.com/notebooks/data_table.ipynb>data table notebook</a>'\n",
              "            + ' to learn more about interactive tables.';\n",
              "          element.innerHTML = '';\n",
              "          dataTable['output_type'] = 'display_data';\n",
              "          await google.colab.output.renderOutput(dataTable, element);\n",
              "          const docLink = document.createElement('div');\n",
              "          docLink.innerHTML = docLinkHtml;\n",
              "          element.appendChild(docLink);\n",
              "        }\n",
              "      </script>\n",
              "    </div>\n",
              "  </div>\n",
              "  "
            ]
          },
          "metadata": {},
          "execution_count": 11
        }
      ],
      "source": [
        "# list categorical columns...\n",
        "cat_cols =['checking_status', 'purpose', 'credit_history', 'savings_status', 'employment', 'other_parties', 'property_magnitude', 'other_payment_plans','housing','job','own_telephone']\n",
        "\n",
        "# One hot encoding of catagorical variables...\n",
        "df[cat_cols].astype(\"category\")\n",
        "one_hot_encodings = pd.get_dummies(df[cat_cols])\n",
        "\n",
        "#Combine dfs\n",
        "df = pd.concat([df, one_hot_encodings], axis=1)\n",
        "\n",
        "#remove categorical columns...\n",
        "df = df.drop(columns=cat_cols)\n",
        "\n",
        "#Data wrangling..... get types and bad values sorted out\n",
        "\n",
        "# Remove characters in numeric columns (note that the data type was set, by the open_csv function to object, \n",
        "# so we first convert to string before running the replace function (which can only be fun on str types)\n",
        "df['foreign_worker'] = df['foreign_worker'].str.replace('yes', '1')\n",
        "df['foreign_worker'] = df['foreign_worker'].str.replace('no', '0')\n",
        "df['class'] = df['class'].str.replace('good', '0')\n",
        "df['class'] = df['class'].str.replace('bad', '1')\n",
        "\n",
        "# Convert to numerics so we can use in ML... we force type conversions, then print our resulting df.\n",
        "df['foreign_worker'] = pd.to_numeric(df['foreign_worker'], errors ='coerce').fillna(0).astype('int')\n",
        "df['class'] = pd.to_numeric(df['class'], errors ='coerce').fillna(0).astype('int')\n",
        "df['duration'] = pd.to_numeric(df['duration'], errors ='coerce').fillna(0).astype('int')\n",
        "df['installment_commitment'] = pd.to_numeric(df['installment_commitment'], errors ='coerce').fillna(0).astype('int')\n",
        "df['residence_since'] = pd.to_numeric(df['residence_since'], errors ='coerce').fillna(0).astype('int')\n",
        "df['age'] = pd.to_numeric(df['age'], errors ='coerce').fillna(0).astype('int')\n",
        "df['num_dependents'] = pd.to_numeric(df['num_dependents'], errors ='coerce').fillna(0).astype('int')\n",
        "\n",
        "df"
      ]
    },
    {
      "cell_type": "markdown",
      "source": [],
      "metadata": {
        "id": "jCs33N2k8iVd"
      },
      "id": "jCs33N2k8iVd"
    },
    {
      "cell_type": "code",
      "source": [
        "df.columns"
      ],
      "metadata": {
        "id": "wljCC_8z_jL2",
        "colab": {
          "base_uri": "https://localhost:8080/"
        },
        "outputId": "7f69523e-cdc7-4bf7-cf27-eda1e8079fc0"
      },
      "id": "wljCC_8z_jL2",
      "execution_count": null,
      "outputs": [
        {
          "output_type": "execute_result",
          "data": {
            "text/plain": [
              "Index(['duration', 'credit_amount', 'installment_commitment',\n",
              "       'residence_since', 'age', 'existing_credits', 'num_dependents',\n",
              "       'foreign_worker', 'class', 'checking_status_0<=X<200',\n",
              "       'checking_status_<0', 'checking_status_>=200',\n",
              "       'checking_status_no checking', 'purpose_business',\n",
              "       'purpose_domestic appliance', 'purpose_education',\n",
              "       'purpose_furniture/equipment', 'purpose_new car', 'purpose_other',\n",
              "       'purpose_radio/tv', 'purpose_repairs', 'purpose_retraining',\n",
              "       'purpose_used car', 'credit_history_all paid',\n",
              "       'credit_history_critical/other existing credit',\n",
              "       'credit_history_delayed previously', 'credit_history_existing paid',\n",
              "       'credit_history_no credits/all paid', 'savings_status_100<=X<500',\n",
              "       'savings_status_500<=X<1000', 'savings_status_<100',\n",
              "       'savings_status_>=1000', 'savings_status_no known savings',\n",
              "       'employment_1<=X<4', 'employment_4<=X<7', 'employment_<1',\n",
              "       'employment_>=7', 'employment_unemployed', 'other_parties_co applicant',\n",
              "       'other_parties_guarantor', 'other_parties_none',\n",
              "       'property_magnitude_car', 'property_magnitude_life insurance',\n",
              "       'property_magnitude_no known property',\n",
              "       'property_magnitude_real estate', 'other_payment_plans_bank',\n",
              "       'other_payment_plans_none', 'other_payment_plans_stores',\n",
              "       'housing_for free', 'housing_own', 'housing_rent',\n",
              "       'job_high qualif/self emp/mgmt', 'job_skilled',\n",
              "       'job_unemp/unskilled non res', 'job_unskilled resident',\n",
              "       'own_telephone_none', 'own_telephone_yes'],\n",
              "      dtype='object')"
            ]
          },
          "metadata": {},
          "execution_count": 12
        }
      ]
    },
    {
      "cell_type": "markdown",
      "source": [
        "## Stage2c. Exploratory Data Analysis\n",
        "\n",
        "Once we have loaded the data and have it in a useable form, we now need to examine it, to build an intuition for the distributions, accuracy, missing values, imbalances and so on.\n",
        "\n",
        "One major bias, particularly when we are fitting a model to a relatively low probability event, such as a default, are imbalances in the data. By definition our target occurs less than half the time.\n",
        "\n",
        "#### Bias Alert: Imbalanced dataset\n",
        "\n",
        "Imbalances in datasets for classification problems are a big issue. We generally need to balance the dataset to contain an equal proportion of the different classes before training (and testing). For the credit use-case, we have two classes {1,0}, meaning that ideally 50% of our samples should be class=1; and 50% class=0. If this is not the case and we have an imbalance (we do), we can balance the data by up-sampling the minority class, or down-sampling the majority class.\n",
        "Let us first examine the dataset to determine whether it is in balance."
      ],
      "metadata": {
        "id": "BrwhvERWDe_N"
      },
      "id": "BrwhvERWDe_N"
    },
    {
      "cell_type": "markdown",
      "id": "1fd02130",
      "metadata": {
        "id": "1fd02130"
      },
      "source": []
    },
    {
      "cell_type": "code",
      "execution_count": null,
      "id": "9d772e1c",
      "metadata": {
        "id": "9d772e1c",
        "colab": {
          "base_uri": "https://localhost:8080/"
        },
        "outputId": "325bae33-992d-49a5-dc2e-f09146048022"
      },
      "outputs": [
        {
          "output_type": "stream",
          "name": "stdout",
          "text": [
            "Imbalanced dataset....\n",
            "0    700\n",
            "1    300\n",
            "Name: class, dtype: int64\n"
          ]
        },
        {
          "output_type": "display_data",
          "data": {
            "text/plain": [
              "<Figure size 432x288 with 1 Axes>"
            ],
            "image/png": "[encoded data removed]"
          },
          "metadata": {}
        }
      ],
      "source": [
        "\n",
        "#Pie chart of imbalances wrapped as a func as we will use it a few times..\n",
        "def pie_of_imbalance(df: pd.DataFrame, class_col: str = 'class'):\n",
        "    print('Imbalanced dataset....')\n",
        "    print(df[class_col].value_counts())\n",
        "    df.groupby(class_col).size().plot(kind='pie', y = 'class', label = \"Type\",  autopct='%1.1f%%')\n",
        "    \n",
        "#run func\n",
        "pie_of_imbalance(df)"
      ]
    },
    {
      "cell_type": "markdown",
      "id": "e0459bd5",
      "metadata": {
        "id": "e0459bd5"
      },
      "source": [
        "The dataset is not balanced. 70% of samples are class=0; only 30% are class=1. We should bring this into balance before we train our model, or risk introducing dangerous biases into our forecasts."
      ]
    },
    {
      "cell_type": "markdown",
      "source": [
        "# Stage4: Model Design \n",
        "\n",
        "Now we need to take what we have learned about the data, and find an appropriate model to achieve our KPIs."
      ],
      "metadata": {
        "id": "i9Vx9c_4sStE"
      },
      "id": "i9Vx9c_4sStE"
    },
    {
      "cell_type": "markdown",
      "source": [
        "## Stage 4a: Test the performance of different up, and down sampling approaches"
      ],
      "metadata": {
        "id": "c0ubSKhBH-pg"
      },
      "id": "c0ubSKhBH-pg"
    },
    {
      "cell_type": "markdown",
      "id": "e286323c",
      "metadata": {
        "id": "e286323c"
      },
      "source": [
        "Before we start up or down-sampling to correct the imbalance, we first we need to create our testing and training datasets. We can then balance the training set. This is to keep the training-set in-sample and the testing-set strictly out-of-sample. There is a risk of data leakage in this process we must consider and contriol for.\n",
        "\n",
        "#### Bias Alert: Data Leakage \n",
        "\n",
        "Separate training and testing datasets BEFORE balancing the dataset is crucial to avoid adta leakage. This is crucial as our learner must not see any of the test samples until we actually test it for performance. If we fail to separate testing and training data before up samplng, we can suffer data-snooping biases (also called data-leakage), which would invalidate our model."
      ]
    },
    {
      "cell_type": "code",
      "source": [
        "from sklearn.model_selection import train_test_split"
      ],
      "metadata": {
        "id": "eTjDqiD5f_j1"
      },
      "id": "eTjDqiD5f_j1",
      "execution_count": null,
      "outputs": []
    },
    {
      "cell_type": "code",
      "execution_count": null,
      "id": "f9517124",
      "metadata": {
        "id": "f9517124"
      },
      "outputs": [],
      "source": [
        "# Define X and y variables\n",
        "cols  = list(df.columns)\n",
        "cols.remove('class')\n",
        "\n",
        "# Contains only numerics\n",
        "X = df[cols]\n",
        "y = df['class']\n",
        "\n",
        "#Test and train set    \n",
        "X_train, X_test, y_train, y_test = train_test_split(X, y, test_size=0.3, random_state=None)"
      ]
    },
    {
      "cell_type": "markdown",
      "id": "d3f79ba0",
      "metadata": {
        "id": "d3f79ba0"
      },
      "source": [
        "### Stage Test up and down sampling approaches using a Random Forest Classifier\n",
        "We will use the RandomForest classifier to help us test different up and down sampling approaches to deal with the imbalanced dataset. We will be able to see the relative performance of each balancing approach on our problem.\n",
        "\n",
        "First let us run the classifier on the imbalanced data and examine the F1 score that results when we test the model. (It is a very poor result)."
      ]
    },
    {
      "cell_type": "markdown",
      "id": "c02db5bb",
      "metadata": {
        "id": "c02db5bb"
      },
      "source": [
        "Get the sklearn packages we will need for our clasification problem"
      ]
    },
    {
      "cell_type": "code",
      "execution_count": null,
      "id": "af12e96b",
      "metadata": {
        "id": "af12e96b"
      },
      "outputs": [],
      "source": [
        "import numpy as np\n",
        "\n",
        "from sklearn.preprocessing import StandardScaler\n",
        "\n",
        "# Classifiers\n",
        "from sklearn.ensemble import RandomForestClassifier\n",
        "\n",
        "# metrics...\n",
        "from sklearn.metrics import f1_score\n",
        "from sklearn.metrics import precision_score\n",
        "from sklearn.metrics import recall_score\n",
        "from sklearn.metrics import confusion_matrix"
      ]
    },
    {
      "cell_type": "markdown",
      "id": "c7484849",
      "metadata": {
        "id": "c7484849"
      },
      "source": [
        "We can wrap training for the Random Forest classifier, and the printing of performance metrics in a function, as we will be running this more than once."
      ]
    },
    {
      "cell_type": "code",
      "execution_count": null,
      "id": "c09b7144",
      "metadata": {
        "id": "c09b7144",
        "colab": {
          "base_uri": "https://localhost:8080/"
        },
        "outputId": "47cc7b5d-799a-4303-e4d7-3723e53305a7"
      },
      "outputs": [
        {
          "output_type": "stream",
          "name": "stdout",
          "text": [
            "<class 'sklearn.ensemble._forest.RandomForestClassifier'>\n",
            "Accuracy train: 0.7929, test:  0.7433\n",
            "Precision train: 0.7713, test:  0.7343\n",
            "Recall train: 1.0000, test:  0.9953\n",
            "F1 train: 0.4765, test:  0.2524\n"
          ]
        },
        {
          "output_type": "display_data",
          "data": {
            "text/plain": [
              "<Figure size 432x288 with 2 Axes>"
            ],
            "image/png": "[encoded data removed]"
          },
          "metadata": {
            "needs_background": "light"
          }
        },
        {
          "output_type": "stream",
          "name": "stderr",
          "text": [
            "/usr/local/lib/python3.7/dist-packages/sklearn/base.py:444: UserWarning: X has feature names, but RandomForestClassifier was fitted without feature names\n",
            "  f\"X has feature names, but {self.__class__.__name__} was fitted without\"\n"
          ]
        },
        {
          "output_type": "execute_result",
          "data": {
            "text/plain": [
              "array([[0.64302838, 0.35697162],\n",
              "       [0.62595972, 0.37404028],\n",
              "       [0.66568814, 0.33431186],\n",
              "       [0.64123856, 0.35876144],\n",
              "       [0.53248735, 0.46751265],\n",
              "       [0.46533022, 0.53466978],\n",
              "       [0.477797  , 0.522203  ],\n",
              "       [0.38500595, 0.61499405],\n",
              "       [0.40504446, 0.59495554],\n",
              "       [0.46572188, 0.53427812],\n",
              "       [0.71233208, 0.28766792],\n",
              "       [0.40849449, 0.59150551],\n",
              "       [0.50681274, 0.49318726],\n",
              "       [0.68937933, 0.31062067],\n",
              "       [0.40129608, 0.59870392],\n",
              "       [0.52074055, 0.47925945],\n",
              "       [0.40363083, 0.59636917],\n",
              "       [0.69563141, 0.30436859],\n",
              "       [0.64350948, 0.35649052],\n",
              "       [0.68159691, 0.31840309],\n",
              "       [0.46171039, 0.53828961],\n",
              "       [0.60988368, 0.39011632],\n",
              "       [0.4206524 , 0.5793476 ],\n",
              "       [0.65417852, 0.34582148],\n",
              "       [0.50771439, 0.49228561],\n",
              "       [0.42609652, 0.57390348],\n",
              "       [0.3684503 , 0.6315497 ],\n",
              "       [0.65575974, 0.34424026],\n",
              "       [0.43641178, 0.56358822],\n",
              "       [0.64122192, 0.35877808],\n",
              "       [0.6270614 , 0.3729386 ],\n",
              "       [0.40447271, 0.59552729],\n",
              "       [0.40021472, 0.59978528],\n",
              "       [0.46069648, 0.53930352],\n",
              "       [0.60007525, 0.39992475],\n",
              "       [0.4394221 , 0.5605779 ],\n",
              "       [0.64975685, 0.35024315],\n",
              "       [0.47137398, 0.52862602],\n",
              "       [0.44776274, 0.55223726],\n",
              "       [0.60581029, 0.39418971],\n",
              "       [0.39883037, 0.60116963],\n",
              "       [0.40397042, 0.59602958],\n",
              "       [0.62134255, 0.37865745],\n",
              "       [0.67911641, 0.32088359],\n",
              "       [0.40394853, 0.59605147],\n",
              "       [0.47609502, 0.52390498],\n",
              "       [0.48287904, 0.51712096],\n",
              "       [0.4526959 , 0.5473041 ],\n",
              "       [0.42381058, 0.57618942],\n",
              "       [0.47257843, 0.52742157],\n",
              "       [0.48351261, 0.51648739],\n",
              "       [0.62351599, 0.37648401],\n",
              "       [0.39943363, 0.60056637],\n",
              "       [0.43279527, 0.56720473],\n",
              "       [0.61724863, 0.38275137],\n",
              "       [0.60503598, 0.39496402],\n",
              "       [0.64968852, 0.35031148],\n",
              "       [0.60818414, 0.39181586],\n",
              "       [0.64123856, 0.35876144],\n",
              "       [0.35244968, 0.64755032],\n",
              "       [0.47412039, 0.52587961],\n",
              "       [0.51840725, 0.48159275],\n",
              "       [0.67571224, 0.32428776],\n",
              "       [0.47612831, 0.52387169],\n",
              "       [0.50197526, 0.49802474],\n",
              "       [0.45884727, 0.54115273],\n",
              "       [0.43939594, 0.56060406],\n",
              "       [0.47908873, 0.52091127],\n",
              "       [0.48825172, 0.51174828],\n",
              "       [0.60201823, 0.39798177],\n",
              "       [0.71066826, 0.28933174],\n",
              "       [0.67680193, 0.32319807],\n",
              "       [0.5182548 , 0.4817452 ],\n",
              "       [0.50957741, 0.49042259],\n",
              "       [0.39513251, 0.60486749],\n",
              "       [0.59714421, 0.40285579],\n",
              "       [0.66399634, 0.33600366],\n",
              "       [0.39511956, 0.60488044],\n",
              "       [0.52203057, 0.47796943],\n",
              "       [0.66593769, 0.33406231],\n",
              "       [0.44907461, 0.55092539],\n",
              "       [0.64815424, 0.35184576],\n",
              "       [0.41204715, 0.58795285],\n",
              "       [0.4726036 , 0.5273964 ],\n",
              "       [0.69336097, 0.30663903],\n",
              "       [0.38024176, 0.61975824],\n",
              "       [0.61053004, 0.38946996],\n",
              "       [0.62308188, 0.37691812],\n",
              "       [0.41387784, 0.58612216],\n",
              "       [0.45983568, 0.54016432],\n",
              "       [0.44193537, 0.55806463],\n",
              "       [0.49622749, 0.50377251],\n",
              "       [0.64215888, 0.35784112],\n",
              "       [0.62761314, 0.37238686],\n",
              "       [0.64080689, 0.35919311],\n",
              "       [0.51050576, 0.48949424],\n",
              "       [0.49973606, 0.50026394],\n",
              "       [0.62863441, 0.37136559],\n",
              "       [0.66869753, 0.33130247],\n",
              "       [0.48728449, 0.51271551],\n",
              "       [0.49670972, 0.50329028],\n",
              "       [0.4718908 , 0.5281092 ],\n",
              "       [0.48133697, 0.51866303],\n",
              "       [0.44716516, 0.55283484],\n",
              "       [0.48071001, 0.51928999],\n",
              "       [0.45377663, 0.54622337],\n",
              "       [0.4148617 , 0.5851383 ],\n",
              "       [0.62991102, 0.37008898],\n",
              "       [0.42541802, 0.57458198],\n",
              "       [0.39688487, 0.60311513],\n",
              "       [0.39600807, 0.60399193],\n",
              "       [0.47819934, 0.52180066],\n",
              "       [0.43433483, 0.56566517],\n",
              "       [0.37806824, 0.62193176],\n",
              "       [0.4770415 , 0.5229585 ],\n",
              "       [0.4392893 , 0.5607107 ],\n",
              "       [0.64531572, 0.35468428],\n",
              "       [0.45068726, 0.54931274],\n",
              "       [0.5410616 , 0.4589384 ],\n",
              "       [0.46446935, 0.53553065],\n",
              "       [0.44849922, 0.55150078],\n",
              "       [0.41389378, 0.58610622],\n",
              "       [0.4064293 , 0.5935707 ],\n",
              "       [0.4065763 , 0.5934237 ],\n",
              "       [0.64826562, 0.35173438],\n",
              "       [0.63216164, 0.36783836],\n",
              "       [0.52199822, 0.47800178],\n",
              "       [0.41681277, 0.58318723],\n",
              "       [0.68096889, 0.31903111],\n",
              "       [0.43255818, 0.56744182],\n",
              "       [0.45025812, 0.54974188],\n",
              "       [0.69953676, 0.30046324],\n",
              "       [0.66388235, 0.33611765],\n",
              "       [0.62465199, 0.37534801],\n",
              "       [0.48569823, 0.51430177],\n",
              "       [0.40552324, 0.59447676],\n",
              "       [0.6693677 , 0.3306323 ],\n",
              "       [0.60855938, 0.39144062],\n",
              "       [0.65122244, 0.34877756],\n",
              "       [0.42512465, 0.57487535],\n",
              "       [0.63216164, 0.36783836],\n",
              "       [0.41708854, 0.58291146],\n",
              "       [0.39567472, 0.60432528],\n",
              "       [0.483882  , 0.516118  ],\n",
              "       [0.48569823, 0.51430177],\n",
              "       [0.38331307, 0.61668693],\n",
              "       [0.4413203 , 0.5586797 ],\n",
              "       [0.66506581, 0.33493419],\n",
              "       [0.62838084, 0.37161916],\n",
              "       [0.39193661, 0.60806339],\n",
              "       [0.68114539, 0.31885461],\n",
              "       [0.67781432, 0.32218568],\n",
              "       [0.66671187, 0.33328813],\n",
              "       [0.64711671, 0.35288329],\n",
              "       [0.59826095, 0.40173905],\n",
              "       [0.67713983, 0.32286017],\n",
              "       [0.59652509, 0.40347491],\n",
              "       [0.48905661, 0.51094339],\n",
              "       [0.60874191, 0.39125809],\n",
              "       [0.50088257, 0.49911743],\n",
              "       [0.42541802, 0.57458198],\n",
              "       [0.66818942, 0.33181058],\n",
              "       [0.51367102, 0.48632898],\n",
              "       [0.62545065, 0.37454935],\n",
              "       [0.47402276, 0.52597724],\n",
              "       [0.41875578, 0.58124422],\n",
              "       [0.62337887, 0.37662113],\n",
              "       [0.61036906, 0.38963094],\n",
              "       [0.47721552, 0.52278448],\n",
              "       [0.52784721, 0.47215279],\n",
              "       [0.4664117 , 0.5335883 ],\n",
              "       [0.49291532, 0.50708468],\n",
              "       [0.40746662, 0.59253338],\n",
              "       [0.68665941, 0.31334059],\n",
              "       [0.61054877, 0.38945123],\n",
              "       [0.39791742, 0.60208258],\n",
              "       [0.36956333, 0.63043667],\n",
              "       [0.41120659, 0.58879341],\n",
              "       [0.40179973, 0.59820027],\n",
              "       [0.67070321, 0.32929679],\n",
              "       [0.46034032, 0.53965968],\n",
              "       [0.59705392, 0.40294608],\n",
              "       [0.44792045, 0.55207955],\n",
              "       [0.63949172, 0.36050828],\n",
              "       [0.57052397, 0.42947603],\n",
              "       [0.64079402, 0.35920598],\n",
              "       [0.53115238, 0.46884762],\n",
              "       [0.62112422, 0.37887578],\n",
              "       [0.48557163, 0.51442837],\n",
              "       [0.63317148, 0.36682852],\n",
              "       [0.59038638, 0.40961362],\n",
              "       [0.45721493, 0.54278507],\n",
              "       [0.37787352, 0.62212648],\n",
              "       [0.6595176 , 0.3404824 ],\n",
              "       [0.63724836, 0.36275164],\n",
              "       [0.38394069, 0.61605931],\n",
              "       [0.40331344, 0.59668656],\n",
              "       [0.6409303 , 0.3590697 ],\n",
              "       [0.37518957, 0.62481043],\n",
              "       [0.47874698, 0.52125302],\n",
              "       [0.53192351, 0.46807649],\n",
              "       [0.41681277, 0.58318723],\n",
              "       [0.66163133, 0.33836867],\n",
              "       [0.46450418, 0.53549582],\n",
              "       [0.47031599, 0.52968401],\n",
              "       [0.4320579 , 0.5679421 ],\n",
              "       [0.63532766, 0.36467234],\n",
              "       [0.52939698, 0.47060302],\n",
              "       [0.62802424, 0.37197576],\n",
              "       [0.42986414, 0.57013586],\n",
              "       [0.64119143, 0.35880857],\n",
              "       [0.64189696, 0.35810304],\n",
              "       [0.46025998, 0.53974002],\n",
              "       [0.42714129, 0.57285871],\n",
              "       [0.53099203, 0.46900797],\n",
              "       [0.49887243, 0.50112757],\n",
              "       [0.61247143, 0.38752857],\n",
              "       [0.42310096, 0.57689904],\n",
              "       [0.62982853, 0.37017147],\n",
              "       [0.6215005 , 0.3784995 ],\n",
              "       [0.64609993, 0.35390007],\n",
              "       [0.39119875, 0.60880125],\n",
              "       [0.54427617, 0.45572383],\n",
              "       [0.68252996, 0.31747004],\n",
              "       [0.42272455, 0.57727545],\n",
              "       [0.45065343, 0.54934657],\n",
              "       [0.43644863, 0.56355137],\n",
              "       [0.41050606, 0.58949394],\n",
              "       [0.42116014, 0.57883986],\n",
              "       [0.60131038, 0.39868962],\n",
              "       [0.49556527, 0.50443473],\n",
              "       [0.50294044, 0.49705956],\n",
              "       [0.40951104, 0.59048896],\n",
              "       [0.45817458, 0.54182542],\n",
              "       [0.40807996, 0.59192004],\n",
              "       [0.59393341, 0.40606659],\n",
              "       [0.42310096, 0.57689904],\n",
              "       [0.59473306, 0.40526694],\n",
              "       [0.65395145, 0.34604855],\n",
              "       [0.65520407, 0.34479593],\n",
              "       [0.42124235, 0.57875765],\n",
              "       [0.63403773, 0.36596227],\n",
              "       [0.70506438, 0.29493562],\n",
              "       [0.65915218, 0.34084782],\n",
              "       [0.4437846 , 0.5562154 ],\n",
              "       [0.69336097, 0.30663903],\n",
              "       [0.41711826, 0.58288174],\n",
              "       [0.46801408, 0.53198592],\n",
              "       [0.64143748, 0.35856252],\n",
              "       [0.37881626, 0.62118374],\n",
              "       [0.68485439, 0.31514561],\n",
              "       [0.39688487, 0.60311513],\n",
              "       [0.52192003, 0.47807997],\n",
              "       [0.44792045, 0.55207955],\n",
              "       [0.40976832, 0.59023168],\n",
              "       [0.48462744, 0.51537256],\n",
              "       [0.42541802, 0.57458198],\n",
              "       [0.44506532, 0.55493468],\n",
              "       [0.48569823, 0.51430177],\n",
              "       [0.61014817, 0.38985183],\n",
              "       [0.4148617 , 0.5851383 ],\n",
              "       [0.48825172, 0.51174828],\n",
              "       [0.4531958 , 0.5468042 ],\n",
              "       [0.35873591, 0.64126409],\n",
              "       [0.39270828, 0.60729172],\n",
              "       [0.37469368, 0.62530632],\n",
              "       [0.47545996, 0.52454004],\n",
              "       [0.65007417, 0.34992583],\n",
              "       [0.6421145 , 0.3578855 ],\n",
              "       [0.42227572, 0.57772428],\n",
              "       [0.64371082, 0.35628918],\n",
              "       [0.38683773, 0.61316227],\n",
              "       [0.58513797, 0.41486203],\n",
              "       [0.4101435 , 0.5898565 ],\n",
              "       [0.36429678, 0.63570322],\n",
              "       [0.35679302, 0.64320698],\n",
              "       [0.49670972, 0.50329028],\n",
              "       [0.6508062 , 0.3491938 ],\n",
              "       [0.61950497, 0.38049503],\n",
              "       [0.41430181, 0.58569819],\n",
              "       [0.37348784, 0.62651216],\n",
              "       [0.61472436, 0.38527564],\n",
              "       [0.4045355 , 0.5954645 ],\n",
              "       [0.63769031, 0.36230969],\n",
              "       [0.60988368, 0.39011632],\n",
              "       [0.46603321, 0.53396679],\n",
              "       [0.45482224, 0.54517776],\n",
              "       [0.62934842, 0.37065158],\n",
              "       [0.39581419, 0.60418581],\n",
              "       [0.60389938, 0.39610062],\n",
              "       [0.61993631, 0.38006369],\n",
              "       [0.71644437, 0.28355563],\n",
              "       [0.44389083, 0.55610917],\n",
              "       [0.65915218, 0.34084782],\n",
              "       [0.49440141, 0.50559859],\n",
              "       [0.47858211, 0.52141789],\n",
              "       [0.55451715, 0.44548285],\n",
              "       [0.43972661, 0.56027339],\n",
              "       [0.64952849, 0.35047151],\n",
              "       [0.40511606, 0.59488394]])"
            ]
          },
          "metadata": {},
          "execution_count": 17
        }
      ],
      "source": [
        "# Declare a function to wrap training of a classifier and printing of performance data\n",
        "def run_rf_classification_models(X_train: pd.DataFrame, X_test: pd.DataFrame, \n",
        "                            y_train: pd.DataFrame, y_test: pd.DataFrame) -> object:\n",
        "    \n",
        "    # Scale and transform the data for training\n",
        "    sclr = StandardScaler()\n",
        "    sclr.fit(X_train) # scale to 0 mean and std dev 1 on training data\n",
        "\n",
        "    X_train = sclr.fit_transform(X_train) # scale both sets:\n",
        "    X_test = sclr.fit_transform(X_test)\n",
        "\n",
        "    # classifier train\n",
        "    rf = RandomForestClassifier(max_depth=5,random_state=0)\n",
        "    rf.fit(X_train,y_train)\n",
        "    y_train_hat =rf.predict(X_train)\n",
        "    y_test_hat = rf.predict(X_test)\n",
        "\n",
        "    # Print score\n",
        "    print(type(rf))        \n",
        "    print(f\"Accuracy train: {rf.score(X_train,y_train):.4f}, test: \",\n",
        "      f\"{rf.score(X_test,y_test):.4f}\")\n",
        "    print(f\"Precision train: {precision_score(y_train, y_train_hat, average=None)[0]:.4f}, test: \",\n",
        "      f\"{precision_score(y_test,y_test_hat, average=None)[0]:.4f}\")\n",
        "    print(f\"Recall train: {recall_score(y_train, y_train_hat, average=None)[0]:.4f}, test: \",\n",
        "      f\"{recall_score(y_test,y_test_hat, average=None)[0]:.4f}\")\n",
        "    print(f\"F1 train: {f1_score(y_train, y_train_hat, average=None)[1]:.4f}, test: \",\n",
        "      f\"{f1_score(y_test,y_test_hat, average=None)[1]:.4f}\")\n",
        "    #print(f1_score(y_test, y_test_hat, average=None))\n",
        "\n",
        "\n",
        "    #Print confusion matrix...\n",
        "    cf_matrix = confusion_matrix(y_test, y_test_hat, labels=[0, 1]) \n",
        "    cf_matrix_norm = cf_matrix.astype('float') # / cf_matrix.sum(axis=1)[:, np.newaxis]\n",
        "\n",
        "    ax = sns.heatmap(cf_matrix_norm, annot=True, cmap='Blues', fmt='g')\n",
        "    ax.set_title('Confusion Matrix\\n\\n');\n",
        "    ax.set_xlabel('\\nPredicted Values')\n",
        "    ax.set_ylabel('Actual Values ');\n",
        "    plt.show()\n",
        "\n",
        "    return rf\n",
        "\n",
        "#run RF classifier function\n",
        "mod = run_rf_classification_models(X_train, X_test, y_train, y_test)\n",
        "mod.predict_proba(X_test)"
      ]
    },
    {
      "cell_type": "markdown",
      "id": "f8166fcf",
      "metadata": {
        "id": "f8166fcf"
      },
      "source": [
        "### 1) Upsampling using resampling"
      ]
    },
    {
      "cell_type": "markdown",
      "id": "a4ef22f5",
      "metadata": {
        "id": "a4ef22f5"
      },
      "source": [
        "First we test up-sampling using sklearn's resample, and examine how well it does using the RandomForest classifier. Resampling can up-sample by simply randomly selecting and copying existing observations of the minority class. We can balance the classes in this way."
      ]
    },
    {
      "cell_type": "code",
      "execution_count": null,
      "id": "739e0d7d",
      "metadata": {
        "id": "739e0d7d"
      },
      "outputs": [],
      "source": [
        "from sklearn.utils import resample\n",
        "\n",
        "#Split first to avoid data-snooping\n",
        "X_train, X_test, y_train, y_test = train_test_split(X, y, test_size=0.3, random_state=None)\n",
        "\n",
        "# Create up-sampled data set for minority class\n",
        "# note that n_samples= the number of samples the imbalance represents.\n",
        "X_upsampled, y_upsampled = resample(X_train[y_train == 1],\n",
        "                                        y_train[y_train == 1],\n",
        "                                        replace=True,\n",
        "                                        n_samples=(X_train[y_train == 0].shape[0]-X_train[y_train == 1].shape[0]),\n",
        "                                        random_state=None)\n",
        "\n",
        "#Combine train with upsampled\n",
        "X_upsampled = X_train.append(X_upsampled)\n",
        "y_upsampled = y_train.append(y_upsampled)"
      ]
    },
    {
      "cell_type": "markdown",
      "id": "fc1e5726",
      "metadata": {
        "id": "fc1e5726"
      },
      "source": [
        "Let us check everything is in balance now"
      ]
    },
    {
      "cell_type": "code",
      "execution_count": null,
      "id": "b8cb61d7",
      "metadata": {
        "id": "b8cb61d7",
        "colab": {
          "base_uri": "https://localhost:8080/"
        },
        "outputId": "01c03a76-b5cc-46c3-d900-fad3d86f4bd5"
      },
      "outputs": [
        {
          "output_type": "stream",
          "name": "stdout",
          "text": [
            "Imbalanced dataset....\n",
            "0    495\n",
            "1    495\n",
            "Name: class, dtype: int64\n"
          ]
        },
        {
          "output_type": "display_data",
          "data": {
            "text/plain": [
              "<Figure size 432x288 with 1 Axes>"
            ],
            "image/png": "[encoded data removed]"
          },
          "metadata": {}
        }
      ],
      "source": [
        "#get pie of the current imbalance\n",
        "temp = pd.concat([X_upsampled, y_upsampled], axis=1)\n",
        "pie_of_imbalance(temp)"
      ]
    },
    {
      "cell_type": "markdown",
      "id": "53dea8e1",
      "metadata": {
        "id": "53dea8e1"
      },
      "source": [
        "Dataset is perfectly in balance..."
      ]
    },
    {
      "cell_type": "code",
      "execution_count": null,
      "id": "5caebbb0",
      "metadata": {
        "id": "5caebbb0",
        "colab": {
          "base_uri": "https://localhost:8080/"
        },
        "outputId": "b1c9bdb2-87bc-4a7b-ac4c-93c68b34950f"
      },
      "outputs": [
        {
          "output_type": "stream",
          "name": "stdout",
          "text": [
            "<class 'sklearn.ensemble._forest.RandomForestClassifier'>\n",
            "Accuracy train: 0.8283, test:  0.7300\n",
            "Precision train: 0.8702, test:  0.8690\n",
            "Recall train: 0.7717, test:  0.7122\n",
            "F1 train: 0.8375, test:  0.6432\n"
          ]
        },
        {
          "output_type": "display_data",
          "data": {
            "text/plain": [
              "<Figure size 432x288 with 2 Axes>"
            ],
            "image/png": "[encoded data removed]"
          },
          "metadata": {
            "needs_background": "light"
          }
        }
      ],
      "source": [
        "#Run our function....\n",
        "model = run_rf_classification_models(X_upsampled, X_test, y_upsampled, y_test)"
      ]
    },
    {
      "cell_type": "markdown",
      "id": "1b4afcc1",
      "metadata": {
        "id": "1b4afcc1"
      },
      "source": [
        "The F1 score on the test data has increased markedly."
      ]
    },
    {
      "cell_type": "markdown",
      "id": "e98b384e",
      "metadata": {
        "id": "e98b384e"
      },
      "source": [
        "### 2) Up-sampling using a synthetic over sampling approach called SMOTE"
      ]
    },
    {
      "cell_type": "markdown",
      "id": "235505f6",
      "metadata": {
        "id": "235505f6"
      },
      "source": [
        "Add the libraries we will need... and generate the synthetic data to balance our classes using SMOTE."
      ]
    },
    {
      "cell_type": "code",
      "execution_count": null,
      "id": "5dadf40d",
      "metadata": {
        "id": "5dadf40d"
      },
      "outputs": [],
      "source": [
        "from imblearn.over_sampling import SMOTE\n",
        "\n",
        "#How many samples do we need to balance?\n",
        "idx = np.random.choice(X_train.shape[0], size=X_train[y_train == 0].shape[0]-X_train[y_train == 1].shape[0], replace=False)\n",
        "\n",
        "# Generate SMOTE samples and use this to train\n",
        "upsampler_smote = SMOTE()\n",
        "X_upsampled_smote, y_upsampled_smote = upsampler_smote.fit_resample(X=X_train, y=y_train)"
      ]
    },
    {
      "cell_type": "markdown",
      "id": "4a14d264",
      "metadata": {
        "id": "4a14d264"
      },
      "source": [
        "Before we use the up-sampled dataset to train our classifier, let us first examine the distribution of the synthetic datapoints that SMOTE creates"
      ]
    },
    {
      "cell_type": "code",
      "execution_count": null,
      "id": "4ff54d69",
      "metadata": {
        "id": "4ff54d69",
        "colab": {
          "base_uri": "https://localhost:8080/"
        },
        "outputId": "264ddff7-f8d1-4581-cbd0-5d588410ae5f"
      },
      "outputs": [
        {
          "output_type": "display_data",
          "data": {
            "text/plain": [
              "<Figure size 720x504 with 1 Axes>"
            ],
            "image/png": "[encoded data removed]"
          },
          "metadata": {
            "needs_background": "light"
          }
        }
      ],
      "source": [
        "from matplotlib import pyplot as plt\n",
        "from mpl_toolkits.mplot3d import Axes3D\n",
        "\n",
        "\n",
        "fig = plt.figure(figsize=(10, 7)) \n",
        "ax = fig.add_subplot(111, projection='3d')\n",
        "\n",
        "ax.scatter(X_train['credit_amount'],X_train['age'], X_train['duration'], marker=\"o\", s=10, c='blue', label='Real datapoints')\n",
        "ax.scatter(X_upsampled_smote['credit_amount'],X_upsampled_smote['age'], X_upsampled_smote['duration'], marker=\"+\", s=50, c='red', label='SMOTE datapoints')\n",
        "\n",
        "# set axes range\n",
        "plt.xlim(-500, 11000)\n",
        "plt.ylim(0, 60)\n",
        "\n",
        "ax.set_xlabel('credit_amount')\n",
        "ax.set_ylabel('age')\n",
        "ax.set_zlabel('duration')\n",
        "\n",
        "plt.title('How SMOTE Samples are Distributed vs Real Data Points')\n",
        "plt.legend(loc=1,framealpha=1, fontsize=8)\n",
        "plt.show()"
      ]
    },
    {
      "cell_type": "markdown",
      "id": "a875103b",
      "metadata": {
        "id": "a875103b"
      },
      "source": [
        "The synthetic datapoints look realistic at a glance."
      ]
    },
    {
      "cell_type": "code",
      "execution_count": null,
      "id": "c031433f",
      "metadata": {
        "id": "c031433f",
        "colab": {
          "base_uri": "https://localhost:8080/"
        },
        "outputId": "abea6de4-9ba4-41c9-80e6-2a135eced1cf"
      },
      "outputs": [
        {
          "output_type": "stream",
          "name": "stdout",
          "text": [
            "Imbalanced dataset....\n",
            "0    495\n",
            "1    495\n",
            "Name: class, dtype: int64\n"
          ]
        },
        {
          "output_type": "display_data",
          "data": {
            "text/plain": [
              "<Figure size 432x288 with 1 Axes>"
            ],
            "image/png": "[encoded data removed]"
          },
          "metadata": {}
        }
      ],
      "source": [
        "#get pie of the current imbalance\n",
        "temp = pd.concat([X_upsampled_smote, y_upsampled_smote], axis=1)\n",
        "pie_of_imbalance(temp)"
      ]
    },
    {
      "cell_type": "markdown",
      "id": "89d8fdc6",
      "metadata": {
        "id": "89d8fdc6"
      },
      "source": [
        "After up-sampling using SMOTE's synthetic data, the dataset is perfectly in balance... however we have a Fairness problem. Can you spot what it is?"
      ]
    },
    {
      "cell_type": "code",
      "execution_count": null,
      "id": "750a6983",
      "metadata": {
        "id": "750a6983",
        "colab": {
          "base_uri": "https://localhost:8080/"
        },
        "outputId": "87df99b6-eb85-4726-f4cb-59a1f0f74275"
      },
      "outputs": [
        {
          "output_type": "stream",
          "name": "stdout",
          "text": [
            "<class 'sklearn.ensemble._forest.RandomForestClassifier'>\n",
            "Accuracy train: 0.8556, test:  0.7400\n",
            "Precision train: 0.8777, test:  0.8256\n",
            "Recall train: 0.8263, test:  0.7854\n",
            "F1 train: 0.8597, test:  0.6100\n"
          ]
        },
        {
          "output_type": "display_data",
          "data": {
            "text/plain": [
              "<Figure size 432x288 with 2 Axes>"
            ],
            "image/png": "[encoded data removed]"
          },
          "metadata": {
            "needs_background": "light"
          }
        }
      ],
      "source": [
        "#Run our function....\n",
        "model = run_rf_classification_models(X_upsampled_smote, X_test, y_upsampled_smote, y_test)"
      ]
    },
    {
      "cell_type": "markdown",
      "id": "30066c4b",
      "metadata": {
        "id": "30066c4b"
      },
      "source": [
        "#### Synthetic Data's Fairness Banana Skin - Data Leakage of protected characteristics\n",
        "\n",
        "Remember that we had two distinct groups we need to ensure fairness for, females and males? We just: generated synthetic data based off the entire dataset though - using both male and female samples - and in doing so we polluted the new rows we created with both male and female data characteristics. \n",
        "We therefore need to generate synthetic data for male rows and THEN generate synthetic data for female rows avoiding data leakage of protected characteristics."
      ]
    },
    {
      "cell_type": "code",
      "source": [
        "\n",
        "from imblearn.over_sampling import SMOTE\n",
        "\n",
        "# Generate SMOTE samples and use this to train... do for each protected class \n",
        "# separately and THEN combine.\n",
        "upsampler_smote = SMOTE()\n",
        "\n",
        "\n",
        "#** First add back the gender column as after the train_test_split we want to know which row is which.\n",
        "#\n",
        "X_gender = pd.concat([X, df_raw['gender']], axis=1)\n",
        "y_gender = pd.concat([y, df_raw['gender']], axis=1)\n",
        "\n",
        "#Split first to avoid data-snooping\n",
        "X_train, X_test, y_train, y_test = train_test_split(X_gender, y_gender, test_size=0.3, random_state=None)\n",
        "\n",
        "# GENDER: FIRST we generate synthetic samples for females, where all these synthetic \n",
        "# samples will be exclusively generated from female instances.\n",
        "X_train_female = X_train[(X_train['gender'] == 'female')]\n",
        "X_train_female = X_train_female.drop('gender', axis=1)\n",
        "#\n",
        "y_train_female = y_train[(y_train['gender'] == 'female')]\n",
        "y_train_female = y_train_female.drop('gender', axis=1)\n",
        "\n",
        "X_upsampled_smote_female, y_upsampled_smote_female = upsampler_smote.fit_resample(X=X_train_female, y=y_train_female)\n",
        "\n",
        "#GENDER: SECOND males...where all these synethic \n",
        "# samples will be exclusively generaqted from male instances.\n",
        "X_train_male = X_train[(X_train['gender'] == 'male')]\n",
        "X_train_male = X_train_male.drop('gender', axis=1)\n",
        "#\n",
        "y_train_male = y_train[(y_train['gender'] == 'male')]\n",
        "y_train_male = y_train_male.drop('gender', axis=1)\n",
        "\n",
        "X_upsampled_smote_male, y_upsampled_smote_male = upsampler_smote.fit_resample(X=X_train_male, y=y_train_male)\n",
        "\n",
        "#** Now remove the gender column...\n",
        "X_train = X_train.drop('gender', axis=1)\n",
        "y_train = y_train.drop('gender', axis=1)\n",
        "\n",
        "# Combine male and female training data, including the SMOTE data\n",
        "X_upsampled_smote = pd.concat([X_upsampled_smote_female, X_upsampled_smote_male], axis=0) # Note the axis is set to zero, so we are adding rows the bottom of the df\n",
        "y_upsampled_smote = pd.concat([y_upsampled_smote_female, y_upsampled_smote_male], axis=0)"
      ],
      "metadata": {
        "id": "TTAnktvT73Ql"
      },
      "id": "TTAnktvT73Ql",
      "execution_count": null,
      "outputs": []
    },
    {
      "cell_type": "markdown",
      "source": [
        "Combine the male and female upsampled data..."
      ],
      "metadata": {
        "id": "ByQ3478C7nXx"
      },
      "id": "ByQ3478C7nXx"
    },
    {
      "cell_type": "code",
      "source": [
        "X_upsampled_smote = X_upsampled_smote_female + X_upsampled_smote_male\n",
        "y_upsampled_smote = y_upsampled_smote_female + y_upsampled_smote_male"
      ],
      "metadata": {
        "id": "vNHwc1QP7wCb"
      },
      "id": "vNHwc1QP7wCb",
      "execution_count": null,
      "outputs": []
    },
    {
      "cell_type": "code",
      "source": [
        "#get pie of the current imbalance\n",
        "temp = pd.concat([X_upsampled_smote, y_upsampled_smote], axis=1)\n",
        "pie_of_imbalance(temp)"
      ],
      "metadata": {
        "colab": {
          "base_uri": "https://localhost:8080/"
        },
        "id": "GuXSRiAd7n95",
        "outputId": "1b448177-60ce-4d6d-ec30-492d0686228d"
      },
      "id": "GuXSRiAd7n95",
      "execution_count": null,
      "outputs": [
        {
          "output_type": "stream",
          "name": "stdout",
          "text": [
            "Imbalanced dataset....\n",
            "1.0    125\n",
            "0.0    111\n",
            "2.0     46\n",
            "Name: class, dtype: int64\n"
          ]
        },
        {
          "output_type": "display_data",
          "data": {
            "text/plain": [
              "<Figure size 432x288 with 1 Axes>"
            ],
            "image/png": "[encoded data removed]"
          },
          "metadata": {}
        }
      ]
    },
    {
      "cell_type": "markdown",
      "source": [
        "### 3) Down-sampling - Removing rows to balance the classes"
      ],
      "metadata": {
        "id": "kHUCz-3ksp6r"
      },
      "id": "kHUCz-3ksp6r"
    },
    {
      "cell_type": "markdown",
      "id": "0a94d7e4",
      "metadata": {
        "id": "0a94d7e4"
      },
      "source": [
        "Now we can test down-sampling, which is simply removing samples from the majority class. "
      ]
    },
    {
      "cell_type": "code",
      "execution_count": null,
      "id": "8dbc9854",
      "metadata": {
        "id": "8dbc9854"
      },
      "outputs": [],
      "source": [
        "from imblearn.under_sampling import RandomUnderSampler \n",
        "\n",
        "#Split first to avoid data-snooping\n",
        "X_train, X_test, y_train, y_test = train_test_split(X, y, test_size=0.3, random_state=None)\n",
        "\n",
        "# Randomly downsample rows in the majority class\n",
        "rus = RandomUnderSampler(random_state=42)\n",
        "X_downsampled, y_downsampled = rus.fit_resample(X_train, y_train)"
      ]
    },
    {
      "cell_type": "code",
      "source": [],
      "metadata": {
        "id": "dk5pDaJUsO1k"
      },
      "id": "dk5pDaJUsO1k",
      "execution_count": null,
      "outputs": []
    },
    {
      "cell_type": "code",
      "execution_count": null,
      "id": "c0beacf7",
      "metadata": {
        "colab": {
          "base_uri": "https://localhost:8080/",
          "height": 322
        },
        "id": "c0beacf7",
        "outputId": "7c211fda-e379-4312-d7ff-4791a9526f1c"
      },
      "outputs": [
        {
          "output_type": "stream",
          "name": "stdout",
          "text": [
            "Imbalanced dataset....\n",
            "0    203\n",
            "1    203\n",
            "Name: class, dtype: int64\n"
          ]
        },
        {
          "output_type": "display_data",
          "data": {
            "text/plain": [
              "<Figure size 432x288 with 1 Axes>"
            ],
            "image/png": "[encoded data removed]"
          },
          "metadata": {}
        }
      ],
      "source": [
        "#get pie of the current imbalance\n",
        "temp = pd.concat([X_downsampled, y_downsampled], axis=1)\n",
        "pie_of_imbalance(temp)"
      ]
    },
    {
      "cell_type": "code",
      "execution_count": null,
      "id": "d6de0276",
      "metadata": {
        "colab": {
          "base_uri": "https://localhost:8080/",
          "height": 429
        },
        "id": "d6de0276",
        "outputId": "72ff9d07-cdca-4638-a04e-ce48e0d423b7"
      },
      "outputs": [
        {
          "output_type": "stream",
          "name": "stdout",
          "text": [
            "<class 'sklearn.ensemble._forest.RandomForestClassifier'>\n",
            "Accuracy train: 0.8719, test:  0.6667\n",
            "Precision train: 0.8995, test:  0.8084\n",
            "Recall train: 0.8374, test:  0.6650\n",
            "F1 train: 0.8762, test:  0.5652\n"
          ]
        },
        {
          "output_type": "display_data",
          "data": {
            "text/plain": [
              "<Figure size 432x288 with 2 Axes>"
            ],
            "image/png": "[encoded data removed]"
          },
          "metadata": {
            "needs_background": "light"
          }
        }
      ],
      "source": [
        "#Run our function....\n",
        "model = run_rf_classification_models(X_downsampled, X_test, y_downsampled, y_test)"
      ]
    },
    {
      "cell_type": "markdown",
      "id": "5e6ea491",
      "metadata": {
        "id": "5e6ea491"
      },
      "source": [
        "As we can see, all up and down sampling approaches have outperformed the F1 Score on the imbalanced data. The most impressive performance in this case is from up-sampling using SMOTE synthetic data."
      ]
    },
    {
      "cell_type": "markdown",
      "source": [
        "Plot the accuracy of our model for all rows in the data set, plotting accuracy for our protected classes: by male and female credits."
      ],
      "metadata": {
        "id": "kTeGqjnupzwu"
      },
      "id": "kTeGqjnupzwu"
    },
    {
      "cell_type": "markdown",
      "source": [
        "Separate the data into train and test"
      ],
      "metadata": {
        "id": "qZmUmRp52Gv_"
      },
      "id": "qZmUmRp52Gv_"
    },
    {
      "cell_type": "code",
      "source": [
        "# Define X and y variables from scratch\n",
        "cols  = list(df.columns)\n",
        "cols.remove('class')\n",
        "\n",
        "# Contains only numerics\n",
        "X = df[cols]\n",
        "y = df['class']\n",
        "\n",
        "# Add binary variable where male=1, female=0\n",
        "X['gender'] = np.where(df_raw['gender'] == 'female', 1, 0)\n",
        "\n",
        "#Test and train set    \n",
        "X_train, X_test, y_train, y_test = train_test_split(X, y, test_size=0.3, random_state=None)"
      ],
      "metadata": {
        "id": "6HMicv_41B2H"
      },
      "id": "6HMicv_41B2H",
      "execution_count": null,
      "outputs": []
    },
    {
      "cell_type": "markdown",
      "source": [
        "Train our classifier using the SMOTE upsampling"
      ],
      "metadata": {
        "id": "fE4QnGAd2K5F"
      },
      "id": "fE4QnGAd2K5F"
    },
    {
      "cell_type": "code",
      "source": [
        "#How many samples do we need to balance?\n",
        "idx = np.random.choice(X_train.shape[0], size=X_train[y_train == 0].shape[0]-X_train[y_train == 1].shape[0], replace=False)\n",
        "\n",
        "# Generate SMOTE samples and use this to train\n",
        "upsampler_smote = SMOTE()\n",
        "X_upsampled_smote, y_upsampled_smote = upsampler_smote.fit_resample(X_train, y_train)"
      ],
      "metadata": {
        "id": "wWUdyVsZ2E3f"
      },
      "id": "wWUdyVsZ2E3f",
      "execution_count": null,
      "outputs": []
    },
    {
      "cell_type": "markdown",
      "source": [
        "Train the classifier"
      ],
      "metadata": {
        "id": "IG1AZwuL2sgd"
      },
      "id": "IG1AZwuL2sgd"
    },
    {
      "cell_type": "code",
      "source": [
        "#Remove the gender column\n",
        "X_upsampled_smote_exgender = X_upsampled_smote.drop('gender', axis=1)\n",
        "X_test_exgender = X_test.drop('gender', axis=1)\n",
        "\n",
        "#Run our function....\n",
        "model = run_rf_classification_models(X_upsampled_smote_exgender, X_test_exgender, y_upsampled_smote, y_test)"
      ],
      "metadata": {
        "colab": {
          "base_uri": "https://localhost:8080/",
          "height": 429
        },
        "id": "85dGw5XU2rwV",
        "outputId": "1a7c85bc-eb71-4176-ddcc-b4f731df9d37"
      },
      "id": "85dGw5XU2rwV",
      "execution_count": null,
      "outputs": [
        {
          "output_type": "stream",
          "name": "stdout",
          "text": [
            "<class 'sklearn.ensemble._forest.RandomForestClassifier'>\n",
            "Accuracy train: 0.8648, test:  0.7167\n",
            "Precision train: 0.8693, test:  0.8191\n",
            "Recall train: 0.8586, test:  0.7689\n",
            "F1 train: 0.8656, test:  0.5503\n"
          ]
        },
        {
          "output_type": "display_data",
          "data": {
            "text/plain": [
              "<Figure size 432x288 with 2 Axes>"
            ],
            "image/png": "[encoded data removed]"
          },
          "metadata": {
            "needs_background": "light"
          }
        }
      ]
    },
    {
      "cell_type": "markdown",
      "id": "66bfe3c2",
      "metadata": {
        "id": "66bfe3c2"
      },
      "source": [
        "## Stage 4b: Model Selection\n",
        "\n",
        "\n",
        "Next we need to select the type of classifier we are going to use to model our problem and separate good from bad credits. We could just make a heuristic selection, but we are likely to be biased in making this selection. \n",
        "\n",
        "#### Bias Alert: Availability Heuristic\n",
        "For instance,  is our quant team overpopulated by linear regression experts? Do we have a greater level of familiarity for Random Forest classifiers?\n",
        "\n",
        "One way of dealing with this is to use of develop a model selection approach. We can test the problem, using many different classsifiers and assess the performance of exach based on our KPIs. However, we must be careful as even this more exhaustive approach is also open to biases. For instance if we are selection models based on p-values, we would suffer from multiplicity bias where testing multiple approaches would exaggerate the significance of a success. \n",
        "\n",
        "#### Bias Alert: Multiplicity bias\n",
        "\n",
        "To control for this we would use a measure such as F1-score, and we would test this on test samples not used for training.\n",
        "\n",
        "#### Bias Alert: Inductive bias\n",
        "\n",
        "Even in the case where we select the most appropriate model, we may still be exposed to inductive biases. Each learner has a specific way that will approximate the function we are attempting to approximate, in this cadse the function of credit quality based on the characteristics of borrowers. Decision Trees, for instance, have inductive biases associated with greedy separation, whereas Random Forests (RF) mitigate this bias by using many randomized decision trees, but in turn introduce (lesser) inductive biases associated with the way an RF's underlying decision trees are contructed. One mitigant is to ensemble different learners, using a soft-max function or a voting approach. For voting based ensembling we would simply run a number of classifiers, take the majority answer: good/bad credit. (Note that we have included \n"
      ]
    },
    {
      "cell_type": "code",
      "source": [
        "#Test and train set    \n",
        "X_train_cv, X_cv, y_train_cv, y_cv = train_test_split(X_train, y_train, test_size=0.3, random_state=None)"
      ],
      "metadata": {
        "id": "tUbobdmKR9Or"
      },
      "id": "tUbobdmKR9Or",
      "execution_count": null,
      "outputs": []
    },
    {
      "cell_type": "markdown",
      "source": [
        "Sklean provides many different classifeirs and we will be testing each accuracy on our problem."
      ],
      "metadata": {
        "id": "5SUdXN-jhrza"
      },
      "id": "5SUdXN-jhrza"
    },
    {
      "cell_type": "code",
      "source": [
        "from sklearn.preprocessing import StandardScaler\n",
        "\n",
        "# Classsifiers from sklearn\n",
        "from sklearn.linear_model import LogisticRegression \n",
        "from sklearn.naive_bayes import GaussianNB\n",
        "from sklearn.neural_network import MLPClassifier \n",
        "from sklearn.ensemble import RandomForestClassifier, AdaBoostClassifier, GradientBoostingClassifier\n",
        "from sklearn.tree import DecisionTreeClassifier\n",
        "from sklearn.discriminant_analysis import LinearDiscriminantAnalysis\n",
        "from sklearn.discriminant_analysis import QuadraticDiscriminantAnalysis\n",
        "from sklearn.svm import SVC, LinearSVC, NuSVC\n",
        "\n",
        "# Performance metrics...\n",
        "from sklearn.metrics import f1_score\n",
        "from sklearn.metrics import precision_score\n",
        "from sklearn.metrics import recall_score"
      ],
      "metadata": {
        "id": "G3Dro5K_QkgZ"
      },
      "id": "G3Dro5K_QkgZ",
      "execution_count": null,
      "outputs": []
    },
    {
      "cell_type": "markdown",
      "source": [
        "Now build a function that trains a number of different classifiers and the one with the best accuracy on the cross-validation data, we will select as the \"best\"."
      ],
      "metadata": {
        "id": "JElvKh2qh75k"
      },
      "id": "JElvKh2qh75k"
    },
    {
      "cell_type": "code",
      "source": [
        "\n",
        "\n",
        "# Func to wrap up running these selected classification learners...\n",
        "# NOTE: to test the performance of the learners out-of-sample, we should use a cross-validation dataset\n",
        "# this is a hold back dataset and we will use our testing data to do this, in this case. \n",
        "def auto_classifier_selection(X_train: pd.DataFrame, \n",
        "                            X_cross_validation: pd.DataFrame, \n",
        "                            y_train: pd.DataFrame, \n",
        "                            y_cross_validation: pd.DataFrame) -> (list, list, list):\n",
        "    \n",
        "    #Balance training data....\n",
        "    # Generate SMOTE samples and use this to train\n",
        "    upsampler_smote = SMOTE()\n",
        "    X_upsampled_smote, y_upsampled_smote = upsampler_smote.fit_resample(X_train, y_train)\n",
        "\n",
        "    sclr = StandardScaler()\n",
        "    sclr.fit(X_train) # scale to 0 mean and std dev 1 on training data\n",
        "\n",
        "    X_train = sclr.fit_transform(X_upsampled_smote) # scale both sets:\n",
        "    X_cross_validation = sclr.fit_transform(X_cross_validation)\n",
        "    \n",
        "    # These are the classifiers we will select from...\n",
        "    dtc = DecisionTreeClassifier(max_depth=5) #If we allow endless depth we overfit\n",
        "    gnb = GaussianNB()\n",
        "    lr = LogisticRegression(max_iter=2000,random_state=0)\n",
        "    mlp = MLPClassifier(max_iter=2000,random_state=1, early_stopping=True) # MLP will tend to overfit unless we stop early   \n",
        "    rf = RandomForestClassifier(max_depth=3,random_state=0) # << artibitrary parameters, consider hyper parameter tuning.\n",
        "    lda = LinearDiscriminantAnalysis()\n",
        "    qda = QuadraticDiscriminantAnalysis()\n",
        "    ada = AdaBoostClassifier()\n",
        "    gbc = GradientBoostingClassifier()\n",
        "    knn = KNeighborsClassifier(3) # << artibitrary parameters, consider hyper parameter tuning.\n",
        "    svc = SVC(kernel=\"rbf\", C=0.025, probability=True) # << artibitrary parameters, consider hyper parameter tuning.\n",
        "    nscv = NuSVC(probability=True)\n",
        "    \n",
        "    all_mdls = [dtc, gnb, lr, mlp, rf, lda, qda, ada, gbc, knn, svc, nsvc]\n",
        "    all_mdls_desc = ['dtc', 'gnb', 'lr', 'mlp', 'rf', 'lda', 'qda', 'ada', 'gbc', 'knn', 'svc', 'nsvc']\n",
        "    \n",
        "    # Loop through each classifer and record the \"best\"...\n",
        "    max_f1 = 0\n",
        "    for mdl in all_mdls:\n",
        "        #Fit model\n",
        "        mdl.fit(X_upsampled_smote,y_upsampled_smote)\n",
        "        y_train_hat = mdl.predict(X_upsampled_smote)\n",
        "        y_cross_validation_hat = mdl.predict(X_cross_validation)       \n",
        "        mdl.predict_proba(X_cross_validation)\n",
        "\n",
        "        # Output model selection information....\n",
        "        print(mdl)\n",
        "        print(f\"F1 train: {f1_score(y_upsampled_smote, y_train_hat, average=None)[1]:.4f}, cross-valitaion: \",\n",
        "        f\"{f1_score(y_cross_validation,y_cross_validation_hat, average=None)[1]:.4f}\")\n",
        "        \n",
        "        #F1...\n",
        "        this_f1 = f1_score(y_upsampled_smote,y_train_hat, average=None)[1]\n",
        "        if this_f1 > max_f1:\n",
        "            max_f1 = this_f1\n",
        "            max_mdl = mdl\n",
        "        \n",
        "    # The best....\n",
        "    #Fit...\n",
        "    max_mdl.fit(X_upsampled_smote,y_upsampled_smote)\n",
        "    y_train_hat = max_mdl.predict(X_upsampled_smote)\n",
        "    y_cross_validation_hat = max_mdl.predict(X_cross_validation)\n",
        "    \n",
        "    #    Print score\n",
        "    print('\\nWinner\\n', type(max_mdl))        \n",
        "    print(f\"Accuracy train: {max_mdl.score(X_train,y_upsampled_smote):.4f}, cross-validation: \",\n",
        "      f\"{max_mdl.score(X_cross_validation,y_cross_validation):.4f}\")\n",
        "    print(f\"Precision train: {precision_score(y_upsampled_smote, y_train_hat, average=None)[0]:.4f}, cross-validation: \",\n",
        "      f\"{precision_score(y_cross_validation,y_cross_validation_hat, average=None)[0]:.4f}\")\n",
        "    print(f\"Recall train: {recall_score(y_upsampled_smote, y_train_hat, average=None)[0]:.4f}, cross-validation: \",\n",
        "      f\"{recall_score(y_cross_validation,y_cross_validation_hat, average=None)[0]:.4f}\")\n",
        "    print(f\"F1 train: {f1_score(y_upsampled_smote, y_train_hat, average=None)[1]:.4f}, cross-validation: \",\n",
        "      f\"{f1_score(y_cross_validation,y_cross_validation_hat, average=None)[1]:.4f}\")\n",
        "        \n",
        "    #Print confusion matrix...\n",
        "    cf_matrix = confusion_matrix(y_cross_validation, y_cross_validation_hat, labels=[0, 1]) \n",
        "    cf_matrix_norm = cf_matrix.astype('float')\n",
        "\n",
        "    ax = sns.heatmap(cf_matrix_norm, annot=True, cmap='Blues', fmt='g')\n",
        "    ax.set_title('Confusion Matrix\\n\\n');\n",
        "    ax.set_xlabel('\\nPredicted Values')\n",
        "    ax.set_ylabel('Actual Values ');\n",
        "    plt.show()\n",
        "    \n",
        "    return max_mdl, all_mdls, all_mdls_desc\n",
        "\n",
        "# Run our function....autoselect the best classifier wrt F1\n",
        "max_mdl, all_models = auto_classifier_selection(X_train_cv, X_cv, y_train_cv, y_cv)\n",
        "\n",
        "# Predict\n",
        "y_test_hat = max_mdl.predict(X_test)"
      ],
      "metadata": {
        "colab": {
          "base_uri": "https://localhost:8080/",
          "height": 595
        },
        "id": "cyji4ydlQTVZ",
        "outputId": "610c6d9f-808c-4305-86a2-80323344c970"
      },
      "id": "cyji4ydlQTVZ",
      "execution_count": null,
      "outputs": [
        {
          "output_type": "stream",
          "name": "stderr",
          "text": [
            "X does not have valid feature names, but LinearDiscriminantAnalysis was fitted with feature names\n",
            "X does not have valid feature names, but LinearDiscriminantAnalysis was fitted with feature names\n",
            "X does not have valid feature names, but LinearDiscriminantAnalysis was fitted with feature names\n",
            "X does not have valid feature names, but LinearDiscriminantAnalysis was fitted with feature names\n",
            "X does not have valid feature names, but LinearDiscriminantAnalysis was fitted with feature names\n"
          ]
        },
        {
          "output_type": "stream",
          "name": "stdout",
          "text": [
            "LinearDiscriminantAnalysis()\n",
            "F1 train: 0.8536, cross-valitaion:  0.4779\n",
            "\n",
            "Winner\n",
            " <class 'sklearn.discriminant_analysis.LinearDiscriminantAnalysis'>\n",
            "Accuracy train: 0.7794, cross-validation:  0.4381\n",
            "Precision train: 0.8302, cross-validation:  0.8261\n",
            "Recall train: 0.9059, cross-validation:  0.2568\n",
            "F1 train: 0.8536, cross-validation:  0.4779\n"
          ]
        },
        {
          "output_type": "display_data",
          "data": {
            "text/plain": [
              "<Figure size 432x288 with 2 Axes>"
            ],
            "image/png": "[encoded data removed]"
          },
          "metadata": {
            "needs_background": "light"
          }
        }
      ]
    },
    {
      "cell_type": "markdown",
      "source": [
        "### DRAFT!!!! FAIRNESS FUNCTIONS Removing features correlated with protected characteristics"
      ],
      "metadata": {
        "id": "wfSaSlGfw66d"
      },
      "id": "wfSaSlGfw66d"
    },
    {
      "cell_type": "code",
      "source": [
        "from fairlearn.reductions import ExponentiatedGradient, DemographicParity\n",
        "from fairlearn.preprocessing import CorrelationRemover\n",
        "from fairlearn.metrics import MetricFrame"
      ],
      "metadata": {
        "id": "7nuZPQqodXFd",
        "outputId": "0352b7a3-cff1-4590-b286-2b28fd3c05c2",
        "colab": {
          "base_uri": "https://localhost:8080/",
          "height": 356
        }
      },
      "id": "7nuZPQqodXFd",
      "execution_count": null,
      "outputs": [
        {
          "output_type": "error",
          "ename": "ModuleNotFoundError",
          "evalue": "ignored",
          "traceback": [
            "\u001b[0;31m---------------------------------------------------------------------------\u001b[0m",
            "\u001b[0;31mModuleNotFoundError\u001b[0m                       Traceback (most recent call last)",
            "\u001b[0;32m<ipython-input-35-3610fe11e157>\u001b[0m in \u001b[0;36m<module>\u001b[0;34m\u001b[0m\n\u001b[0;32m----> 1\u001b[0;31m \u001b[0;32mfrom\u001b[0m \u001b[0mfairlearn\u001b[0m\u001b[0;34m.\u001b[0m\u001b[0mreductions\u001b[0m \u001b[0;32mimport\u001b[0m \u001b[0mExponentiatedGradient\u001b[0m\u001b[0;34m,\u001b[0m \u001b[0mDemographicParity\u001b[0m\u001b[0;34m\u001b[0m\u001b[0;34m\u001b[0m\u001b[0m\n\u001b[0m\u001b[1;32m      2\u001b[0m \u001b[0;32mfrom\u001b[0m \u001b[0mfairlearn\u001b[0m\u001b[0;34m.\u001b[0m\u001b[0mpreprocessing\u001b[0m \u001b[0;32mimport\u001b[0m \u001b[0mCorrelationRemover\u001b[0m\u001b[0;34m\u001b[0m\u001b[0;34m\u001b[0m\u001b[0m\n\u001b[1;32m      3\u001b[0m \u001b[0;32mfrom\u001b[0m \u001b[0mfairlearn\u001b[0m\u001b[0;34m.\u001b[0m\u001b[0mmetrics\u001b[0m \u001b[0;32mimport\u001b[0m \u001b[0mMetricFrame\u001b[0m\u001b[0;34m\u001b[0m\u001b[0;34m\u001b[0m\u001b[0m\n",
            "\u001b[0;31mModuleNotFoundError\u001b[0m: No module named 'fairlearn'",
            "",
            "\u001b[0;31m---------------------------------------------------------------------------\u001b[0;32m\nNOTE: If your import is failing due to a missing package, you can\nmanually install dependencies using either !pip or !apt.\n\nTo view examples of installing some common dependencies, click the\n\"Open Examples\" button below.\n\u001b[0;31m---------------------------------------------------------------------------\u001b[0m\n"
          ],
          "errorDetails": {
            "actions": [
              {
                "action": "open_url",
                "actionText": "Open Examples",
                "url": "/notebooks/snippets/importing_libraries.ipynb"
              }
            ]
          }
        }
      ]
    },
    {
      "cell_type": "code",
      "source": [
        "# List all the columns that are sensitive, supply in a list...\n",
        "cr = CorrelationRemover(sensitive_feature_ids=['gender'])\n",
        "cr.fit(X_upsampled_smote)\n",
        "X_upsampled_smote_cr = cr.transform(X_upsampled_smote)"
      ],
      "metadata": {
        "id": "JaBH-jZFsAlV",
        "outputId": "0f74ce33-eed9-4303-dc13-a92c3601bfd3",
        "colab": {
          "base_uri": "https://localhost:8080/",
          "height": 227
        }
      },
      "id": "JaBH-jZFsAlV",
      "execution_count": null,
      "outputs": [
        {
          "output_type": "error",
          "ename": "NameError",
          "evalue": "ignored",
          "traceback": [
            "\u001b[0;31m---------------------------------------------------------------------------\u001b[0m",
            "\u001b[0;31mNameError\u001b[0m                                 Traceback (most recent call last)",
            "\u001b[0;32m<ipython-input-37-e8a7d29ff5c4>\u001b[0m in \u001b[0;36m<module>\u001b[0;34m\u001b[0m\n\u001b[1;32m      1\u001b[0m \u001b[0;31m# List all the columns that are sensitive, supply in a list...\u001b[0m\u001b[0;34m\u001b[0m\u001b[0;34m\u001b[0m\u001b[0;34m\u001b[0m\u001b[0m\n\u001b[0;32m----> 2\u001b[0;31m \u001b[0mcr\u001b[0m \u001b[0;34m=\u001b[0m \u001b[0mCorrelationRemover\u001b[0m\u001b[0;34m(\u001b[0m\u001b[0msensitive_feature_ids\u001b[0m\u001b[0;34m=\u001b[0m\u001b[0;34m[\u001b[0m\u001b[0;34m'gender'\u001b[0m\u001b[0;34m]\u001b[0m\u001b[0;34m)\u001b[0m\u001b[0;34m\u001b[0m\u001b[0;34m\u001b[0m\u001b[0m\n\u001b[0m\u001b[1;32m      3\u001b[0m \u001b[0mcr\u001b[0m\u001b[0;34m.\u001b[0m\u001b[0mfit\u001b[0m\u001b[0;34m(\u001b[0m\u001b[0mX_upsampled_smote\u001b[0m\u001b[0;34m)\u001b[0m\u001b[0;34m\u001b[0m\u001b[0;34m\u001b[0m\u001b[0m\n\u001b[1;32m      4\u001b[0m \u001b[0mX_upsampled_smote_cr\u001b[0m \u001b[0;34m=\u001b[0m \u001b[0mcr\u001b[0m\u001b[0;34m.\u001b[0m\u001b[0mtransform\u001b[0m\u001b[0;34m(\u001b[0m\u001b[0mX_upsampled_smote\u001b[0m\u001b[0;34m)\u001b[0m\u001b[0;34m\u001b[0m\u001b[0;34m\u001b[0m\u001b[0m\n",
            "\u001b[0;31mNameError\u001b[0m: name 'CorrelationRemover' is not defined"
          ]
        }
      ]
    },
    {
      "cell_type": "code",
      "source": [
        "# We set the balance in the population so we do not under or over-represent males or females...\n",
        "constraint = DemographicParity(ratio_bound=0.5)\n",
        "\n",
        "mitigator = ExponentiatedGradient(model, constraint)\n",
        "mitigator.fit(X_upsampled_smote_cr, y_train, sensitive_features=['gender'])\n",
        "y_pred_mitigated = mitigator.predict(X_test_exgender)\n",
        "\n",
        "sr_mitigated = MetricFrame(metrics=accuracy_score, y_true=y_test, y_pred=y_pred_mitigated, sensitive_features=X_upsampled_smote['gender'])\n",
        "print(sr_mitigated.overall)\n",
        "print(sr_mitigated.by_group)"
      ],
      "metadata": {
        "id": "lHoBhbgGNWx-",
        "outputId": "204314bf-7949-420d-f41c-8cefdee8b3e0",
        "colab": {
          "base_uri": "https://localhost:8080/",
          "height": 246
        }
      },
      "id": "lHoBhbgGNWx-",
      "execution_count": null,
      "outputs": [
        {
          "output_type": "error",
          "ename": "NameError",
          "evalue": "ignored",
          "traceback": [
            "\u001b[0;31m---------------------------------------------------------------------------\u001b[0m",
            "\u001b[0;31mNameError\u001b[0m                                 Traceback (most recent call last)",
            "\u001b[0;32m<ipython-input-38-f637d020a068>\u001b[0m in \u001b[0;36m<module>\u001b[0;34m\u001b[0m\n\u001b[1;32m      1\u001b[0m \u001b[0;31m# We set the balance in the population so we do not under or over-represent males or females...\u001b[0m\u001b[0;34m\u001b[0m\u001b[0;34m\u001b[0m\u001b[0;34m\u001b[0m\u001b[0m\n\u001b[0;32m----> 2\u001b[0;31m \u001b[0mconstraint\u001b[0m \u001b[0;34m=\u001b[0m \u001b[0mDemographicParity\u001b[0m\u001b[0;34m(\u001b[0m\u001b[0mratio_bound\u001b[0m\u001b[0;34m=\u001b[0m\u001b[0;36m0.5\u001b[0m\u001b[0;34m)\u001b[0m\u001b[0;34m\u001b[0m\u001b[0;34m\u001b[0m\u001b[0m\n\u001b[0m\u001b[1;32m      3\u001b[0m \u001b[0;34m\u001b[0m\u001b[0m\n\u001b[1;32m      4\u001b[0m \u001b[0mmitigator\u001b[0m \u001b[0;34m=\u001b[0m \u001b[0mExponentiatedGradient\u001b[0m\u001b[0;34m(\u001b[0m\u001b[0mmodel\u001b[0m\u001b[0;34m,\u001b[0m \u001b[0mconstraint\u001b[0m\u001b[0;34m)\u001b[0m\u001b[0;34m\u001b[0m\u001b[0;34m\u001b[0m\u001b[0m\n\u001b[1;32m      5\u001b[0m \u001b[0mmitigator\u001b[0m\u001b[0;34m.\u001b[0m\u001b[0mfit\u001b[0m\u001b[0;34m(\u001b[0m\u001b[0mX_upsampled_smote_cr\u001b[0m\u001b[0;34m,\u001b[0m \u001b[0my_train\u001b[0m\u001b[0;34m,\u001b[0m \u001b[0msensitive_features\u001b[0m\u001b[0;34m=\u001b[0m\u001b[0;34m[\u001b[0m\u001b[0;34m'gender'\u001b[0m\u001b[0;34m]\u001b[0m\u001b[0;34m)\u001b[0m\u001b[0;34m\u001b[0m\u001b[0;34m\u001b[0m\u001b[0m\n",
            "\u001b[0;31mNameError\u001b[0m: name 'DemographicParity' is not defined"
          ]
        }
      ]
    },
    {
      "cell_type": "markdown",
      "source": [
        "Let us inspect the results between the \"fair\" model outcomes and the potentially biased...."
      ],
      "metadata": {
        "id": "cVV8YHYuwfRU"
      },
      "id": "cVV8YHYuwfRU"
    },
    {
      "cell_type": "code",
      "source": [
        "\n",
        "#Print confusion matrix...\n",
        "cf_matrix = confusion_matrix(y, y_pred_mitigated, labels=[0, 1]) \n",
        "cf_matrix_norm = cf_matrix.astype('float') # / cf_matrix.sum(axis=1)[:, np.newaxis]\n",
        "\n",
        "ax = sns.heatmap(cf_matrix_norm, annot=True, cmap='Reds', fmt='g')\n",
        "ax.set_title('Confusion Matrix Bias Mitigated\\n\\n');\n",
        "ax.set_xlabel('\\nPredicted Values')\n",
        "ax.set_ylabel('Actual Values ');\n",
        "plt.show()\n",
        "\n",
        "print(f\"F1 full dataset: {f1_score(y, y_pred_mitigated, average=None)[1]:.4f}\")\n",
        "  \n",
        "# Analyze metrics using MetricFrame\n",
        "metric_frame = MetricFrame(metrics=accuracy_score, y_true=y, y_pred=y_pred_mitigated, sensitive_features=df_raw['gender'])\n",
        "metric_frame.by_group.plot.bar(\n",
        "    subplots=True,\n",
        "    layout=[3, 3],\n",
        "    legend=False,\n",
        "    figsize=[12, 8],\n",
        "    title=\"Show all metrics\",\n",
        ")"
      ],
      "metadata": {
        "id": "CW7SaIErqgQ1",
        "outputId": "5b26eaff-fb51-4875-c058-df8594c495ff",
        "colab": {
          "base_uri": "https://localhost:8080/",
          "height": 246
        }
      },
      "id": "CW7SaIErqgQ1",
      "execution_count": null,
      "outputs": [
        {
          "output_type": "error",
          "ename": "NameError",
          "evalue": "ignored",
          "traceback": [
            "\u001b[0;31m---------------------------------------------------------------------------\u001b[0m",
            "\u001b[0;31mNameError\u001b[0m                                 Traceback (most recent call last)",
            "\u001b[0;32m<ipython-input-39-9e40a9c65fa5>\u001b[0m in \u001b[0;36m<module>\u001b[0;34m\u001b[0m\n\u001b[1;32m      1\u001b[0m \u001b[0;31m#Print confusion matrix...\u001b[0m\u001b[0;34m\u001b[0m\u001b[0;34m\u001b[0m\u001b[0;34m\u001b[0m\u001b[0m\n\u001b[0;32m----> 2\u001b[0;31m \u001b[0mcf_matrix\u001b[0m \u001b[0;34m=\u001b[0m \u001b[0mconfusion_matrix\u001b[0m\u001b[0;34m(\u001b[0m\u001b[0my\u001b[0m\u001b[0;34m,\u001b[0m \u001b[0my_pred_mitigated\u001b[0m\u001b[0;34m,\u001b[0m \u001b[0mlabels\u001b[0m\u001b[0;34m=\u001b[0m\u001b[0;34m[\u001b[0m\u001b[0;36m0\u001b[0m\u001b[0;34m,\u001b[0m \u001b[0;36m1\u001b[0m\u001b[0;34m]\u001b[0m\u001b[0;34m)\u001b[0m\u001b[0;34m\u001b[0m\u001b[0;34m\u001b[0m\u001b[0m\n\u001b[0m\u001b[1;32m      3\u001b[0m \u001b[0mcf_matrix_norm\u001b[0m \u001b[0;34m=\u001b[0m \u001b[0mcf_matrix\u001b[0m\u001b[0;34m.\u001b[0m\u001b[0mastype\u001b[0m\u001b[0;34m(\u001b[0m\u001b[0;34m'float'\u001b[0m\u001b[0;34m)\u001b[0m \u001b[0;31m# / cf_matrix.sum(axis=1)[:, np.newaxis]\u001b[0m\u001b[0;34m\u001b[0m\u001b[0;34m\u001b[0m\u001b[0m\n\u001b[1;32m      4\u001b[0m \u001b[0;34m\u001b[0m\u001b[0m\n\u001b[1;32m      5\u001b[0m \u001b[0max\u001b[0m \u001b[0;34m=\u001b[0m \u001b[0msns\u001b[0m\u001b[0;34m.\u001b[0m\u001b[0mheatmap\u001b[0m\u001b[0;34m(\u001b[0m\u001b[0mcf_matrix_norm\u001b[0m\u001b[0;34m,\u001b[0m \u001b[0mannot\u001b[0m\u001b[0;34m=\u001b[0m\u001b[0;32mTrue\u001b[0m\u001b[0;34m,\u001b[0m \u001b[0mcmap\u001b[0m\u001b[0;34m=\u001b[0m\u001b[0;34m'Reds'\u001b[0m\u001b[0;34m,\u001b[0m \u001b[0mfmt\u001b[0m\u001b[0;34m=\u001b[0m\u001b[0;34m'g'\u001b[0m\u001b[0;34m)\u001b[0m\u001b[0;34m\u001b[0m\u001b[0;34m\u001b[0m\u001b[0m\n",
            "\u001b[0;31mNameError\u001b[0m: name 'y_pred_mitigated' is not defined"
          ]
        }
      ]
    },
    {
      "cell_type": "code",
      "source": [
        "#Print confusion matrix... for the unmitigated classifer...\n",
        "cf_matrix = confusion_matrix(y, y_pred, labels=[0, 1]) \n",
        "cf_matrix_norm = cf_matrix.astype('float') # / cf_matrix.sum(axis=1)[:, np.newaxis]\n",
        "\n",
        "ax = sns.heatmap(cf_matrix_norm, annot=True, cmap='Blues', fmt='g')\n",
        "ax.set_title('Confusion Matrix Non-Mitigated\\n\\n');\n",
        "ax.set_xlabel('\\nPredicted Values')\n",
        "ax.set_ylabel('Actual Values ');\n",
        "plt.show()\n",
        "\n",
        "print(f\"F1 full dataset: {f1_score(y, y_pred, average=None)[1]:.4f}\")\n",
        "\n",
        "\n",
        "# Analyze metrics using MetricFrame\n",
        "metric_frame = MetricFrame(metrics=accuracy_score, y_true=y, y_pred=y_pred, sensitive_features=df_raw['gender'])\n",
        "metric_frame.by_group.plot.bar(\n",
        "    subplots=True,\n",
        "    layout=[3, 3],\n",
        "    legend=False,\n",
        "    figsize=[12, 8],\n",
        "    title=\"Show all metrics\",\n",
        ")"
      ],
      "metadata": {
        "id": "fyHNuQeXqt12"
      },
      "id": "fyHNuQeXqt12",
      "execution_count": null,
      "outputs": []
    },
    {
      "cell_type": "markdown",
      "source": [
        "## Stage 4c: KPI Checks - Most importantly checks for Fairness.\n",
        "\n",
        "We noted at the outset that there was a bias between the protected characterisctis of gender, with male and female credits being different, and we removed this protected characteristic from the dataset to avoid this illegal bias in loan approval outcomes.\n",
        "\n",
        "Protected characteristics can be picked up (proxied) in other dataitems in more subtle ways though. For instance given that single parent households tend to disproportionately be led by a female adult, this may make 'num_dependents' a proxy for gender.\n",
        "\n",
        "It is important that we control for any possible protected biases, and one way of achieving this is to retrain our model using a mitigator, which trains by constraining the model weights to produce a balanced outcome between protected classes; male and female credits in this case."
      ],
      "metadata": {
        "id": "LvIWjJXQtAVd"
      },
      "id": "LvIWjJXQtAVd"
    },
    {
      "cell_type": "code",
      "source": [
        "from sklearn.metrics import accuracy_score\n",
        "\n",
        "# Run classifier, in sample\n",
        "y_pred = model.predict(X_test_exgender)\n",
        "\n",
        "# Analyze metrics using MetricFrame\n",
        "metric_frame = MetricFrame(metrics=accuracy_score, y_true=y_test, y_pred=y_pred, sensitive_features=X_test['gender'])\n",
        "metric_frame.by_group.plot.bar(\n",
        "    subplots=True,\n",
        "    layout=[3, 3],\n",
        "    legend=False,\n",
        "    figsize=[12, 8],\n",
        "    title=\"Show all metrics\",\n",
        ")"
      ],
      "metadata": {
        "colab": {
          "base_uri": "https://localhost:8080/",
          "height": 283
        },
        "id": "apn7X0tIfYXe",
        "outputId": "87fdff13-94a6-4c4c-acb4-d3487348a4f3"
      },
      "id": "apn7X0tIfYXe",
      "execution_count": null,
      "outputs": [
        {
          "output_type": "stream",
          "name": "stderr",
          "text": [
            "/usr/local/lib/python3.7/dist-packages/sklearn/base.py:444: UserWarning: X has feature names, but RandomForestClassifier was fitted without feature names\n",
            "  f\"X has feature names, but {self.__class__.__name__} was fitted without\"\n"
          ]
        },
        {
          "output_type": "error",
          "ename": "NameError",
          "evalue": "ignored",
          "traceback": [
            "\u001b[0;31m---------------------------------------------------------------------------\u001b[0m",
            "\u001b[0;31mNameError\u001b[0m                                 Traceback (most recent call last)",
            "\u001b[0;32m<ipython-input-34-4c44fea67996>\u001b[0m in \u001b[0;36m<module>\u001b[0;34m\u001b[0m\n\u001b[1;32m      5\u001b[0m \u001b[0;34m\u001b[0m\u001b[0m\n\u001b[1;32m      6\u001b[0m \u001b[0;31m# Analyze metrics using MetricFrame\u001b[0m\u001b[0;34m\u001b[0m\u001b[0;34m\u001b[0m\u001b[0;34m\u001b[0m\u001b[0m\n\u001b[0;32m----> 7\u001b[0;31m \u001b[0mmetric_frame\u001b[0m \u001b[0;34m=\u001b[0m \u001b[0mMetricFrame\u001b[0m\u001b[0;34m(\u001b[0m\u001b[0mmetrics\u001b[0m\u001b[0;34m=\u001b[0m\u001b[0maccuracy_score\u001b[0m\u001b[0;34m,\u001b[0m \u001b[0my_true\u001b[0m\u001b[0;34m=\u001b[0m\u001b[0my_test\u001b[0m\u001b[0;34m,\u001b[0m \u001b[0my_pred\u001b[0m\u001b[0;34m=\u001b[0m\u001b[0my_pred\u001b[0m\u001b[0;34m,\u001b[0m \u001b[0msensitive_features\u001b[0m\u001b[0;34m=\u001b[0m\u001b[0mX_test\u001b[0m\u001b[0;34m[\u001b[0m\u001b[0;34m'gender'\u001b[0m\u001b[0;34m]\u001b[0m\u001b[0;34m)\u001b[0m\u001b[0;34m\u001b[0m\u001b[0;34m\u001b[0m\u001b[0m\n\u001b[0m\u001b[1;32m      8\u001b[0m metric_frame.by_group.plot.bar(\n\u001b[1;32m      9\u001b[0m     \u001b[0msubplots\u001b[0m\u001b[0;34m=\u001b[0m\u001b[0;32mTrue\u001b[0m\u001b[0;34m,\u001b[0m\u001b[0;34m\u001b[0m\u001b[0;34m\u001b[0m\u001b[0m\n",
            "\u001b[0;31mNameError\u001b[0m: name 'MetricFrame' is not defined"
          ]
        }
      ]
    },
    {
      "cell_type": "markdown",
      "source": [
        "The balance almost equal, this indicates that our model is tending to show now bias based non gender, which indicates that removing the protected dataitem in thefirst place has had a balancing effect on the outcomes. \n",
        "\n",
        "However, we can still explicuitly remove correlated features, and constrain model training to remove bias."
      ],
      "metadata": {
        "id": "6efw9jQlqDse"
      },
      "id": "6efw9jQlqDse"
    },
    {
      "cell_type": "markdown",
      "source": [
        "# Stage5: Model Deployment \n",
        "\n",
        "Model deployment generally involves a change process, several levels of testing and sign off, asignment of responsibilities for the live operation of the process, models and data before deployiong the code to the cloud (or on native hardware). \n",
        "A key part of thius stage is communication of the KPIs to stakleholders to enable them to understand the way the models operate, the risks involved and to be accountable for deploying the models\n"
      ],
      "metadata": {
        "id": "0LFyHIAP59O7"
      },
      "id": "0LFyHIAP59O7"
    },
    {
      "cell_type": "markdown",
      "source": [
        "## Communication: Stakeholder Oriented Explanations\n",
        "\n",
        "Communication of how the model has reached the outcomes it is has, is crutial to achieve fairness, transparency, accountability, and trust in the whole process. Each stakeholder in the process needs to see different elements. The Data Scientist and technical leadership need to review the nut and bolts of the model, reviewing residuals plots, parameter importance, interaction terms and many other metrics. The customer needs to see far less information, and mainly that associated with a refusal of credit. Compliance resources and regulators need to see something different again, such as fairness regarding protected characteristics, the accuracy and therefore capital risk represented by the models. \n",
        "In this section we look at stakeholder oriented explanations and we will be using standard charts of important analytics, such as residual plots, and SHAP.\n",
        "\n",
        "First let us get the packages we will need..."
      ],
      "metadata": {
        "id": "JZGI4nBO0HlI"
      },
      "id": "JZGI4nBO0HlI"
    },
    {
      "cell_type": "code",
      "source": [
        "pip install shap"
      ],
      "metadata": {
        "id": "4dWv02uvQWyd",
        "outputId": "aa687131-5ce8-4a6c-d2da-1c9fd144b4cf",
        "colab": {
          "base_uri": "https://localhost:8080/"
        }
      },
      "id": "4dWv02uvQWyd",
      "execution_count": null,
      "outputs": [
        {
          "output_type": "stream",
          "name": "stdout",
          "text": [
            "Looking in indexes: https://pypi.org/simple, https://us-python.pkg.dev/colab-wheels/public/simple/\n",
            "Collecting shap\n",
            "  Downloading shap-0.41.0-cp37-cp37m-manylinux_2_12_x86_64.manylinux2010_x86_64.whl (569 kB)\n",
            "\u001b[K     |████████████████████████████████| 569 kB 5.1 MB/s \n",
            "\u001b[?25hCollecting slicer==0.0.7\n",
            "  Downloading slicer-0.0.7-py3-none-any.whl (14 kB)\n",
            "Requirement already satisfied: numba in /usr/local/lib/python3.7/dist-packages (from shap) (0.56.3)\n",
            "Requirement already satisfied: pandas in /usr/local/lib/python3.7/dist-packages (from shap) (1.3.5)\n",
            "Requirement already satisfied: packaging>20.9 in /usr/local/lib/python3.7/dist-packages (from shap) (21.3)\n",
            "Requirement already satisfied: numpy in /usr/local/lib/python3.7/dist-packages (from shap) (1.21.6)\n",
            "Requirement already satisfied: tqdm>4.25.0 in /usr/local/lib/python3.7/dist-packages (from shap) (4.64.1)\n",
            "Requirement already satisfied: cloudpickle in /usr/local/lib/python3.7/dist-packages (from shap) (1.5.0)\n",
            "Requirement already satisfied: scipy in /usr/local/lib/python3.7/dist-packages (from shap) (1.7.3)\n",
            "Requirement already satisfied: scikit-learn in /usr/local/lib/python3.7/dist-packages (from shap) (1.0.2)\n",
            "Requirement already satisfied: pyparsing!=3.0.5,>=2.0.2 in /usr/local/lib/python3.7/dist-packages (from packaging>20.9->shap) (3.0.9)\n",
            "Requirement already satisfied: setuptools in /usr/local/lib/python3.7/dist-packages (from numba->shap) (57.4.0)\n",
            "Requirement already satisfied: llvmlite<0.40,>=0.39.0dev0 in /usr/local/lib/python3.7/dist-packages (from numba->shap) (0.39.1)\n",
            "Requirement already satisfied: importlib-metadata in /usr/local/lib/python3.7/dist-packages (from numba->shap) (4.13.0)\n",
            "Requirement already satisfied: typing-extensions>=3.6.4 in /usr/local/lib/python3.7/dist-packages (from importlib-metadata->numba->shap) (4.1.1)\n",
            "Requirement already satisfied: zipp>=0.5 in /usr/local/lib/python3.7/dist-packages (from importlib-metadata->numba->shap) (3.9.0)\n",
            "Requirement already satisfied: pytz>=2017.3 in /usr/local/lib/python3.7/dist-packages (from pandas->shap) (2022.4)\n",
            "Requirement already satisfied: python-dateutil>=2.7.3 in /usr/local/lib/python3.7/dist-packages (from pandas->shap) (2.8.2)\n",
            "Requirement already satisfied: six>=1.5 in /usr/local/lib/python3.7/dist-packages (from python-dateutil>=2.7.3->pandas->shap) (1.15.0)\n",
            "Requirement already satisfied: joblib>=0.11 in /usr/local/lib/python3.7/dist-packages (from scikit-learn->shap) (1.2.0)\n",
            "Requirement already satisfied: threadpoolctl>=2.0.0 in /usr/local/lib/python3.7/dist-packages (from scikit-learn->shap) (3.1.0)\n",
            "Installing collected packages: slicer, shap\n",
            "Successfully installed shap-0.41.0 slicer-0.0.7\n"
          ]
        }
      ]
    },
    {
      "cell_type": "code",
      "source": [
        "import shap"
      ],
      "metadata": {
        "id": "Nx16rPvNQdrZ"
      },
      "id": "Nx16rPvNQdrZ",
      "execution_count": null,
      "outputs": []
    },
    {
      "cell_type": "markdown",
      "source": [
        "Now instantiate the SHAP explainer object for our classifier and generate Shapley values for the test data... Note that as we will be using the test data, all the analysis is therefore based on the out of sample performance of our model."
      ],
      "metadata": {
        "id": "Ku_I-kcG8bpR"
      },
      "id": "Ku_I-kcG8bpR"
    },
    {
      "cell_type": "code",
      "source": [
        "print(type(max_mdl).__name__)\n",
        "\n",
        "# Instantiate an explainer object for our chosen classifier...\n",
        "if type(max_mdl).__name__ == 'DecisionTreeClassifier':\n",
        "  explainer = shap.Explainer(max_mdl)\n",
        "elif type(max_mdl).__name__ == 'GaussianNB':\n",
        "  masker=shap.maskers.Impute(data=X_test) #,feature_names=X_test.columns)\n",
        "elif type(max_mdl).__name__ == 'LogisticRegression':\n",
        "  masker=shap.maskers.Impute(data=X_test) #,feature_names=X_test.columns)\n",
        "elif type(max_mdl).__name__ == 'MLPClassifier':\n",
        "  masker=shap.maskers.Impute(data=X_test) #,feature_names=X_test.columns)\n",
        "elif type(max_mdl).__name__ == 'RandomForestClassifier':\n",
        "  explainer = shap.Explainer(max_mdl)\n",
        "elif type(max_mdl).__name__ == 'LinearDiscriminantAnalysis':\n",
        "  masker = shap.maskers.Independent(data = X_test)\n",
        "  explainer = shap.LinearExplainer(max_mdl, masker = masker)\n",
        "\n",
        "# Get the Shapley values for the X_test data...\n",
        "shap_values = explainer(X_test)"
      ],
      "metadata": {
        "colab": {
          "base_uri": "https://localhost:8080/"
        },
        "id": "_xCoD7kw6r0b",
        "outputId": "26fcab34-ba35-40ba-b987-cd00963ca5f9"
      },
      "id": "_xCoD7kw6r0b",
      "execution_count": null,
      "outputs": [
        {
          "output_type": "stream",
          "name": "stdout",
          "text": [
            "LinearDiscriminantAnalysis\n"
          ]
        }
      ]
    },
    {
      "cell_type": "markdown",
      "source": [
        "### 1) Analyst and technical explainability"
      ],
      "metadata": {
        "id": "bdMhCBHMFf4v"
      },
      "id": "bdMhCBHMFf4v"
    },
    {
      "cell_type": "code",
      "source": [
        "import sklearn.metrics as metrics\n",
        "\n",
        "# Compute micro-average ROC curve and ROC area\n",
        "metrics.plot_roc_curve(max_mdl, X_test, y_test) \n",
        "\n",
        "fpr, tpr, thresholds = metrics.roc_curve(y_test, y_test_hat)\n",
        "roc_auc = metrics.auc(fpr, tpr)\n",
        "display = metrics.RocCurveDisplay(fpr=fpr, tpr=tpr, roc_auc=roc_auc,\n",
        "                                  estimator_name='example estimator')\n",
        "display.plot()\n",
        "\n",
        "plt.show()"
      ],
      "metadata": {
        "id": "fPlSWba2dSoo",
        "outputId": "bad9d741-baf7-41c5-cd33-da9e7839a29e",
        "colab": {
          "base_uri": "https://localhost:8080/",
          "height": 559
        }
      },
      "id": "fPlSWba2dSoo",
      "execution_count": null,
      "outputs": [
        {
          "output_type": "stream",
          "name": "stderr",
          "text": [
            "Function plot_roc_curve is deprecated; Function :func:`plot_roc_curve` is deprecated in 1.0 and will be removed in 1.2. Use one of the class methods: :meth:`sklearn.metric.RocCurveDisplay.from_predictions` or :meth:`sklearn.metric.RocCurveDisplay.from_estimator`.\n"
          ]
        },
        {
          "output_type": "display_data",
          "data": {
            "text/plain": [
              "<Figure size 432x288 with 1 Axes>"
            ],
            "image/png": "[encoded data removed]"
          },
          "metadata": {
            "needs_background": "light"
          }
        },
        {
          "output_type": "display_data",
          "data": {
            "text/plain": [
              "<Figure size 432x288 with 1 Axes>"
            ],
            "image/png": "[encoded data removed]"
          },
          "metadata": {
            "needs_background": "light"
          }
        }
      ]
    },
    {
      "cell_type": "markdown",
      "source": [
        "Feature importance"
      ],
      "metadata": {
        "id": "8u7btmtyFKNn"
      },
      "id": "8u7btmtyFKNn"
    },
    {
      "cell_type": "code",
      "source": [
        "# Plot the feature importance\n",
        "shap.plots.bar(shap_values, max_display=30)"
      ],
      "metadata": {
        "id": "NfwlscWzExPQ",
        "outputId": "b2d28e8c-ed77-4449-ee42-12bf85ad4b47",
        "colab": {
          "base_uri": "https://localhost:8080/",
          "height": 962
        }
      },
      "id": "NfwlscWzExPQ",
      "execution_count": null,
      "outputs": [
        {
          "output_type": "display_data",
          "data": {
            "text/plain": [
              "<Figure size 576x1188 with 1 Axes>"
            ],
            "image/png": "[encoded data removed]"
          },
          "metadata": {}
        }
      ]
    },
    {
      "cell_type": "markdown",
      "source": [
        "### 2) Compliance and Regulatory\n",
        "\n"
      ],
      "metadata": {
        "id": "ce1fcWInh48Q"
      },
      "id": "ce1fcWInh48Q"
    },
    {
      "cell_type": "markdown",
      "source": [
        "See if any features are suspiciously important for one gender vs another."
      ],
      "metadata": {
        "id": "fxV86fMFKX7r"
      },
      "id": "fxV86fMFKX7r"
    },
    {
      "cell_type": "code",
      "source": [
        "# Parameter importance by gender..\n",
        "gdr = [\"male\" if x==1 else \"female\" for x in X_test['gender']]\n",
        "\n",
        "# Plot the feature importance\n",
        "shap.plots.bar(shap_values.cohorts(gdr).abs.mean(0))"
      ],
      "metadata": {
        "colab": {
          "base_uri": "https://localhost:8080/",
          "height": 531
        },
        "id": "nqJGtpmu1nig",
        "outputId": "25a946bf-6fa1-4938-bffb-4617e1365faf"
      },
      "id": "nqJGtpmu1nig",
      "execution_count": null,
      "outputs": [
        {
          "output_type": "display_data",
          "data": {
            "text/plain": [
              "<Figure size 576x617.117 with 1 Axes>"
            ],
            "image/png": "[encoded data removed]"
          },
          "metadata": {}
        }
      ]
    },
    {
      "cell_type": "markdown",
      "source": [],
      "metadata": {
        "id": "5MGWlux3KvFy"
      },
      "id": "5MGWlux3KvFy"
    },
    {
      "cell_type": "markdown",
      "source": [
        "### 3) Customer\n",
        "\n",
        "A customer may want to knowlt he sensitivity of the decision to certain characteristics. IF a refusal has been made, it would be beneficial to report to the customer what they need to change to get a favorable outcome. \n",
        "\n",
        "We can use the SHAP waterfall plot to help"
      ],
      "metadata": {
        "id": "De8c3JUdKvtR"
      },
      "id": "De8c3JUdKvtR"
    },
    {
      "cell_type": "code",
      "source": [
        "# Find a customer with bad credit prediction\n",
        "for rejected_eg_rowno in range(0,y_test.shape[0]):\n",
        "  if y_test.iloc[rejected_eg_rowno] == 1:\n",
        "    break\n",
        "\n",
        "# This customer was refused credit and we can provide an explanation for their refusal...\n",
        "shap.plots.waterfall(shap_values[rejected_eg_rowno])"
      ],
      "metadata": {
        "id": "4ZHyTdYTLCh8",
        "outputId": "f440d91a-1269-4084-b020-2f2e96cd3f96",
        "colab": {
          "base_uri": "https://localhost:8080/",
          "height": 444
        }
      },
      "id": "4ZHyTdYTLCh8",
      "execution_count": null,
      "outputs": [
        {
          "output_type": "display_data",
          "data": {
            "text/plain": [
              "<Figure size 576x468 with 3 Axes>"
            ],
            "image/png": "[encoded data removed]"
          },
          "metadata": {}
        }
      ]
    },
    {
      "cell_type": "markdown",
      "source": [],
      "metadata": {
        "id": "e1K2zm_vLwK5"
      },
      "id": "e1K2zm_vLwK5"
    },
    {
      "cell_type": "code",
      "source": [
        "y_test.reset_index()"
      ],
      "metadata": {
        "id": "dha9E2RRLRvI",
        "outputId": "5c885f4a-58af-4703-8879-a23254e46297",
        "colab": {
          "base_uri": "https://localhost:8080/",
          "height": 423
        }
      },
      "id": "dha9E2RRLRvI",
      "execution_count": null,
      "outputs": [
        {
          "output_type": "execute_result",
          "data": {
            "text/plain": [
              "     index  class\n",
              "0      255      0\n",
              "1      485      1\n",
              "2      182      1\n",
              "3      128      0\n",
              "4      916      0\n",
              "..     ...    ...\n",
              "295    892      0\n",
              "296      4      1\n",
              "297    729      0\n",
              "298    903      0\n",
              "299    808      0\n",
              "\n",
              "[300 rows x 2 columns]"
            ],
            "text/html": [
              "\n",
              "  <div id=\"df-e3503ecc-7cbe-4c98-83e1-f54199c4055a\">\n",
              "    <div class=\"colab-df-container\">\n",
              "      <div>\n",
              "<style scoped>\n",
              "    .dataframe tbody tr th:only-of-type {\n",
              "        vertical-align: middle;\n",
              "    }\n",
              "\n",
              "    .dataframe tbody tr th {\n",
              "        vertical-align: top;\n",
              "    }\n",
              "\n",
              "    .dataframe thead th {\n",
              "        text-align: right;\n",
              "    }\n",
              "</style>\n",
              "<table border=\"1\" class=\"dataframe\">\n",
              "  <thead>\n",
              "    <tr style=\"text-align: right;\">\n",
              "      <th></th>\n",
              "      <th>index</th>\n",
              "      <th>class</th>\n",
              "    </tr>\n",
              "  </thead>\n",
              "  <tbody>\n",
              "    <tr>\n",
              "      <th>0</th>\n",
              "      <td>255</td>\n",
              "      <td>0</td>\n",
              "    </tr>\n",
              "    <tr>\n",
              "      <th>1</th>\n",
              "      <td>485</td>\n",
              "      <td>1</td>\n",
              "    </tr>\n",
              "    <tr>\n",
              "      <th>2</th>\n",
              "      <td>182</td>\n",
              "      <td>1</td>\n",
              "    </tr>\n",
              "    <tr>\n",
              "      <th>3</th>\n",
              "      <td>128</td>\n",
              "      <td>0</td>\n",
              "    </tr>\n",
              "    <tr>\n",
              "      <th>4</th>\n",
              "      <td>916</td>\n",
              "      <td>0</td>\n",
              "    </tr>\n",
              "    <tr>\n",
              "      <th>...</th>\n",
              "      <td>...</td>\n",
              "      <td>...</td>\n",
              "    </tr>\n",
              "    <tr>\n",
              "      <th>295</th>\n",
              "      <td>892</td>\n",
              "      <td>0</td>\n",
              "    </tr>\n",
              "    <tr>\n",
              "      <th>296</th>\n",
              "      <td>4</td>\n",
              "      <td>1</td>\n",
              "    </tr>\n",
              "    <tr>\n",
              "      <th>297</th>\n",
              "      <td>729</td>\n",
              "      <td>0</td>\n",
              "    </tr>\n",
              "    <tr>\n",
              "      <th>298</th>\n",
              "      <td>903</td>\n",
              "      <td>0</td>\n",
              "    </tr>\n",
              "    <tr>\n",
              "      <th>299</th>\n",
              "      <td>808</td>\n",
              "      <td>0</td>\n",
              "    </tr>\n",
              "  </tbody>\n",
              "</table>\n",
              "<p>300 rows × 2 columns</p>\n",
              "</div>\n",
              "      <button class=\"colab-df-convert\" onclick=\"convertToInteractive('df-e3503ecc-7cbe-4c98-83e1-f54199c4055a')\"\n",
              "              title=\"Convert this dataframe to an interactive table.\"\n",
              "              style=\"display:none;\">\n",
              "        \n",
              "  <svg xmlns=\"http://www.w3.org/2000/svg\" height=\"24px\"viewBox=\"0 0 24 24\"\n",
              "       width=\"24px\">\n",
              "    <path d=\"M0 0h24v24H0V0z\" fill=\"none\"/>\n",
              "    <path d=\"M18.56 5.44l.94 2.06.94-2.06 2.06-.94-2.06-.94-.94-2.06-.94 2.06-2.06.94zm-11 1L8.5 8.5l.94-2.06 2.06-.94-2.06-.94L8.5 2.5l-.94 2.06-2.06.94zm10 10l.94 2.06.94-2.06 2.06-.94-2.06-.94-.94-2.06-.94 2.06-2.06.94z\"/><path d=\"M17.41 7.96l-1.37-1.37c-.4-.4-.92-.59-1.43-.59-.52 0-1.04.2-1.43.59L10.3 9.45l-7.72 7.72c-.78.78-.78 2.05 0 2.83L4 21.41c.39.39.9.59 1.41.59.51 0 1.02-.2 1.41-.59l7.78-7.78 2.81-2.81c.8-.78.8-2.07 0-2.86zM5.41 20L4 18.59l7.72-7.72 1.47 1.35L5.41 20z\"/>\n",
              "  </svg>\n",
              "      </button>\n",
              "      \n",
              "  <style>\n",
              "    .colab-df-container {\n",
              "      display:flex;\n",
              "      flex-wrap:wrap;\n",
              "      gap: 12px;\n",
              "    }\n",
              "\n",
              "    .colab-df-convert {\n",
              "      background-color: #E8F0FE;\n",
              "      border: none;\n",
              "      border-radius: 50%;\n",
              "      cursor: pointer;\n",
              "      display: none;\n",
              "      fill: #1967D2;\n",
              "      height: 32px;\n",
              "      padding: 0 0 0 0;\n",
              "      width: 32px;\n",
              "    }\n",
              "\n",
              "    .colab-df-convert:hover {\n",
              "      background-color: #E2EBFA;\n",
              "      box-shadow: 0px 1px 2px rgba(60, 64, 67, 0.3), 0px 1px 3px 1px rgba(60, 64, 67, 0.15);\n",
              "      fill: #174EA6;\n",
              "    }\n",
              "\n",
              "    [theme=dark] .colab-df-convert {\n",
              "      background-color: #3B4455;\n",
              "      fill: #D2E3FC;\n",
              "    }\n",
              "\n",
              "    [theme=dark] .colab-df-convert:hover {\n",
              "      background-color: #434B5C;\n",
              "      box-shadow: 0px 1px 3px 1px rgba(0, 0, 0, 0.15);\n",
              "      filter: drop-shadow(0px 1px 2px rgba(0, 0, 0, 0.3));\n",
              "      fill: #FFFFFF;\n",
              "    }\n",
              "  </style>\n",
              "\n",
              "      <script>\n",
              "        const buttonEl =\n",
              "          document.querySelector('#df-e3503ecc-7cbe-4c98-83e1-f54199c4055a button.colab-df-convert');\n",
              "        buttonEl.style.display =\n",
              "          google.colab.kernel.accessAllowed ? 'block' : 'none';\n",
              "\n",
              "        async function convertToInteractive(key) {\n",
              "          const element = document.querySelector('#df-e3503ecc-7cbe-4c98-83e1-f54199c4055a');\n",
              "          const dataTable =\n",
              "            await google.colab.kernel.invokeFunction('convertToInteractive',\n",
              "                                                     [key], {});\n",
              "          if (!dataTable) return;\n",
              "\n",
              "          const docLinkHtml = 'Like what you see? Visit the ' +\n",
              "            '<a target=\"_blank\" href=https://colab.research.google.com/notebooks/data_table.ipynb>data table notebook</a>'\n",
              "            + ' to learn more about interactive tables.';\n",
              "          element.innerHTML = '';\n",
              "          dataTable['output_type'] = 'display_data';\n",
              "          await google.colab.output.renderOutput(dataTable, element);\n",
              "          const docLink = document.createElement('div');\n",
              "          docLink.innerHTML = docLinkHtml;\n",
              "          element.appendChild(docLink);\n",
              "        }\n",
              "      </script>\n",
              "    </div>\n",
              "  </div>\n",
              "  "
            ]
          },
          "metadata": {},
          "execution_count": 249
        }
      ]
    },
    {
      "cell_type": "markdown",
      "source": [
        "## Stage 6: Model Monitoring and Reporting\n",
        "\n",
        "Our model is now in production and being used in practice. We are \"risk on\" and we need to continually monitor and record our KPIs. Individuals accountability for these processes is critical.\n",
        "\n",
        "We also need to monitor data drift. If the distribution or the nature of the data we pass into our model substantioally differs from our training data, our model results will almost certainly be garbage. We need to monitor data drift and should drift occurr we need to re-run our model developmnent process to traing an appropriate model. This would take us back to Stage2 in this process.\n",
        "\n",
        "There is also the question of whether our model is still the best approach as time steps forward? Our model paramaters may become stale, the model itself may be less appropriaytr given its inductive biases. Many things can change and to monitor this we should consider using a challenger model. Challenger models are used to compete against our live model, and we should monitor our KPIs generated by our live model and compare them to those produced by the challenger model. "
      ],
      "metadata": {
        "id": "TTN8r_7zRDbt"
      },
      "id": "TTN8r_7zRDbt"
    },
    {
      "cell_type": "markdown",
      "source": [
        "## Stage6a: Data Drift"
      ],
      "metadata": {
        "id": "j3se-Ud-Spu3"
      },
      "id": "j3se-Ud-Spu3"
    },
    {
      "cell_type": "code",
      "source": [
        "# AUGUSTINE! Add your function call HERE"
      ],
      "metadata": {
        "id": "QREnQ1poSmRR"
      },
      "id": "QREnQ1poSmRR",
      "execution_count": null,
      "outputs": []
    },
    {
      "cell_type": "markdown",
      "source": [
        "## Stage6b: Challenger Models\n",
        "\n",
        "So what model do we use as a challenger, and when do we traing it? There are no perfect answers but we can use our model development pipeline to help. Note that our model selection function, auto_classifier_selection, allowed us to generate a range of classifiers, we can use one or all of these classifiers as our challenger. If we decided to ensemble the classifiers as our live model (ir combine the results of all in a voting ensemble for instance) we can select the best single model as our challeger. If we decided to use the best single model as our live model, we can use a boting ensemble as our challenger.\n",
        "\n"
      ],
      "metadata": {
        "id": "4wmYyfyWRmrR"
      },
      "id": "4wmYyfyWRmrR"
    },
    {
      "cell_type": "code",
      "source": [
        "from sklearn.ensemble import VotingClassifier\n",
        "\n",
        "# Prepare our models for ensembling\n",
        "challenger_models = []\n",
        "for i in range(0, all_mdls_desc.__len__()):\n",
        "  challenger_models.append((all_mdls_desc[i], all_mdls[i]))\n",
        "\n",
        "\n",
        "# Instantiate ...\n",
        "vc = VotingClassifier(estimators=challenger_models, voting='hard')\n",
        "\n",
        "# Fit on the training data to train your live model... \n",
        "challenger_mdl = vc.fit(X, y)\n",
        "\n",
        "# Challenge! Compare the results\n",
        "challenger_mdl.predict(X)"
      ],
      "metadata": {
        "id": "_8v9zlaWTd3F"
      },
      "id": "_8v9zlaWTd3F",
      "execution_count": null,
      "outputs": []
    }
  ],
  "metadata": {
    "kernelspec": {
      "display_name": "Python 3",
      "language": "python",
      "name": "python3"
    },
    "language_info": {
      "codemirror_mode": {
        "name": "ipython",
        "version": 3
      },
      "file_extension": ".py",
      "mimetype": "text/x-python",
      "name": "python",
      "nbconvert_exporter": "python",
      "pygments_lexer": "ipython3",
      "version": "3.8.8"
    },
    "colab": {
      "provenance": []
    }
  },
  "nbformat": 4,
  "nbformat_minor": 5
}
